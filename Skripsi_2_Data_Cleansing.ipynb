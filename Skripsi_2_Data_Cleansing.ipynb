{
  "nbformat": 4,
  "nbformat_minor": 0,
  "metadata": {
    "colab": {
      "provenance": [],
      "authorship_tag": "ABX9TyO/ZVqed3pprIQb06FhJujw",
      "include_colab_link": true
    },
    "kernelspec": {
      "name": "python3",
      "display_name": "Python 3"
    },
    "language_info": {
      "name": "python"
    }
  },
  "cells": [
    {
      "cell_type": "markdown",
      "metadata": {
        "id": "view-in-github",
        "colab_type": "text"
      },
      "source": [
        "<a href=\"https://colab.research.google.com/github/chancun2019/SVM-Machin-Learning/blob/main/Skripsi_2_Data_Cleansing.ipynb\" target=\"_parent\"><img src=\"https://colab.research.google.com/assets/colab-badge.svg\" alt=\"Open In Colab\"/></a>"
      ]
    },
    {
      "cell_type": "code",
      "execution_count": 1,
      "metadata": {
        "id": "5FWjCw7KR7b3"
      },
      "outputs": [],
      "source": [
        "import pandas as pd\n",
        "import numpy as np\n",
        "from datetime import datetime,timedelta\n",
        "import pytz\n",
        "import re\n",
        "import nltk\n",
        "from nltk.corpus import stopwords\n",
        "from nltk.tokenize import word_tokenize\n",
        "import ast\n",
        "import string\n",
        "from wordcloud import WordCloud\n",
        "from Sastrawi.Stemmer.StemmerFactory import StemmerFactory\n",
        "import itertools\n",
        "import matplotlib.pyplot as plt\n",
        "import seaborn as sns\n",
        "from googletrans import Translator\n",
        "import io"
      ]
    },
    {
      "cell_type": "code",
      "source": [
        "from google.colab import drive\n",
        "\n",
        "drive.mount('/content/drive')"
      ],
      "metadata": {
        "colab": {
          "base_uri": "https://localhost:8080/"
        },
        "id": "7ZNr_AT1YDhq",
        "outputId": "a7e24ec2-e395-4af1-ee5c-ee843ab30a55"
      },
      "execution_count": 14,
      "outputs": [
        {
          "output_type": "stream",
          "name": "stdout",
          "text": [
            "Drive already mounted at /content/drive; to attempt to forcibly remount, call drive.mount(\"/content/drive\", force_remount=True).\n"
          ]
        }
      ]
    },
    {
      "cell_type": "code",
      "source": [
        "cd 'drive/My Drive/Colab Notebooks/Output1'"
      ],
      "metadata": {
        "colab": {
          "base_uri": "https://localhost:8080/"
        },
        "id": "BBrwK8R6Z5uo",
        "outputId": "e9de9abd-0535-4edc-ccd2-f5b59047f292"
      },
      "execution_count": 15,
      "outputs": [
        {
          "output_type": "stream",
          "name": "stdout",
          "text": [
            "/content/drive/My Drive/Colab Notebooks/Output1\n"
          ]
        }
      ]
    },
    {
      "cell_type": "code",
      "source": [
        "data_mentah = pd.read_csv(\"data_crawling_terakhir_kali.csv\")\n",
        "selected_columns = ['tweet']\n",
        "data_analisis = data_mentah[selected_columns]\n",
        "data_analisis.head()"
      ],
      "metadata": {
        "colab": {
          "base_uri": "https://localhost:8080/",
          "height": 206
        },
        "id": "qENndDgDSWRJ",
        "outputId": "c62c0387-2093-471b-bf77-2a8ca40e8cc6"
      },
      "execution_count": 17,
      "outputs": [
        {
          "output_type": "execute_result",
          "data": {
            "text/plain": [
              "                                               tweet\n",
              "0  Direktur jenderal badan kesehatan dunia who me...\n",
              "1  Semua negara di dunia ini menyerukan pentingny...\n",
              "2  @ato_uban @yo2thok Kirain tak ngefek vaksin pe...\n",
              "3  @ato_uban @yo2thok Sebelumnya dikira demam ber...\n",
              "4  @ato_uban @yo2thok Gejala timbul 5 hari setela..."
            ],
            "text/html": [
              "\n",
              "\n",
              "  <div id=\"df-306027f8-6288-49dd-a8ea-e2dc1e0ebbce\">\n",
              "    <div class=\"colab-df-container\">\n",
              "      <div>\n",
              "<style scoped>\n",
              "    .dataframe tbody tr th:only-of-type {\n",
              "        vertical-align: middle;\n",
              "    }\n",
              "\n",
              "    .dataframe tbody tr th {\n",
              "        vertical-align: top;\n",
              "    }\n",
              "\n",
              "    .dataframe thead th {\n",
              "        text-align: right;\n",
              "    }\n",
              "</style>\n",
              "<table border=\"1\" class=\"dataframe\">\n",
              "  <thead>\n",
              "    <tr style=\"text-align: right;\">\n",
              "      <th></th>\n",
              "      <th>tweet</th>\n",
              "    </tr>\n",
              "  </thead>\n",
              "  <tbody>\n",
              "    <tr>\n",
              "      <th>0</th>\n",
              "      <td>Direktur jenderal badan kesehatan dunia who me...</td>\n",
              "    </tr>\n",
              "    <tr>\n",
              "      <th>1</th>\n",
              "      <td>Semua negara di dunia ini menyerukan pentingny...</td>\n",
              "    </tr>\n",
              "    <tr>\n",
              "      <th>2</th>\n",
              "      <td>@ato_uban @yo2thok Kirain tak ngefek vaksin pe...</td>\n",
              "    </tr>\n",
              "    <tr>\n",
              "      <th>3</th>\n",
              "      <td>@ato_uban @yo2thok Sebelumnya dikira demam ber...</td>\n",
              "    </tr>\n",
              "    <tr>\n",
              "      <th>4</th>\n",
              "      <td>@ato_uban @yo2thok Gejala timbul 5 hari setela...</td>\n",
              "    </tr>\n",
              "  </tbody>\n",
              "</table>\n",
              "</div>\n",
              "      <button class=\"colab-df-convert\" onclick=\"convertToInteractive('df-306027f8-6288-49dd-a8ea-e2dc1e0ebbce')\"\n",
              "              title=\"Convert this dataframe to an interactive table.\"\n",
              "              style=\"display:none;\">\n",
              "\n",
              "  <svg xmlns=\"http://www.w3.org/2000/svg\" height=\"24px\"viewBox=\"0 0 24 24\"\n",
              "       width=\"24px\">\n",
              "    <path d=\"M0 0h24v24H0V0z\" fill=\"none\"/>\n",
              "    <path d=\"M18.56 5.44l.94 2.06.94-2.06 2.06-.94-2.06-.94-.94-2.06-.94 2.06-2.06.94zm-11 1L8.5 8.5l.94-2.06 2.06-.94-2.06-.94L8.5 2.5l-.94 2.06-2.06.94zm10 10l.94 2.06.94-2.06 2.06-.94-2.06-.94-.94-2.06-.94 2.06-2.06.94z\"/><path d=\"M17.41 7.96l-1.37-1.37c-.4-.4-.92-.59-1.43-.59-.52 0-1.04.2-1.43.59L10.3 9.45l-7.72 7.72c-.78.78-.78 2.05 0 2.83L4 21.41c.39.39.9.59 1.41.59.51 0 1.02-.2 1.41-.59l7.78-7.78 2.81-2.81c.8-.78.8-2.07 0-2.86zM5.41 20L4 18.59l7.72-7.72 1.47 1.35L5.41 20z\"/>\n",
              "  </svg>\n",
              "      </button>\n",
              "\n",
              "\n",
              "\n",
              "    <div id=\"df-8fb4f559-1bf5-446b-8269-16b8a8aebc8b\">\n",
              "      <button class=\"colab-df-quickchart\" onclick=\"quickchart('df-8fb4f559-1bf5-446b-8269-16b8a8aebc8b')\"\n",
              "              title=\"Suggest charts.\"\n",
              "              style=\"display:none;\">\n",
              "\n",
              "<svg xmlns=\"http://www.w3.org/2000/svg\" height=\"24px\"viewBox=\"0 0 24 24\"\n",
              "     width=\"24px\">\n",
              "    <g>\n",
              "        <path d=\"M19 3H5c-1.1 0-2 .9-2 2v14c0 1.1.9 2 2 2h14c1.1 0 2-.9 2-2V5c0-1.1-.9-2-2-2zM9 17H7v-7h2v7zm4 0h-2V7h2v10zm4 0h-2v-4h2v4z\"/>\n",
              "    </g>\n",
              "</svg>\n",
              "      </button>\n",
              "    </div>\n",
              "\n",
              "<style>\n",
              "  .colab-df-quickchart {\n",
              "    background-color: #E8F0FE;\n",
              "    border: none;\n",
              "    border-radius: 50%;\n",
              "    cursor: pointer;\n",
              "    display: none;\n",
              "    fill: #1967D2;\n",
              "    height: 32px;\n",
              "    padding: 0 0 0 0;\n",
              "    width: 32px;\n",
              "  }\n",
              "\n",
              "  .colab-df-quickchart:hover {\n",
              "    background-color: #E2EBFA;\n",
              "    box-shadow: 0px 1px 2px rgba(60, 64, 67, 0.3), 0px 1px 3px 1px rgba(60, 64, 67, 0.15);\n",
              "    fill: #174EA6;\n",
              "  }\n",
              "\n",
              "  [theme=dark] .colab-df-quickchart {\n",
              "    background-color: #3B4455;\n",
              "    fill: #D2E3FC;\n",
              "  }\n",
              "\n",
              "  [theme=dark] .colab-df-quickchart:hover {\n",
              "    background-color: #434B5C;\n",
              "    box-shadow: 0px 1px 3px 1px rgba(0, 0, 0, 0.15);\n",
              "    filter: drop-shadow(0px 1px 2px rgba(0, 0, 0, 0.3));\n",
              "    fill: #FFFFFF;\n",
              "  }\n",
              "</style>\n",
              "\n",
              "    <script>\n",
              "      async function quickchart(key) {\n",
              "        const containerElement = document.querySelector('#' + key);\n",
              "        const charts = await google.colab.kernel.invokeFunction(\n",
              "            'suggestCharts', [key], {});\n",
              "      }\n",
              "    </script>\n",
              "\n",
              "      <script>\n",
              "\n",
              "function displayQuickchartButton(domScope) {\n",
              "  let quickchartButtonEl =\n",
              "    domScope.querySelector('#df-8fb4f559-1bf5-446b-8269-16b8a8aebc8b button.colab-df-quickchart');\n",
              "  quickchartButtonEl.style.display =\n",
              "    google.colab.kernel.accessAllowed ? 'block' : 'none';\n",
              "}\n",
              "\n",
              "        displayQuickchartButton(document);\n",
              "      </script>\n",
              "      <style>\n",
              "    .colab-df-container {\n",
              "      display:flex;\n",
              "      flex-wrap:wrap;\n",
              "      gap: 12px;\n",
              "    }\n",
              "\n",
              "    .colab-df-convert {\n",
              "      background-color: #E8F0FE;\n",
              "      border: none;\n",
              "      border-radius: 50%;\n",
              "      cursor: pointer;\n",
              "      display: none;\n",
              "      fill: #1967D2;\n",
              "      height: 32px;\n",
              "      padding: 0 0 0 0;\n",
              "      width: 32px;\n",
              "    }\n",
              "\n",
              "    .colab-df-convert:hover {\n",
              "      background-color: #E2EBFA;\n",
              "      box-shadow: 0px 1px 2px rgba(60, 64, 67, 0.3), 0px 1px 3px 1px rgba(60, 64, 67, 0.15);\n",
              "      fill: #174EA6;\n",
              "    }\n",
              "\n",
              "    [theme=dark] .colab-df-convert {\n",
              "      background-color: #3B4455;\n",
              "      fill: #D2E3FC;\n",
              "    }\n",
              "\n",
              "    [theme=dark] .colab-df-convert:hover {\n",
              "      background-color: #434B5C;\n",
              "      box-shadow: 0px 1px 3px 1px rgba(0, 0, 0, 0.15);\n",
              "      filter: drop-shadow(0px 1px 2px rgba(0, 0, 0, 0.3));\n",
              "      fill: #FFFFFF;\n",
              "    }\n",
              "  </style>\n",
              "\n",
              "      <script>\n",
              "        const buttonEl =\n",
              "          document.querySelector('#df-306027f8-6288-49dd-a8ea-e2dc1e0ebbce button.colab-df-convert');\n",
              "        buttonEl.style.display =\n",
              "          google.colab.kernel.accessAllowed ? 'block' : 'none';\n",
              "\n",
              "        async function convertToInteractive(key) {\n",
              "          const element = document.querySelector('#df-306027f8-6288-49dd-a8ea-e2dc1e0ebbce');\n",
              "          const dataTable =\n",
              "            await google.colab.kernel.invokeFunction('convertToInteractive',\n",
              "                                                     [key], {});\n",
              "          if (!dataTable) return;\n",
              "\n",
              "          const docLinkHtml = 'Like what you see? Visit the ' +\n",
              "            '<a target=\"_blank\" href=https://colab.research.google.com/notebooks/data_table.ipynb>data table notebook</a>'\n",
              "            + ' to learn more about interactive tables.';\n",
              "          element.innerHTML = '';\n",
              "          dataTable['output_type'] = 'display_data';\n",
              "          await google.colab.output.renderOutput(dataTable, element);\n",
              "          const docLink = document.createElement('div');\n",
              "          docLink.innerHTML = docLinkHtml;\n",
              "          element.appendChild(docLink);\n",
              "        }\n",
              "      </script>\n",
              "    </div>\n",
              "  </div>\n"
            ]
          },
          "metadata": {},
          "execution_count": 17
        }
      ]
    },
    {
      "cell_type": "markdown",
      "source": [
        "### cleansing with regex"
      ],
      "metadata": {
        "id": "IkNFicgDS3ZH"
      }
    },
    {
      "cell_type": "code",
      "source": [
        "def clean_text(tweet):\n",
        "    #menghapus RT tag\n",
        "    t1 =re.sub('RT\\s', '', tweet)\n",
        "    #menghapus @_username\n",
        "    #t2 =re.sub('\\B@\\w', '', t1)\n",
        "    t2 =re.sub(r'\\@([\\w]+)',' ', t1)\n",
        "    #mengganti emoji decode dengan spasi\n",
        "    #t3 =emoji.demojize(t2)\n",
        "    t3 = re.sub(r'\\\\u[a-zA-Z0-9]{4}', ' ', t2)\n",
        "    #mengganti enter /n/ dengan spasi\n",
        "    t4 =re.sub('\\n\\s', ' ', t3)\n",
        "    t5 =re.sub('\\n', ' ', t4)\n",
        "    #Non-ascii\n",
        "    t6 = re.sub(r'[^\\x00-\\x7F]+',' ', t5)\n",
        "    #koreksi duplikasi tiga karakter beruntun atau lebih (contoh. yukkk)\n",
        "    t7 = re.sub(r'([a-zA-Z])\\1\\1','\\\\1', t6)\n",
        "    #replace URL\n",
        "    t8 = re.sub(r'http[s]?\\:\\/\\/.[a-zA-Z0-9\\.\\/\\_?=%&#\\-\\+!]+',' ', t7)\n",
        "    t9 = re.sub(r'pic.twitter.com?.[a-zA-Z0-9\\.\\/\\_?=%&#\\-\\+!]+',' ', t8)\n",
        "    # Tahap-10: konversi ke karakter huruf kecil\n",
        "    t10 = t9.lower()\n",
        "    #hapus tagar\n",
        "    #t13 = re.sub(r'\\#([\\w]+)',' ', t12)\n",
        "    t11 = re.sub(r'\\#[a-zA-Z0-9_]+','', t10)\n",
        "    #hapus angka\n",
        "    t12 = re.sub(r'[0-9]+',' ', t11)\n",
        "    # hapus simbol\n",
        "    t13 = re.sub(r'[!$%^&*@#()_+|~=`{}\\[\\]%\\-:\";\\'<>?,.\\/]', ' ', t12)\n",
        "    # Tahap-8: spasi ganda (atau lebih) menjadi satu spasi\n",
        "    t14 = re.sub(' +', ' ', t13)\n",
        "    #Tahap-9: spasi di awal dan akhir kalimat\n",
        "    t15 = re.sub(r'^[ ]|[ ]$','', t14)\n",
        "    return t15"
      ],
      "metadata": {
        "id": "eXTmF6RyS4fV"
      },
      "execution_count": 18,
      "outputs": []
    },
    {
      "cell_type": "code",
      "source": [
        "data_analisis = data_analisis['tweet'].apply(clean_text)\n",
        "data_analisis.head(20)"
      ],
      "metadata": {
        "colab": {
          "base_uri": "https://localhost:8080/"
        },
        "id": "guuKYNDTTCSs",
        "outputId": "6e62d09f-96a4-4054-951a-94b910ac6598"
      },
      "execution_count": 19,
      "outputs": [
        {
          "output_type": "execute_result",
          "data": {
            "text/plain": [
              "0     direktur jenderal badan kesehatan dunia who me...\n",
              "1     semua negara di dunia ini menyerukan pentingny...\n",
              "2     kirain tak ngefek vaksin pertama baik saja sau...\n",
              "3     sebelumnya dikira demam berdarah ada bintik di...\n",
              "4        gejala timbul hari setelah vaksin gak langsung\n",
              "5     ada rail clinic di stasiun delanggu klaten dar...\n",
              "6                  soll info vaksin boster dong makasih\n",
              "7     fess guyss info vaksin booster sekitar uns don...\n",
              "8                                                      \n",
              "9     hasil studi sebut faringitis jadi gejala utama...\n",
              "10    tiap orang kan daya tahan tubuh imun lain itu ...\n",
              "11    hmm yg dimasalahin disini bkn gk bs explore ho...\n",
              "12    memang benar dalam lowongan pekerjaan saat ini...\n",
              "13    lha siapa yang tahu kalau jadi kipi kalau tahu...\n",
              "14    lha kalau tak vaksin tak bisa naik kereta api ...\n",
              "15    ipar kk divaksin x kena covid juga masuk icu b...\n",
              "16    di sini pcv aja kurang laku tun pdhal di kota ...\n",
              "17    benar saya vaksin kali puasa dnah senen kamis ...\n",
              "18    guys klo mau vaksin booster di solo dimana ya ...\n",
              "19                                      kereen semuanya\n",
              "Name: tweet, dtype: object"
            ]
          },
          "metadata": {},
          "execution_count": 19
        }
      ]
    },
    {
      "cell_type": "code",
      "source": [
        "#export DataFrame to CSV file\n",
        "#data_analisis.to_csv('Dataset\\data_tambahan.csv', index=False)\n",
        "data_analisis.to_csv('data_tambahan-masih ada duplikasi data.csv', index=False)"
      ],
      "metadata": {
        "id": "5WU2YypwTLc-"
      },
      "execution_count": 20,
      "outputs": []
    },
    {
      "cell_type": "code",
      "source": [
        "# Membaca data yang sudah dibersihkan dari karakter yang tidak diperlukan\n",
        "base = \"data_tambahan-masih ada duplikasi data.csv\""
      ],
      "metadata": {
        "id": "LuYq3V0dTN0b"
      },
      "execution_count": 21,
      "outputs": []
    },
    {
      "cell_type": "markdown",
      "source": [
        "### Stopword removal"
      ],
      "metadata": {
        "id": "pde_tnQWTXU-"
      }
    },
    {
      "cell_type": "code",
      "source": [
        "from Sastrawi.StopWordRemover.StopWordRemoverFactory import StopWordRemoverFactory\n",
        "factory = StopWordRemoverFactory()\n",
        "stopwordList = factory.get_stop_words()\n",
        "stopwords = factory.create_stop_word_remover()"
      ],
      "metadata": {
        "id": "3bUi1MbcTYnL"
      },
      "execution_count": 22,
      "outputs": []
    },
    {
      "cell_type": "code",
      "source": [
        "data_analisis = data_analisis.apply(lambda x: \" \".join(x for x in x.split()if x not in stopwordList))\n",
        "data_analisis.head()"
      ],
      "metadata": {
        "colab": {
          "base_uri": "https://localhost:8080/"
        },
        "id": "wcsmQ-zSTdNU",
        "outputId": "4794398c-278d-4a54-a485-7b011c1a884b"
      },
      "execution_count": 23,
      "outputs": [
        {
          "output_type": "execute_result",
          "data": {
            "text/plain": [
              "0    direktur jenderal badan kesehatan dunia who me...\n",
              "1    semua negara dunia menyerukan pentingnya imuni...\n",
              "2    kirain tak ngefek vaksin pertama baik saudara ...\n",
              "3    sebelumnya dikira demam berdarah bintik paha s...\n",
              "4               gejala timbul hari vaksin gak langsung\n",
              "Name: tweet, dtype: object"
            ]
          },
          "metadata": {},
          "execution_count": 23
        }
      ]
    },
    {
      "cell_type": "code",
      "source": [
        "# Menghapus data duplikat jika masih ada\n",
        "data_analisis = data_analisis.drop_duplicates()\n",
        "\n",
        "# Menghapus data kosong\n",
        "data_analisis = data_analisis.dropna()"
      ],
      "metadata": {
        "id": "5OC02pDqThrI"
      },
      "execution_count": 24,
      "outputs": []
    },
    {
      "cell_type": "code",
      "source": [
        "# Menyimpan teks preprosess clean\n",
        "data_analisis.to_csv('data_preproses clean.csv', index=False)"
      ],
      "metadata": {
        "id": "gDfnJoZ6Tlxe"
      },
      "execution_count": 25,
      "outputs": []
    },
    {
      "cell_type": "code",
      "source": [
        "data_analisis.head(20)"
      ],
      "metadata": {
        "colab": {
          "base_uri": "https://localhost:8080/"
        },
        "id": "4hnADUW8UiWl",
        "outputId": "82b1ac4e-2ef6-4b8d-99d9-23c054e9fa96"
      },
      "execution_count": 26,
      "outputs": [
        {
          "output_type": "execute_result",
          "data": {
            "text/plain": [
              "0     direktur jenderal badan kesehatan dunia who me...\n",
              "1     semua negara dunia menyerukan pentingnya imuni...\n",
              "2     kirain tak ngefek vaksin pertama baik saudara ...\n",
              "3     sebelumnya dikira demam berdarah bintik paha s...\n",
              "4                gejala timbul hari vaksin gak langsung\n",
              "5     rail clinic stasiun delanggu klaten vaksin hin...\n",
              "6                  soll info vaksin boster dong makasih\n",
              "7     fess guyss info vaksin booster uns dong butuh ...\n",
              "8                                                      \n",
              "9     hasil studi sebut faringitis jadi gejala utama...\n",
              "10    tiap orang kan daya tahan tubuh imun vaksin pe...\n",
              "11    hmm yg dimasalahin disini bkn gk bs explore ho...\n",
              "12    memang benar lowongan pekerjaan banyak mencant...\n",
              "13    lha siapa tahu kalau jadi kipi kalau tahu saki...\n",
              "14    lha kalau tak vaksin tak naik kereta api pesaw...\n",
              "15    ipar kk divaksin x kena covid masuk icu bebera...\n",
              "16    sini pcv aja kurang laku tun pdhal kota kabupa...\n",
              "17    benar vaksin kali puasa dnah senen kamis insya...\n",
              "18                guys klo mau vaksin booster solo fess\n",
              "19                                      kereen semuanya\n",
              "Name: tweet, dtype: object"
            ]
          },
          "metadata": {},
          "execution_count": 26
        }
      ]
    }
  ]
}