{
  "nbformat": 4,
  "nbformat_minor": 0,
  "metadata": {
    "colab": {
      "provenance": [],
      "authorship_tag": "ABX9TyOpuKL0HsmrKkzFAP/oKJNk",
      "include_colab_link": true
    },
    "kernelspec": {
      "name": "python3",
      "display_name": "Python 3"
    },
    "language_info": {
      "name": "python"
    }
  },
  "cells": [
    {
      "cell_type": "markdown",
      "metadata": {
        "id": "view-in-github",
        "colab_type": "text"
      },
      "source": [
        "<a href=\"https://colab.research.google.com/github/chancun2019/SVM-Machin-Learning/blob/main/Skripsi_3_Labelling.ipynb\" target=\"_parent\"><img src=\"https://colab.research.google.com/assets/colab-badge.svg\" alt=\"Open In Colab\"/></a>"
      ]
    },
    {
      "cell_type": "code",
      "execution_count": 1,
      "metadata": {
        "id": "weDSNhU7UpTI"
      },
      "outputs": [],
      "source": [
        "import os\n",
        "from collections import OrderedDict\n",
        "import pandas as pd\n",
        "from nltk.sentiment.vader import SentimentIntensityAnalyzer\n",
        "import json\n",
        "import reprlib\n",
        "import seaborn as sns\n",
        "import matplotlib.pyplot as plt\n",
        "import numpy as np\n",
        "import io"
      ]
    },
    {
      "cell_type": "code",
      "source": [
        "import nltk\n",
        "nltk.download('vader_lexicon')"
      ],
      "metadata": {
        "id": "0b0OCjZbVc4t"
      },
      "execution_count": null,
      "outputs": []
    },
    {
      "cell_type": "code",
      "source": [
        "from google.colab import drive\n",
        "\n",
        "drive.mount('/content/drive')"
      ],
      "metadata": {
        "colab": {
          "base_uri": "https://localhost:8080/"
        },
        "id": "2C8CTW0HaWoq",
        "outputId": "5302a815-cd32-4dc9-e597-1fa81f3b9bde"
      },
      "execution_count": 2,
      "outputs": [
        {
          "output_type": "stream",
          "name": "stdout",
          "text": [
            "Drive already mounted at /content/drive; to attempt to forcibly remount, call drive.mount(\"/content/drive\", force_remount=True).\n"
          ]
        }
      ]
    },
    {
      "cell_type": "code",
      "source": [
        "cd 'drive/My Drive/Colab Notebooks/Output1'"
      ],
      "metadata": {
        "colab": {
          "base_uri": "https://localhost:8080/"
        },
        "id": "iA8d_oO4agEZ",
        "outputId": "eed16c34-41e1-44b5-a033-869a14be8580"
      },
      "execution_count": 3,
      "outputs": [
        {
          "output_type": "stream",
          "name": "stdout",
          "text": [
            "/content/drive/My Drive/Colab Notebooks/Output1\n"
          ]
        }
      ]
    },
    {
      "cell_type": "code",
      "source": [
        "data_anal = pd.read_csv(\"data_preproses clean.csv\")"
      ],
      "metadata": {
        "id": "SBhb5C9AU6y2"
      },
      "execution_count": 4,
      "outputs": []
    },
    {
      "cell_type": "markdown",
      "source": [
        "### Pelabelan dataset dengan InSet (Indonesian Sentiment Lexicon Based"
      ],
      "metadata": {
        "id": "kfh2bVoKVNT8"
      }
    },
    {
      "cell_type": "code",
      "source": [
        "# Memanfaatkan nltk VADER untuk menggunakan leksikon kustom\n",
        "sia1A, sia1B, sia2 = SentimentIntensityAnalyzer(), SentimentIntensityAnalyzer(), SentimentIntensityAnalyzer()\n",
        "# membersihkan leksikon VADER default\n",
        "sia1A.lexicon.clear()\n",
        "sia1B.lexicon.clear()\n",
        "sia2.lexicon.clear()\n",
        "\n",
        "# Membaca leksikon InSet\n",
        "# Leksikon InSet lexicon dibagi menjadi dua, yakni polaritas negatif dan polaritas positif;\n",
        "# kita akan menggunakan nilai compound saja untuk memberi label pada suatu kalimat\n",
        "with open('_json_inset-neg.txt') as f:\n",
        "    data1A = f.read()\n",
        "with open('_json_inset-pos.txt') as f:\n",
        "    data1B = f.read()\n",
        "\n",
        "# Mengubah leksikon sebagai dictionary\n",
        "insetNeg = json.loads(data1A)\n",
        "insetPos = json.loads(data1B)\n",
        "\n",
        "# Update leksikon VADER yang sudah 'dimodifikasi'\n",
        "sia1A.lexicon.update(insetNeg)\n",
        "sia1B.lexicon.update(insetPos)\n",
        "\n",
        "print(reprlib.repr(sia1A.lexicon))\n",
        "print(reprlib.repr(sia1B.lexicon))"
      ],
      "metadata": {
        "colab": {
          "base_uri": "https://localhost:8080/"
        },
        "id": "yTdswBmfVRum",
        "outputId": "0f901104-5573-4d70-d348-b52b5e656f79"
      },
      "execution_count": 5,
      "outputs": [
        {
          "output_type": "stream",
          "name": "stdout",
          "text": [
            "{'(barang) bekas': -4, '(olahraga) bokser': -5, '(tua) uzur': -3, 'Anda': -4, ...}\n",
            "{'(hujan) gerimis': 1, '(warna) dadu': 3, 'Ahad': 3, 'Sri paduka': 4, ...}\n"
          ]
        }
      ]
    },
    {
      "cell_type": "markdown",
      "source": [
        "#### Contoh menggunakan kalimat untuk mencari polarity"
      ],
      "metadata": {
        "id": "Uwy5WiSfWAx8"
      }
    },
    {
      "cell_type": "code",
      "source": [
        "sample = \"lha siapa tahu kalau jadi kipi kalau tahu sakit pastinya gak vaksin\"\n",
        "print(\"insetNeg: \", sia1A.polarity_scores(sample))\n",
        "print(\"insetPos: \", sia1B.polarity_scores(sample))\n",
        "print(\"insetCpdSum: 'compound':\", sia1A.polarity_scores(sample)[\"compound\"] + sia1B.polarity_scores(sample)[\"compound\"])"
      ],
      "metadata": {
        "colab": {
          "base_uri": "https://localhost:8080/"
        },
        "id": "Tbz_5UkdWBVO",
        "outputId": "8dd1e73d-e8df-4016-f2fc-6c1085731e23"
      },
      "execution_count": 6,
      "outputs": [
        {
          "output_type": "stream",
          "name": "stdout",
          "text": [
            "insetNeg:  {'neg': 0.839, 'neu': 0.161, 'pos': 0.0, 'compound': -0.9799}\n",
            "insetPos:  {'neg': 0.0, 'neu': 0.364, 'pos': 0.636, 'compound': 0.9325}\n",
            "insetCpdSum: 'compound': -0.0474\n"
          ]
        }
      ]
    },
    {
      "cell_type": "markdown",
      "source": [
        "## Fungsi untuk mengklasifikasikan kalimat sebagai negatif/positif berdasarkan nilai compound\n"
      ],
      "metadata": {
        "id": "7LvG4dK7WHYG"
      }
    },
    {
      "cell_type": "code",
      "source": [
        "def is_positive_inset(tweet: str) -> bool:\n",
        "    \"\"\"True if tweet has positive compound sentiment, False otherwise.\"\"\"\n",
        "    return sia1A.polarity_scores(tweet)[\"compound\"] + sia1B.polarity_scores(tweet)[\"compound\"] > 0\n",
        "\n",
        "def is_positive_senti(tweet: str) -> bool:\n",
        "    \"\"\"True if tweet has positive compound sentiment, False otherwise.\"\"\"\n",
        "    return sia2.polarity_scores(tweet)[\"compound\"] > 0"
      ],
      "metadata": {
        "id": "UFwJRWZ2WHwd"
      },
      "execution_count": 7,
      "outputs": []
    },
    {
      "cell_type": "code",
      "source": [
        "# Membaca data yang sudah dibersihkan dari karakter yang tidak diperlukan serta dari daftar kata tak baku dan stop words\n",
        "os.chdir(\"Output1\")\n",
        "base = \"data_preproses clean.csv\""
      ],
      "metadata": {
        "id": "sMOtHuXZWKhy"
      },
      "execution_count": 8,
      "outputs": []
    },
    {
      "cell_type": "code",
      "source": [
        "tweets = data_anal[\"tweet\"].astype(str)\n",
        "\n",
        "# Menulis hasil klasifikasi label untuk setiap kalimat berdasarkan nilai compound dari insetNeg dan insetPos\n",
        "output = os.path.splitext(base)[0]+'-lb-inset.txt'\n",
        "with open(output, 'w') as f:\n",
        "    for tweet in tweets:\n",
        "        if is_positive_inset(tweet) == True:\n",
        "            label = \"pos\"\n",
        "        else:\n",
        "            label = \"neg\"\n",
        "        f.write(str(label+'\\n'))\n",
        "\n",
        "# Menulis hasil klasifikasi label untuk setiap kalimat berdasarkan nilai compound dari SentiStrength\n",
        "output = os.path.splitext(base)[0]+'-lb-senti.txt'\n",
        "with open(output, 'w') as f:\n",
        "    for tweet in tweets:\n",
        "        if is_positive_senti(tweet) == True:\n",
        "            label = \"pos\"\n",
        "        else:\n",
        "            label = \"neg\"\n",
        "        f.write(str(label+'\\n'))"
      ],
      "metadata": {
        "id": "UtdprNXlbGjH"
      },
      "execution_count": 9,
      "outputs": []
    },
    {
      "cell_type": "markdown",
      "source": [
        "### Distribusi kelas positif & negatif"
      ],
      "metadata": {
        "id": "1Nl4cTGfbi6G"
      }
    },
    {
      "cell_type": "code",
      "source": [
        "lb_inset = 'data_preproses clean-lb-inset.txt'\n",
        "#x0 = pd.read_csv(lb_actual, header=None,names=['text'], usecols=['label'])\n",
        "x1 = pd.read_csv(lb_inset, header=None, names=['label'])\n",
        "\n",
        "df = pd.DataFrame()\n",
        "df.insert(0, 'InSet', x1['label'])\n",
        "#\n",
        "print(df)"
      ],
      "metadata": {
        "colab": {
          "base_uri": "https://localhost:8080/"
        },
        "id": "MSTuvBZlbfOl",
        "outputId": "7296ea8c-2f09-4b9f-a7c8-e650ad7272be"
      },
      "execution_count": 10,
      "outputs": [
        {
          "output_type": "stream",
          "name": "stdout",
          "text": [
            "    InSet\n",
            "0     neg\n",
            "1     neg\n",
            "2     neg\n",
            "3     neg\n",
            "4     neg\n",
            "..    ...\n",
            "991   pos\n",
            "992   neg\n",
            "993   pos\n",
            "994   neg\n",
            "995   neg\n",
            "\n",
            "[996 rows x 1 columns]\n"
          ]
        }
      ]
    },
    {
      "cell_type": "code",
      "source": [
        "neg1 = df['InSet'].str.count('neg').sum()\n",
        "pos1 = df['InSet'].str.count('pos').sum()\n",
        "sum1 = neg1+pos1\n",
        "\n",
        "print('negatives:',neg1,', positives:',pos1,', total:',sum1, '\\t| inSet')\n",
        "\n",
        "print('{:.2f}'.format(neg1/sum1*100),':', '{:.2f}'.format(pos1/sum1*100), '\\t| inSet')"
      ],
      "metadata": {
        "colab": {
          "base_uri": "https://localhost:8080/"
        },
        "id": "zXWNlJ_obrok",
        "outputId": "43593dd8-e5ff-4735-c06e-626010b4b588"
      },
      "execution_count": 11,
      "outputs": [
        {
          "output_type": "stream",
          "name": "stdout",
          "text": [
            "negatives: 635 , positives: 361 , total: 996 \t| inSet\n",
            "63.76 : 36.24 \t| inSet\n"
          ]
        }
      ]
    },
    {
      "cell_type": "code",
      "source": [
        "# Pie chart, where the slices will be ordered and plotted counter-clockwise:\n",
        "labels = 'Negatif', 'Positive'\n",
        "sizes = [40.68, 59.32]\n",
        "colors = ('#EA5D3F', '#AECD65')\n",
        "\n",
        "fig = plt.figure(figsize=(5,5))\n",
        "ax = plt.axes()\n",
        "ax.pie(sizes, labels = labels, autopct='%.2f%%', colors=colors, textprops={'fontsize': 12})\n",
        "ax.set_title('Lexicon InSet', fontsize=15)\n",
        "plt.show()"
      ],
      "metadata": {
        "colab": {
          "base_uri": "https://localhost:8080/",
          "height": 446
        },
        "id": "4Nti1AYPbyOh",
        "outputId": "e086bf38-35b4-4f00-ff8c-92530e64c64f"
      },
      "execution_count": 12,
      "outputs": [
        {
          "output_type": "display_data",
          "data": {
            "text/plain": [
              "<Figure size 500x500 with 1 Axes>"
            ],
            "image/png": "[encoded data removed]"
          },
          "metadata": {}
        }
      ]
    }
  ]
}