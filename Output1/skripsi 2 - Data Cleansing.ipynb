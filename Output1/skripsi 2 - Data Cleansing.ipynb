{
 "cells": [
  {
   "cell_type": "code",
   "execution_count": 1,
   "id": "bb976e44-d942-4373-a315-e1cbf4bd3365",
   "metadata": {},
   "outputs": [],
   "source": [
    "import pandas as pd\n",
    "import numpy as np\n",
    "from datetime import datetime,timedelta\n",
    "import pytz \n",
    "import re\n",
    "import nltk\n",
    "from nltk.corpus import stopwords\n",
    "from nltk.tokenize import word_tokenize\n",
    "import ast\n",
    "import string\n",
    "from wordcloud import WordCloud\n",
    "from Sastrawi.Stemmer.StemmerFactory import StemmerFactory\n",
    "import itertools\n",
    "import matplotlib.pyplot as plt\n",
    "import seaborn as sns\n",
    "from googletrans import Translator"
   ]
  },
  {
   "cell_type": "code",
   "execution_count": 3,
   "id": "71070823-ae32-4666-a0e9-2dd400083ed1",
   "metadata": {},
   "outputs": [
    {
     "data": {
      "text/html": [
       "<div>\n",
       "<style scoped>\n",
       "    .dataframe tbody tr th:only-of-type {\n",
       "        vertical-align: middle;\n",
       "    }\n",
       "\n",
       "    .dataframe tbody tr th {\n",
       "        vertical-align: top;\n",
       "    }\n",
       "\n",
       "    .dataframe thead th {\n",
       "        text-align: right;\n",
       "    }\n",
       "</style>\n",
       "<table border=\"1\" class=\"dataframe\">\n",
       "  <thead>\n",
       "    <tr style=\"text-align: right;\">\n",
       "      <th></th>\n",
       "      <th>tweet</th>\n",
       "    </tr>\n",
       "  </thead>\n",
       "  <tbody>\n",
       "    <tr>\n",
       "      <th>0</th>\n",
       "      <td>Direktur jenderal badan kesehatan dunia who me...</td>\n",
       "    </tr>\n",
       "    <tr>\n",
       "      <th>1</th>\n",
       "      <td>Semua negara di dunia ini menyerukan pentingny...</td>\n",
       "    </tr>\n",
       "    <tr>\n",
       "      <th>2</th>\n",
       "      <td>@ato_uban @yo2thok Kirain tak ngefek vaksin pe...</td>\n",
       "    </tr>\n",
       "    <tr>\n",
       "      <th>3</th>\n",
       "      <td>@ato_uban @yo2thok Sebelumnya dikira demam ber...</td>\n",
       "    </tr>\n",
       "    <tr>\n",
       "      <th>4</th>\n",
       "      <td>@ato_uban @yo2thok Gejala timbul 5 hari setela...</td>\n",
       "    </tr>\n",
       "  </tbody>\n",
       "</table>\n",
       "</div>"
      ],
      "text/plain": [
       "                                               tweet\n",
       "0  Direktur jenderal badan kesehatan dunia who me...\n",
       "1  Semua negara di dunia ini menyerukan pentingny...\n",
       "2  @ato_uban @yo2thok Kirain tak ngefek vaksin pe...\n",
       "3  @ato_uban @yo2thok Sebelumnya dikira demam ber...\n",
       "4  @ato_uban @yo2thok Gejala timbul 5 hari setela..."
      ]
     },
     "execution_count": 3,
     "metadata": {},
     "output_type": "execute_result"
    }
   ],
   "source": [
    "data_mentah = pd.read_csv(\"data_crawling_terakhir_kali.csv\")\n",
    "selected_columns = ['tweet']\n",
    "data_analisis = data_mentah[selected_columns]\n",
    "data_analisis.head()"
   ]
  },
  {
   "cell_type": "markdown",
   "id": "e73b64ef-8526-4912-8beb-ec3acd306e56",
   "metadata": {},
   "source": [
    "### cleansing with regex"
   ]
  },
  {
   "cell_type": "code",
   "execution_count": 4,
   "id": "b5744961-dae3-49f0-9335-5cbbc1cc91fc",
   "metadata": {},
   "outputs": [],
   "source": [
    "def clean_text(tweet):\n",
    "    #menghapus RT tag\n",
    "    t1 =re.sub('RT\\s', '', tweet)\n",
    "    #menghapus @_username\n",
    "    #t2 =re.sub('\\B@\\w', '', t1)\n",
    "    t2 =re.sub(r'\\@([\\w]+)',' ', t1)\n",
    "    #mengganti emoji decode dengan spasi\n",
    "    #t3 =emoji.demojize(t2)\n",
    "    t3 = re.sub(r'\\\\u[a-zA-Z0-9]{4}', ' ', t2)\n",
    "    #mengganti enter /n/ dengan spasi\n",
    "    t4 =re.sub('\\n\\s', ' ', t3)\n",
    "    t5 =re.sub('\\n', ' ', t4)\n",
    "    #Non-ascii\n",
    "    t6 = re.sub(r'[^\\x00-\\x7F]+',' ', t5)\n",
    "    #koreksi duplikasi tiga karakter beruntun atau lebih (contoh. yukkk)\n",
    "    t7 = re.sub(r'([a-zA-Z])\\1\\1','\\\\1', t6)\n",
    "    #replace URL \n",
    "    t8 = re.sub(r'http[s]?\\:\\/\\/.[a-zA-Z0-9\\.\\/\\_?=%&#\\-\\+!]+',' ', t7)\n",
    "    t9 = re.sub(r'pic.twitter.com?.[a-zA-Z0-9\\.\\/\\_?=%&#\\-\\+!]+',' ', t8)\n",
    "    # Tahap-10: konversi ke karakter huruf kecil\n",
    "    t10 = t9.lower()\n",
    "    #hapus tagar\n",
    "    #t13 = re.sub(r'\\#([\\w]+)',' ', t12)\n",
    "    t11 = re.sub(r'\\#[a-zA-Z0-9_]+','', t10)\n",
    "    #hapus angka\n",
    "    t12 = re.sub(r'[0-9]+',' ', t11)\n",
    "    # hapus simbol\n",
    "    t13 = re.sub(r'[!$%^&*@#()_+|~=`{}\\[\\]%\\-:\";\\'<>?,.\\/]', ' ', t12)\n",
    "    # Tahap-8: spasi ganda (atau lebih) menjadi satu spasi\n",
    "    t14 = re.sub(' +', ' ', t13)\n",
    "    #Tahap-9: spasi di awal dan akhir kalimat\n",
    "    t15 = re.sub(r'^[ ]|[ ]$','', t14)\n",
    "    return t15"
   ]
  },
  {
   "cell_type": "code",
   "execution_count": 5,
   "id": "372944f1-2333-4af2-97ef-75a1af840cf7",
   "metadata": {},
   "outputs": [
    {
     "data": {
      "text/plain": [
       "0     direktur jenderal badan kesehatan dunia who me...\n",
       "1     semua negara di dunia ini menyerukan pentingny...\n",
       "2     kirain tak ngefek vaksin pertama baik saja sau...\n",
       "3     sebelumnya dikira demam berdarah ada bintik di...\n",
       "4        gejala timbul hari setelah vaksin gak langsung\n",
       "5     ada rail clinic di stasiun delanggu klaten dar...\n",
       "6                  soll info vaksin boster dong makasih\n",
       "7     fess guyss info vaksin booster sekitar uns don...\n",
       "8                                                      \n",
       "9     hasil studi sebut faringitis jadi gejala utama...\n",
       "10    tiap orang kan daya tahan tubuh imun lain itu ...\n",
       "11    hmm yg dimasalahin disini bkn gk bs explore ho...\n",
       "12    memang benar dalam lowongan pekerjaan saat ini...\n",
       "13    lha siapa yang tahu kalau jadi kipi kalau tahu...\n",
       "14    lha kalau tak vaksin tak bisa naik kereta api ...\n",
       "15    ipar kk divaksin x kena covid juga masuk icu b...\n",
       "16    di sini pcv aja kurang laku tun pdhal di kota ...\n",
       "17    benar saya vaksin kali puasa dnah senen kamis ...\n",
       "18    guys klo mau vaksin booster di solo dimana ya ...\n",
       "19                                      kereen semuanya\n",
       "Name: tweet, dtype: object"
      ]
     },
     "execution_count": 5,
     "metadata": {},
     "output_type": "execute_result"
    }
   ],
   "source": [
    "data_analisis = data_analisis['tweet'].apply(clean_text)\n",
    "data_analisis.head(20)"
   ]
  },
  {
   "cell_type": "code",
   "execution_count": 6,
   "id": "8ed65fae-7cda-4b2c-ac5d-46a7cb276d16",
   "metadata": {},
   "outputs": [],
   "source": [
    "#export DataFrame to CSV file\n",
    "#data_analisis.to_csv('Dataset\\data_tambahan.csv', index=False)\n",
    "data_analisis.to_csv('data_tambahan-masih ada duplikasi data.csv', index=False)"
   ]
  },
  {
   "cell_type": "code",
   "execution_count": 7,
   "id": "9cd7dcc3-47fd-409f-8c15-45ebe8a7cb0a",
   "metadata": {},
   "outputs": [],
   "source": [
    "# Membaca data yang sudah dibersihkan dari karakter yang tidak diperlukan\n",
    "base = \"data_tambahan-masih ada duplikasi data.csv\""
   ]
  },
  {
   "cell_type": "code",
   "execution_count": 15,
   "id": "3a3d4c88-c942-489d-8a06-d76517de04fa",
   "metadata": {},
   "outputs": [
    {
     "name": "stdout",
     "output_type": "stream",
     "text": [
      "before: 1041\n",
      "after: 1002\n"
     ]
    }
   ],
   "source": [
    "from collections import OrderedDict\n",
    "\n",
    "#menghapus duplikat data\n",
    "\n",
    "input_stream = open(base, \"r\", encoding=\"utf8\")\n",
    "text = input_stream.readlines()\n",
    "input_stream.close()\n",
    "print(\"before:\", len(text))\n",
    "\n",
    "# menghapus duplikasi kalimat dengan mengonversinya ke 'ordered dictionary'\n",
    "newtext = list(OrderedDict.fromkeys(text))\n",
    "print(\"after:\", len(newtext))"
   ]
  },
  {
   "cell_type": "code",
   "execution_count": 17,
   "id": "8de18889-64ae-4de9-b5f5-16bc55b812e8",
   "metadata": {},
   "outputs": [],
   "source": [
    "# Menyimpan teks yang sudah dibersihkan ke file\n",
    "data_analisis.to_csv('data_prepross tanpa duplikasi data.csv', index=False)"
   ]
  },
  {
   "cell_type": "markdown",
   "id": "1058ed8c-bfae-49e6-898d-7be671cc91d4",
   "metadata": {},
   "source": [
    "### Stopword removal"
   ]
  },
  {
   "cell_type": "code",
   "execution_count": 8,
   "id": "c1fb73d6-c9bd-4a63-a6d9-3c987cfdb7e3",
   "metadata": {},
   "outputs": [],
   "source": [
    "from Sastrawi.StopWordRemover.StopWordRemoverFactory import StopWordRemoverFactory\n",
    "factory = StopWordRemoverFactory()\n",
    "stopwordList = factory.get_stop_words()\n",
    "stopwords = factory.create_stop_word_remover()"
   ]
  },
  {
   "cell_type": "code",
   "execution_count": 9,
   "id": "274b94a9-995a-4441-9198-0cbd3c122c22",
   "metadata": {},
   "outputs": [
    {
     "data": {
      "text/plain": [
       "0    direktur jenderal badan kesehatan dunia who me...\n",
       "1    semua negara dunia menyerukan pentingnya imuni...\n",
       "2    kirain tak ngefek vaksin pertama baik saudara ...\n",
       "3    sebelumnya dikira demam berdarah bintik paha s...\n",
       "4               gejala timbul hari vaksin gak langsung\n",
       "Name: tweet, dtype: object"
      ]
     },
     "execution_count": 9,
     "metadata": {},
     "output_type": "execute_result"
    }
   ],
   "source": [
    "data_analisis = data_analisis.apply(lambda x: \" \".join(x for x in x.split()if x not in stopwordList)) \n",
    "data_analisis.head()"
   ]
  },
  {
   "cell_type": "code",
   "execution_count": 10,
   "id": "d7ba3eed-ae40-4862-ba87-1b393fe7dbaa",
   "metadata": {},
   "outputs": [],
   "source": [
    "# Menghapus data duplikat\n",
    "data_analisis = data_analisis.drop_duplicates()\n",
    "\n",
    "# Menghapus data kosong\n",
    "data_analisis = data_analisis.dropna()"
   ]
  },
  {
   "cell_type": "code",
   "execution_count": 11,
   "id": "1cac6f17-28a4-4fc5-9ae6-591229016d68",
   "metadata": {},
   "outputs": [],
   "source": [
    "# Menyimpan teks preprosess clean\n",
    "data_analisis.to_csv('data_preproses clean.csv', index=False)"
   ]
  },
  {
   "cell_type": "code",
   "execution_count": 12,
   "id": "a78610bd-b1ec-4c8b-b95e-e2f0d336261f",
   "metadata": {},
   "outputs": [
    {
     "data": {
      "text/plain": [
       "0       direktur jenderal badan kesehatan dunia who me...\n",
       "1       semua negara dunia menyerukan pentingnya imuni...\n",
       "2       kirain tak ngefek vaksin pertama baik saudara ...\n",
       "3       sebelumnya dikira demam berdarah bintik paha s...\n",
       "4                  gejala timbul hari vaksin gak langsung\n",
       "                              ...                        \n",
       "1035               aku mau pulanggg gamau vaksin moewardi\n",
       "1036    aja si nder tp amannya vaksin dlu soalnya pas ...\n",
       "1037    welcome march semoga virus corona segera menem...\n",
       "1038    iya katanya dikasih obat cacing dulu baru sunt...\n",
       "1039           titik terang pencarian vaksin virus corona\n",
       "Name: tweet, Length: 996, dtype: object"
      ]
     },
     "execution_count": 12,
     "metadata": {},
     "output_type": "execute_result"
    }
   ],
   "source": [
    "data_analisis"
   ]
  },
  {
   "cell_type": "code",
   "execution_count": 13,
   "id": "91d3f873-5c70-4463-a566-3af2927dd108",
   "metadata": {},
   "outputs": [],
   "source": [
    "data_anal = pd.read_csv(\"data_preproses clean.csv\")"
   ]
  },
  {
   "cell_type": "code",
   "execution_count": 14,
   "id": "e6ed815e-5456-4f68-b755-45baed86e97e",
   "metadata": {},
   "outputs": [
    {
     "data": {
      "text/html": [
       "<div>\n",
       "<style scoped>\n",
       "    .dataframe tbody tr th:only-of-type {\n",
       "        vertical-align: middle;\n",
       "    }\n",
       "\n",
       "    .dataframe tbody tr th {\n",
       "        vertical-align: top;\n",
       "    }\n",
       "\n",
       "    .dataframe thead th {\n",
       "        text-align: right;\n",
       "    }\n",
       "</style>\n",
       "<table border=\"1\" class=\"dataframe\">\n",
       "  <thead>\n",
       "    <tr style=\"text-align: right;\">\n",
       "      <th></th>\n",
       "      <th>tweet</th>\n",
       "    </tr>\n",
       "  </thead>\n",
       "  <tbody>\n",
       "    <tr>\n",
       "      <th>0</th>\n",
       "      <td>direktur jenderal badan kesehatan dunia who me...</td>\n",
       "    </tr>\n",
       "    <tr>\n",
       "      <th>1</th>\n",
       "      <td>semua negara dunia menyerukan pentingnya imuni...</td>\n",
       "    </tr>\n",
       "    <tr>\n",
       "      <th>2</th>\n",
       "      <td>kirain tak ngefek vaksin pertama baik saudara ...</td>\n",
       "    </tr>\n",
       "    <tr>\n",
       "      <th>3</th>\n",
       "      <td>sebelumnya dikira demam berdarah bintik paha s...</td>\n",
       "    </tr>\n",
       "    <tr>\n",
       "      <th>4</th>\n",
       "      <td>gejala timbul hari vaksin gak langsung</td>\n",
       "    </tr>\n",
       "    <tr>\n",
       "      <th>...</th>\n",
       "      <td>...</td>\n",
       "    </tr>\n",
       "    <tr>\n",
       "      <th>991</th>\n",
       "      <td>aku mau pulanggg gamau vaksin moewardi</td>\n",
       "    </tr>\n",
       "    <tr>\n",
       "      <th>992</th>\n",
       "      <td>aja si nder tp amannya vaksin dlu soalnya pas ...</td>\n",
       "    </tr>\n",
       "    <tr>\n",
       "      <th>993</th>\n",
       "      <td>welcome march semoga virus corona segera menem...</td>\n",
       "    </tr>\n",
       "    <tr>\n",
       "      <th>994</th>\n",
       "      <td>iya katanya dikasih obat cacing dulu baru sunt...</td>\n",
       "    </tr>\n",
       "    <tr>\n",
       "      <th>995</th>\n",
       "      <td>titik terang pencarian vaksin virus corona</td>\n",
       "    </tr>\n",
       "  </tbody>\n",
       "</table>\n",
       "<p>996 rows × 1 columns</p>\n",
       "</div>"
      ],
      "text/plain": [
       "                                                 tweet\n",
       "0    direktur jenderal badan kesehatan dunia who me...\n",
       "1    semua negara dunia menyerukan pentingnya imuni...\n",
       "2    kirain tak ngefek vaksin pertama baik saudara ...\n",
       "3    sebelumnya dikira demam berdarah bintik paha s...\n",
       "4               gejala timbul hari vaksin gak langsung\n",
       "..                                                 ...\n",
       "991             aku mau pulanggg gamau vaksin moewardi\n",
       "992  aja si nder tp amannya vaksin dlu soalnya pas ...\n",
       "993  welcome march semoga virus corona segera menem...\n",
       "994  iya katanya dikasih obat cacing dulu baru sunt...\n",
       "995         titik terang pencarian vaksin virus corona\n",
       "\n",
       "[996 rows x 1 columns]"
      ]
     },
     "execution_count": 14,
     "metadata": {},
     "output_type": "execute_result"
    }
   ],
   "source": [
    "data_anal"
   ]
  },
  {
   "cell_type": "code",
   "execution_count": null,
   "id": "6ed9f97a-ea93-4e28-b3ad-d768a116191e",
   "metadata": {},
   "outputs": [],
   "source": []
  }
 ],
 "metadata": {
  "kernelspec": {
   "display_name": "Python 3 (ipykernel)",
   "language": "python",
   "name": "python3"
  },
  "language_info": {
   "codemirror_mode": {
    "name": "ipython",
    "version": 3
   },
   "file_extension": ".py",
   "mimetype": "text/x-python",
   "name": "python",
   "nbconvert_exporter": "python",
   "pygments_lexer": "ipython3",
   "version": "3.9.7"
  }
 },
 "nbformat": 4,
 "nbformat_minor": 5
}
