{
 "cells": [
  {
   "cell_type": "code",
   "execution_count": 1,
   "id": "08ddbcde-f3ec-4311-953c-8b4f801961f9",
   "metadata": {},
   "outputs": [],
   "source": [
    "import os\n",
    "import pandas as pd\n",
    "import numpy as np\n",
    "from nltk.tokenize import word_tokenize\n",
    "from statistics import mean, stdev\n",
    "from sklearn.preprocessing import LabelEncoder\n",
    "from sklearn.feature_extraction.text import CountVectorizer, TfidfVectorizer\n",
    "from sklearn import model_selection, svm\n",
    "from sklearn.metrics import accuracy_score\n",
    "from sklearn.svm import SVC\n",
    "from sklearn.metrics import confusion_matrix\n",
    "import seaborn as sns\n",
    "from sklearn.metrics import classification_report\n",
    "from sklearn.model_selection import KFold\n",
    "from sklearn.model_selection import cross_val_score\n",
    "from sklearn.model_selection import GridSearchCV\n",
    "from sklearn.metrics import f1_score, precision_score, recall_score\n",
    "import matplotlib.pyplot as plt\n",
    "\n",
    "## Ukuran plot besar\n",
    "# sns.reset_defaults()\n",
    "# Ukuran plot kecil\n",
    "sns.reset_orig()\n",
    "\n",
    "sns.set_style('whitegrid', {'grid.linestyle': '--'})"
   ]
  },
  {
   "cell_type": "code",
   "execution_count": 2,
   "id": "359e85d4-5f16-4140-b053-05b08516a4ed",
   "metadata": {},
   "outputs": [],
   "source": [
    "np.random.seed(500)"
   ]
  },
  {
   "cell_type": "markdown",
   "id": "87129a87-755f-4b96-a9e4-2f086b0aec2f",
   "metadata": {},
   "source": [
    "## Prepare Input"
   ]
  },
  {
   "cell_type": "markdown",
   "id": "9ef0f2a1-dc5b-4dbe-b529-cf2a75ec666c",
   "metadata": {},
   "source": [
    "Corpus memuat teks yang sudah dibersihkan (di tahap prapengolahan). LabelInset memuat label teks dengan leksikon InSet. LabelSenti memuat label teks dengan leksikon sentiStrength"
   ]
  },
  {
   "cell_type": "code",
   "execution_count": 6,
   "id": "3a282bcd-ace4-4457-9c64-da66a97de9db",
   "metadata": {},
   "outputs": [],
   "source": [
    "# Pastikan untuk mengganti path dengan absolute path direktorimu jika baris berikut dijalankan ulang, atau restart kernel.\n",
    "os.chdir('Output1')\n",
    "base = 'data_preproses clean.txt'\n",
    "lb_inset = 'data_preproses clean-lb-inset.txt'\n",
    "lb_senti = 'data_preproses clean-lb-senti.txt'\n",
    "\n",
    "Corpus = pd.read_csv(base, encoding='latin-1', header=None, sep='\\t', names=['text'], dtype=str)\n",
    "LabelInset = pd.read_csv(lb_inset, encoding='latin-1', header=None, names=['label'], dtype=str)\n",
    "LabelSenti = pd.read_csv(lb_senti, encoding='latin-1', header=None, names=['label'], dtype=str)"
   ]
  },
  {
   "cell_type": "code",
   "execution_count": 7,
   "id": "25554b9e-e372-4a05-86af-168b73fd0fe7",
   "metadata": {},
   "outputs": [],
   "source": [
    "# Pastikan untuk mengganti path dengan absolute path direktorimu jika baris berikut dijalankan ulang, atau restart kernel.\n",
    "base = 'data_preproses clean.txt'\n",
    "lb_inset = 'data_preproses clean-lb-inset.txt'\n",
    "lb_senti = 'data_preproses clean-lb-senti.txt'\n",
    "\n",
    "Corpus = pd.read_csv(base, encoding='latin-1', header=None, sep='\\t', names=['text'], dtype=str)\n",
    "LabelInset = pd.read_csv(lb_inset, encoding='latin-1', header=None, names=['label'], dtype=str)\n",
    "LabelSenti = pd.read_csv(lb_senti, encoding='latin-1', header=None, names=['label'], dtype=str)"
   ]
  },
  {
   "cell_type": "code",
   "execution_count": 8,
   "id": "95cde7df-a3b2-4821-8559-dd5f283c8d99",
   "metadata": {},
   "outputs": [
    {
     "name": "stdout",
     "output_type": "stream",
     "text": [
      "neg: 635 ( 63.76 %) \t pos: 361 ( 36.24 %)  | inset\n",
      "neg: 741 ( 74.40 %) \t pos: 255 ( 25.60 %)  | senti\n"
     ]
    }
   ],
   "source": [
    "# Jumlah positif dan negatif dari setiap jenis pelabelan\n",
    "neg1, pos1 = (LabelInset['label'][LabelInset['label']=='neg']).count(), (LabelInset['label'][LabelInset['label']=='pos']).count()\n",
    "neg2, pos2 = (LabelSenti['label'][LabelSenti['label']=='neg']).count(), (LabelSenti['label'][LabelSenti['label']=='pos']).count()\n",
    "print('neg:', neg1, '(', '{0:.2f}'.format(neg1/(neg1+pos1)*100), '%)','\\t', 'pos:', pos1, '(', '{0:.2f}'.format(pos1/(neg1+pos1)*100),'%)',' | inset')\n",
    "print('neg:', neg2, '(', '{0:.2f}'.format(neg2/(neg2+pos2)*100), '%)','\\t', 'pos:', pos2, '(', '{0:.2f}'.format(pos2/(neg2+pos2)*100),'%)',' | senti')"
   ]
  },
  {
   "cell_type": "markdown",
   "id": "70699e02-f6f0-4be0-b380-5310456989b5",
   "metadata": {},
   "source": [
    "### Menggunakan pelabelan dari Sentistrength "
   ]
  },
  {
   "cell_type": "code",
   "execution_count": 9,
   "id": "85185bec-6b1d-4182-adc9-a17944ae8219",
   "metadata": {},
   "outputs": [],
   "source": [
    "## Menggunakan pelabelan dari sentiwords_id\n",
    "LL = LabelSenti"
   ]
  },
  {
   "cell_type": "code",
   "execution_count": 10,
   "id": "1f998818-4734-4ca8-8c26-eb669226f6fc",
   "metadata": {},
   "outputs": [
    {
     "name": "stdout",
     "output_type": "stream",
     "text": [
      "                                                text\n",
      "0                                              tweet\n",
      "1  direktur jenderal badan kesehatan dunia who me...\n",
      "2  semua negara dunia menyerukan pentingnya imuni... \n",
      "\n",
      "   label\n",
      "0   neg\n",
      "1   neg\n",
      "2   pos\n"
     ]
    }
   ],
   "source": [
    "print(Corpus[:3], '\\n\\n', LL[:3])"
   ]
  },
  {
   "cell_type": "markdown",
   "id": "39e4d93c-1d71-43b0-8424-4328012ff795",
   "metadata": {},
   "source": [
    "### Tokenisasi"
   ]
  },
  {
   "cell_type": "code",
   "execution_count": 11,
   "id": "7220d1c1-5b63-4df3-9a79-61a5ef3daef2",
   "metadata": {},
   "outputs": [],
   "source": [
    "# Step - a : Menghapus baris kosong, jika ada.\n",
    "Corpus['text'].dropna(inplace=True)\n",
    "# # Step - b : Mengganti semua teks ke karakter kecil karena 'oke' dan 'OKE' diinterpretasikan berbeda\n",
    "# Corpus['text'] = [entry.lower() for entry in Corpus['text']] # we've done this in '[1] text cleaning.ipynb'\n",
    "# Step - c : Tokenisasi : Setiap kalimat di dalam korpus akan dipecah menjadi daftar kata/string\n",
    "Corpus['text']= [word_tokenize(entry) for entry in Corpus['text']]\n",
    "\n",
    "for index,entry in enumerate(Corpus['text']):\n",
    "    # Mendeklarasikan list kosong untuk menyimpan daftar kata yang sesuai dengan aturan yang dibuat\n",
    "    Final_words = []\n",
    "    for word in entry:\n",
    "        # Kondisi di bawah adalah untuk mengecek/mempertimbangkan alfabet saja\n",
    "        if word.isalpha():\n",
    "            word_Final = word\n",
    "            Final_words.append(word_Final)\n",
    "    Corpus.loc[index,'text_final'] = str(Final_words)"
   ]
  },
  {
   "cell_type": "code",
   "execution_count": 12,
   "id": "958a36ec-45bb-4f1d-a0ad-efd94f9e2988",
   "metadata": {},
   "outputs": [
    {
     "name": "stdout",
     "output_type": "stream",
     "text": [
      "                                                text  \\\n",
      "0                                            [tweet]   \n",
      "1  [direktur, jenderal, badan, kesehatan, dunia, ...   \n",
      "2  [semua, negara, dunia, menyerukan, pentingnya,...   \n",
      "\n",
      "                                          text_final  \n",
      "0                                          ['tweet']  \n",
      "1  ['direktur', 'jenderal', 'badan', 'kesehatan',...  \n",
      "2  ['semua', 'negara', 'dunia', 'menyerukan', 'pe...  \n"
     ]
    }
   ],
   "source": [
    "print(Corpus[:3])"
   ]
  },
  {
   "cell_type": "markdown",
   "id": "a1fb432c-6851-43c5-a669-492255a936b3",
   "metadata": {},
   "source": [
    "### Split Data\n"
   ]
  },
  {
   "cell_type": "code",
   "execution_count": 13,
   "id": "2a41d45c-2087-4dc5-8a37-bfeb7c03c6cc",
   "metadata": {},
   "outputs": [],
   "source": [
    "# Membagi set data latih dan data uji dengan rasio 70:30\n",
    "Train_X, Test_X, Train_Y, Test_Y = model_selection.train_test_split(Corpus['text_final'],LL['label'],test_size=0.3, random_state=42)\n",
    "# Train_Y_Actual, Test_Y_Actual = model_selection.train_test_split(Corpus['label'],test_size=0.3, random_state=42)"
   ]
  },
  {
   "cell_type": "code",
   "execution_count": 14,
   "id": "305ec0e6-9045-44e7-ba60-eacc73d9b771",
   "metadata": {},
   "outputs": [
    {
     "name": "stdout",
     "output_type": "stream",
     "text": [
      "697 0.6997991967871486 % \n",
      " 299 0.3002008032128514 %\n"
     ]
    }
   ],
   "source": [
    "print(Train_X.size, Train_X.size/(Test_X.size+Train_X.size),'%','\\n',\n",
    "      Test_X.size, Test_X.size/(Test_X.size+Train_X.size),'%')"
   ]
  },
  {
   "cell_type": "code",
   "execution_count": 15,
   "id": "a4b2368b-2b84-41fe-8ab5-cb18155fa71e",
   "metadata": {},
   "outputs": [],
   "source": [
    "# Encoding label menjadi nilai antara 0 and kelas_n-1\n",
    "Encoder = LabelEncoder()\n",
    "Train_Y = Encoder.fit_transform(Train_Y)\n",
    "Test_Y = Encoder.fit_transform(Test_Y)"
   ]
  },
  {
   "cell_type": "markdown",
   "id": "ef3f5d8e-3c60-4a70-88bb-3bfa9a94d69c",
   "metadata": {},
   "source": [
    "### Ekstraksi Fitur Teks"
   ]
  },
  {
   "cell_type": "markdown",
   "id": "c0c0f2f8-adfd-4d02-ac60-1b9c8a0a5b99",
   "metadata": {},
   "source": [
    "#### Bag of Words"
   ]
  },
  {
   "cell_type": "code",
   "execution_count": 16,
   "id": "3473fc0d-e6b6-458b-87db-ac16f2d91d23",
   "metadata": {},
   "outputs": [],
   "source": [
    "vectorizer = CountVectorizer()\n",
    "X = vectorizer.fit_transform(Corpus['text_final'])"
   ]
  },
  {
   "cell_type": "code",
   "execution_count": 17,
   "id": "9678a726-6198-44bc-af6c-81c506af2d15",
   "metadata": {},
   "outputs": [],
   "source": [
    "# Transform Train_X dan Test_X ke vektor BoW\n",
    "Train_X_BoW = vectorizer.transform(Train_X)\n",
    "Test_X_BoW = vectorizer.transform(Test_X)"
   ]
  },
  {
   "cell_type": "markdown",
   "id": "24d05352-900e-48b4-83cf-3798cb809a21",
   "metadata": {},
   "source": [
    "#### Tf_IDF"
   ]
  },
  {
   "cell_type": "code",
   "execution_count": 18,
   "id": "12798618-84d5-40fa-8f5a-b56246feae96",
   "metadata": {},
   "outputs": [],
   "source": [
    "Tfidf_vect = TfidfVectorizer()\n",
    "Tfidf_vect.fit(Corpus['text_final'])\n",
    "\n",
    "X = Tfidf_vect.fit_transform(Corpus['text_final'])"
   ]
  },
  {
   "cell_type": "code",
   "execution_count": 19,
   "id": "45941f31-b11f-42a1-b9fe-2c2d2cf4de55",
   "metadata": {},
   "outputs": [],
   "source": [
    "# Transform Train_X dan Test_X ke vektor TF-IDF\n",
    "Train_X_Tfidf = Tfidf_vect.transform(Train_X)\n",
    "Test_X_Tfidf = Tfidf_vect.transform(Test_X)"
   ]
  },
  {
   "cell_type": "markdown",
   "id": "5439b46e-1af6-4de8-87c5-e59f06ee9c35",
   "metadata": {},
   "source": [
    "### Hyperparameter Optimization using GridSearch CV"
   ]
  },
  {
   "cell_type": "markdown",
   "id": "9e2d7de5-ba45-4668-a9a5-fa34d8a2f841",
   "metadata": {},
   "source": [
    "Sebuah teknik yang digunakan untuk mencari kombinasi terbaik dari hyperparameter dalam sebuah model machine learning menggunakan metode GridSearchCV. Hyperparameter adalah parameter yang ditentukan di luar model machine learning itu sendiri dan tidak dipelajari oleh model selama proses training.\n",
    "<br><br> GridSearch CV adalah metode untuk melakukan pencarian ke dalam ruang hyperparameter secara sistematis. Pada dasarnya, metode ini akan mencoba semua kombinasi yang mungkin dari hyperparameter yang ditentukan sebelumnya dan mengevaluasi performa model untuk setiap kombinasi tersebut menggunakan teknik validasi silang (cross-validation). Dengan menggunakan teknik ini, kita dapat mengidentifikasi kombinasi hyperparameter yang memberikan performa terbaik untuk model kita.\n",
    "<br><br>Proses GridSearch CV bekerja dengan cara berikut:\n",
    "1. Mendefinisikan model yang akan diuji serta daftar hyperparameter yang ingin dioptimasi.\n",
    "2. Menentukan kombinasi yang mungkin dari hyperparameter yang ingin diuji.\n",
    "3. Untuk setiap kombinasi hyperparameter, melakukan training dan evaluasi model menggunakan teknik validasi silang.\n",
    "4. Mencatat performa model untuk setiap kombinasi hyperparameter.\n",
    "5. Memilih kombinasi hyperparameter yang memberikan performa terbaik berdasarkan evaluasi yang dilakukan.\n",
    "6. GridSearch CV memungkinkan kita untuk melakukan eksplorasi sistematis terhadap ruang hyperparameter dan mencari kombinasi yang menghasilkan performa terbaik untuk model kita. Dengan mencoba berbagai kombinasi hyperparameter, kita dapat meningkatkan performa model dan mengoptimalkan hasil prediksi."
   ]
  },
  {
   "cell_type": "code",
   "execution_count": 21,
   "id": "4d9efc56-35f4-4554-8a4e-c5affdf00c5d",
   "metadata": {},
   "outputs": [
    {
     "data": {
      "text/plain": [
       "GridSearchCV(cv=5, estimator=SVC(),\n",
       "             param_grid=[{'C': [1, 100, 1000], 'kernel': ['linear']},\n",
       "                         {'C': [1, 100, 1000],\n",
       "                          'gamma': [0.1, 0.2, 0.3, 0.4, 0.5, 0.6, 0.7, 0.8,\n",
       "                                    0.9],\n",
       "                          'kernel': ['rbf']},\n",
       "                         {'C': [1, 100, 1000], 'degree': [2, 3, 4],\n",
       "                          'gamma': [0.01, 0.02, 0.03, 0.04, 0.05],\n",
       "                          'kernel': ['poly']}],\n",
       "             scoring='accuracy')"
      ]
     },
     "execution_count": 21,
     "metadata": {},
     "output_type": "execute_result"
    }
   ],
   "source": [
    "# instantiate classifier with default hyperparameters with kernel=rbf, C=1.0 and gamma=auto\n",
    "svc=SVC() \n",
    "\n",
    "# declare parameters for hyperparameter tuning\n",
    "parameters = [ {'C':[1, 100, 1000], 'kernel':['linear']},\n",
    "               {'C':[1, 100, 1000], 'kernel':['rbf'], 'gamma':[0.1, 0.2, 0.3, 0.4, 0.5, 0.6, 0.7, 0.8, 0.9]},\n",
    "               {'C':[1, 100, 1000], 'kernel':['poly'], 'degree': [2,3,4] ,'gamma':[0.01,0.02,0.03,0.04,0.05]} \n",
    "              ]\n",
    "\n",
    "grid_search = GridSearchCV(estimator = svc,  \n",
    "                           param_grid = parameters,\n",
    "                           scoring = 'accuracy',\n",
    "                           cv = 5,\n",
    "                           verbose=0)\n",
    "\n",
    "\n",
    "#Train data BoW\n",
    "grid_search.fit(Train_X_BoW, Train_Y)"
   ]
  },
  {
   "cell_type": "code",
   "execution_count": 22,
   "id": "5248dda0-e1b2-4ff1-96ae-d4725fbe5b00",
   "metadata": {},
   "outputs": [
    {
     "name": "stdout",
     "output_type": "stream",
     "text": [
      "Fitting 5 folds for each of 75 candidates, totalling 375 fits\n",
      "[CV 1/5] END ................C=1, kernel=linear;, score=0.771 total time=   0.1s\n",
      "[CV 2/5] END ................C=1, kernel=linear;, score=0.771 total time=   0.1s\n",
      "[CV 3/5] END ................C=1, kernel=linear;, score=0.770 total time=   0.1s\n",
      "[CV 4/5] END ................C=1, kernel=linear;, score=0.784 total time=   0.0s\n",
      "[CV 5/5] END ................C=1, kernel=linear;, score=0.770 total time=   0.1s\n",
      "[CV 1/5] END ..............C=100, kernel=linear;, score=0.793 total time=   0.0s\n",
      "[CV 2/5] END ..............C=100, kernel=linear;, score=0.829 total time=   0.0s\n",
      "[CV 3/5] END ..............C=100, kernel=linear;, score=0.799 total time=   0.0s\n",
      "[CV 4/5] END ..............C=100, kernel=linear;, score=0.777 total time=   0.0s\n",
      "[CV 5/5] END ..............C=100, kernel=linear;, score=0.777 total time=   0.0s\n",
      "[CV 1/5] END .............C=1000, kernel=linear;, score=0.793 total time=   0.0s\n",
      "[CV 2/5] END .............C=1000, kernel=linear;, score=0.829 total time=   0.0s\n",
      "[CV 3/5] END .............C=1000, kernel=linear;, score=0.799 total time=   0.0s\n",
      "[CV 4/5] END .............C=1000, kernel=linear;, score=0.777 total time=   0.0s\n",
      "[CV 5/5] END .............C=1000, kernel=linear;, score=0.777 total time=   0.0s\n",
      "[CV 1/5] END ........C=1, gamma=0.1, kernel=rbf;, score=0.743 total time=   0.0s\n",
      "[CV 2/5] END ........C=1, gamma=0.1, kernel=rbf;, score=0.736 total time=   0.0s\n",
      "[CV 3/5] END ........C=1, gamma=0.1, kernel=rbf;, score=0.741 total time=   0.0s\n",
      "[CV 4/5] END ........C=1, gamma=0.1, kernel=rbf;, score=0.741 total time=   0.0s\n",
      "[CV 5/5] END ........C=1, gamma=0.1, kernel=rbf;, score=0.741 total time=   0.0s\n",
      "[CV 1/5] END ........C=1, gamma=0.2, kernel=rbf;, score=0.743 total time=   0.0s\n",
      "[CV 2/5] END ........C=1, gamma=0.2, kernel=rbf;, score=0.736 total time=   0.0s\n",
      "[CV 3/5] END ........C=1, gamma=0.2, kernel=rbf;, score=0.741 total time=   0.0s\n",
      "[CV 4/5] END ........C=1, gamma=0.2, kernel=rbf;, score=0.741 total time=   0.0s\n",
      "[CV 5/5] END ........C=1, gamma=0.2, kernel=rbf;, score=0.741 total time=   0.0s\n",
      "[CV 1/5] END ........C=1, gamma=0.3, kernel=rbf;, score=0.743 total time=   0.0s\n",
      "[CV 2/5] END ........C=1, gamma=0.3, kernel=rbf;, score=0.736 total time=   0.1s\n",
      "[CV 3/5] END ........C=1, gamma=0.3, kernel=rbf;, score=0.741 total time=   0.0s\n",
      "[CV 4/5] END ........C=1, gamma=0.3, kernel=rbf;, score=0.741 total time=   0.0s\n",
      "[CV 5/5] END ........C=1, gamma=0.3, kernel=rbf;, score=0.741 total time=   0.1s\n",
      "[CV 1/5] END ........C=1, gamma=0.4, kernel=rbf;, score=0.743 total time=   0.1s\n",
      "[CV 2/5] END ........C=1, gamma=0.4, kernel=rbf;, score=0.736 total time=   0.0s\n",
      "[CV 3/5] END ........C=1, gamma=0.4, kernel=rbf;, score=0.741 total time=   0.2s\n",
      "[CV 4/5] END ........C=1, gamma=0.4, kernel=rbf;, score=0.748 total time=   0.0s\n",
      "[CV 5/5] END ........C=1, gamma=0.4, kernel=rbf;, score=0.748 total time=   0.0s\n",
      "[CV 1/5] END ........C=1, gamma=0.5, kernel=rbf;, score=0.743 total time=   0.1s\n",
      "[CV 2/5] END ........C=1, gamma=0.5, kernel=rbf;, score=0.743 total time=   0.1s\n",
      "[CV 3/5] END ........C=1, gamma=0.5, kernel=rbf;, score=0.741 total time=   0.0s\n",
      "[CV 4/5] END ........C=1, gamma=0.5, kernel=rbf;, score=0.748 total time=   0.0s\n",
      "[CV 5/5] END ........C=1, gamma=0.5, kernel=rbf;, score=0.748 total time=   0.0s\n",
      "[CV 1/5] END ........C=1, gamma=0.6, kernel=rbf;, score=0.743 total time=   0.0s\n",
      "[CV 2/5] END ........C=1, gamma=0.6, kernel=rbf;, score=0.743 total time=   0.0s\n",
      "[CV 3/5] END ........C=1, gamma=0.6, kernel=rbf;, score=0.741 total time=   0.1s\n",
      "[CV 4/5] END ........C=1, gamma=0.6, kernel=rbf;, score=0.748 total time=   0.0s\n",
      "[CV 5/5] END ........C=1, gamma=0.6, kernel=rbf;, score=0.748 total time=   0.1s\n",
      "[CV 1/5] END ........C=1, gamma=0.7, kernel=rbf;, score=0.743 total time=   0.2s\n",
      "[CV 2/5] END ........C=1, gamma=0.7, kernel=rbf;, score=0.743 total time=   0.2s\n",
      "[CV 3/5] END ........C=1, gamma=0.7, kernel=rbf;, score=0.755 total time=   0.2s\n",
      "[CV 4/5] END ........C=1, gamma=0.7, kernel=rbf;, score=0.748 total time=   0.2s\n",
      "[CV 5/5] END ........C=1, gamma=0.7, kernel=rbf;, score=0.748 total time=   0.2s\n",
      "[CV 1/5] END ........C=1, gamma=0.8, kernel=rbf;, score=0.743 total time=   0.1s\n",
      "[CV 2/5] END ........C=1, gamma=0.8, kernel=rbf;, score=0.743 total time=   0.2s\n",
      "[CV 3/5] END ........C=1, gamma=0.8, kernel=rbf;, score=0.755 total time=   0.2s\n",
      "[CV 4/5] END ........C=1, gamma=0.8, kernel=rbf;, score=0.748 total time=   0.0s\n",
      "[CV 5/5] END ........C=1, gamma=0.8, kernel=rbf;, score=0.748 total time=   0.2s\n",
      "[CV 1/5] END ........C=1, gamma=0.9, kernel=rbf;, score=0.743 total time=   0.2s\n",
      "[CV 2/5] END ........C=1, gamma=0.9, kernel=rbf;, score=0.743 total time=   0.2s\n",
      "[CV 3/5] END ........C=1, gamma=0.9, kernel=rbf;, score=0.755 total time=   0.1s\n",
      "[CV 4/5] END ........C=1, gamma=0.9, kernel=rbf;, score=0.748 total time=   0.1s\n",
      "[CV 5/5] END ........C=1, gamma=0.9, kernel=rbf;, score=0.748 total time=   0.2s\n",
      "[CV 1/5] END ......C=100, gamma=0.1, kernel=rbf;, score=0.779 total time=   0.2s\n",
      "[CV 2/5] END ......C=100, gamma=0.1, kernel=rbf;, score=0.821 total time=   0.0s\n",
      "[CV 3/5] END ......C=100, gamma=0.1, kernel=rbf;, score=0.806 total time=   0.1s\n",
      "[CV 4/5] END ......C=100, gamma=0.1, kernel=rbf;, score=0.777 total time=   0.1s\n",
      "[CV 5/5] END ......C=100, gamma=0.1, kernel=rbf;, score=0.777 total time=   0.0s\n",
      "[CV 1/5] END ......C=100, gamma=0.2, kernel=rbf;, score=0.786 total time=   0.0s\n",
      "[CV 2/5] END ......C=100, gamma=0.2, kernel=rbf;, score=0.821 total time=   0.0s\n",
      "[CV 3/5] END ......C=100, gamma=0.2, kernel=rbf;, score=0.799 total time=   0.0s\n",
      "[CV 4/5] END ......C=100, gamma=0.2, kernel=rbf;, score=0.784 total time=   0.0s\n",
      "[CV 5/5] END ......C=100, gamma=0.2, kernel=rbf;, score=0.784 total time=   0.1s\n",
      "[CV 1/5] END ......C=100, gamma=0.3, kernel=rbf;, score=0.779 total time=   0.1s\n",
      "[CV 2/5] END ......C=100, gamma=0.3, kernel=rbf;, score=0.821 total time=   0.0s\n",
      "[CV 3/5] END ......C=100, gamma=0.3, kernel=rbf;, score=0.799 total time=   0.0s\n",
      "[CV 4/5] END ......C=100, gamma=0.3, kernel=rbf;, score=0.791 total time=   0.1s\n",
      "[CV 5/5] END ......C=100, gamma=0.3, kernel=rbf;, score=0.777 total time=   0.0s\n",
      "[CV 1/5] END ......C=100, gamma=0.4, kernel=rbf;, score=0.771 total time=   0.0s\n",
      "[CV 2/5] END ......C=100, gamma=0.4, kernel=rbf;, score=0.829 total time=   0.0s\n",
      "[CV 3/5] END ......C=100, gamma=0.4, kernel=rbf;, score=0.784 total time=   0.0s\n",
      "[CV 4/5] END ......C=100, gamma=0.4, kernel=rbf;, score=0.777 total time=   0.0s\n",
      "[CV 5/5] END ......C=100, gamma=0.4, kernel=rbf;, score=0.777 total time=   0.0s\n",
      "[CV 1/5] END ......C=100, gamma=0.5, kernel=rbf;, score=0.786 total time=   0.0s\n",
      "[CV 2/5] END ......C=100, gamma=0.5, kernel=rbf;, score=0.800 total time=   0.0s\n",
      "[CV 3/5] END ......C=100, gamma=0.5, kernel=rbf;, score=0.777 total time=   0.0s\n",
      "[CV 4/5] END ......C=100, gamma=0.5, kernel=rbf;, score=0.763 total time=   0.0s\n",
      "[CV 5/5] END ......C=100, gamma=0.5, kernel=rbf;, score=0.777 total time=   0.0s\n",
      "[CV 1/5] END ......C=100, gamma=0.6, kernel=rbf;, score=0.764 total time=   0.0s\n",
      "[CV 2/5] END ......C=100, gamma=0.6, kernel=rbf;, score=0.793 total time=   0.0s\n",
      "[CV 3/5] END ......C=100, gamma=0.6, kernel=rbf;, score=0.777 total time=   0.0s\n",
      "[CV 4/5] END ......C=100, gamma=0.6, kernel=rbf;, score=0.763 total time=   0.0s\n",
      "[CV 5/5] END ......C=100, gamma=0.6, kernel=rbf;, score=0.777 total time=   0.0s\n",
      "[CV 1/5] END ......C=100, gamma=0.7, kernel=rbf;, score=0.764 total time=   0.0s\n",
      "[CV 2/5] END ......C=100, gamma=0.7, kernel=rbf;, score=0.786 total time=   0.0s\n",
      "[CV 3/5] END ......C=100, gamma=0.7, kernel=rbf;, score=0.748 total time=   0.0s\n",
      "[CV 4/5] END ......C=100, gamma=0.7, kernel=rbf;, score=0.734 total time=   0.0s\n",
      "[CV 5/5] END ......C=100, gamma=0.7, kernel=rbf;, score=0.755 total time=   0.1s\n",
      "[CV 1/5] END ......C=100, gamma=0.8, kernel=rbf;, score=0.750 total time=   0.0s\n",
      "[CV 2/5] END ......C=100, gamma=0.8, kernel=rbf;, score=0.771 total time=   0.0s\n",
      "[CV 3/5] END ......C=100, gamma=0.8, kernel=rbf;, score=0.748 total time=   0.0s\n",
      "[CV 4/5] END ......C=100, gamma=0.8, kernel=rbf;, score=0.755 total time=   0.0s\n",
      "[CV 5/5] END ......C=100, gamma=0.8, kernel=rbf;, score=0.748 total time=   0.0s\n",
      "[CV 1/5] END ......C=100, gamma=0.9, kernel=rbf;, score=0.757 total time=   0.1s\n",
      "[CV 2/5] END ......C=100, gamma=0.9, kernel=rbf;, score=0.771 total time=   0.1s\n",
      "[CV 3/5] END ......C=100, gamma=0.9, kernel=rbf;, score=0.748 total time=   0.1s\n",
      "[CV 4/5] END ......C=100, gamma=0.9, kernel=rbf;, score=0.763 total time=   0.1s\n",
      "[CV 5/5] END ......C=100, gamma=0.9, kernel=rbf;, score=0.741 total time=   0.0s\n",
      "[CV 1/5] END .....C=1000, gamma=0.1, kernel=rbf;, score=0.779 total time=   0.0s\n",
      "[CV 2/5] END .....C=1000, gamma=0.1, kernel=rbf;, score=0.821 total time=   0.0s\n",
      "[CV 3/5] END .....C=1000, gamma=0.1, kernel=rbf;, score=0.806 total time=   0.0s\n",
      "[CV 4/5] END .....C=1000, gamma=0.1, kernel=rbf;, score=0.777 total time=   0.0s\n",
      "[CV 5/5] END .....C=1000, gamma=0.1, kernel=rbf;, score=0.777 total time=   0.0s\n",
      "[CV 1/5] END .....C=1000, gamma=0.2, kernel=rbf;, score=0.786 total time=   0.0s\n",
      "[CV 2/5] END .....C=1000, gamma=0.2, kernel=rbf;, score=0.821 total time=   0.0s\n",
      "[CV 3/5] END .....C=1000, gamma=0.2, kernel=rbf;, score=0.799 total time=   0.1s\n",
      "[CV 4/5] END .....C=1000, gamma=0.2, kernel=rbf;, score=0.784 total time=   0.0s\n",
      "[CV 5/5] END .....C=1000, gamma=0.2, kernel=rbf;, score=0.784 total time=   0.1s\n",
      "[CV 1/5] END .....C=1000, gamma=0.3, kernel=rbf;, score=0.779 total time=   0.0s\n",
      "[CV 2/5] END .....C=1000, gamma=0.3, kernel=rbf;, score=0.821 total time=   0.0s\n",
      "[CV 3/5] END .....C=1000, gamma=0.3, kernel=rbf;, score=0.799 total time=   0.1s\n",
      "[CV 4/5] END .....C=1000, gamma=0.3, kernel=rbf;, score=0.791 total time=   0.1s\n",
      "[CV 5/5] END .....C=1000, gamma=0.3, kernel=rbf;, score=0.777 total time=   0.1s\n",
      "[CV 1/5] END .....C=1000, gamma=0.4, kernel=rbf;, score=0.771 total time=   0.0s\n",
      "[CV 2/5] END .....C=1000, gamma=0.4, kernel=rbf;, score=0.829 total time=   0.0s\n",
      "[CV 3/5] END .....C=1000, gamma=0.4, kernel=rbf;, score=0.784 total time=   0.0s\n",
      "[CV 4/5] END .....C=1000, gamma=0.4, kernel=rbf;, score=0.777 total time=   0.0s\n",
      "[CV 5/5] END .....C=1000, gamma=0.4, kernel=rbf;, score=0.777 total time=   0.1s\n",
      "[CV 1/5] END .....C=1000, gamma=0.5, kernel=rbf;, score=0.786 total time=   0.2s\n",
      "[CV 2/5] END .....C=1000, gamma=0.5, kernel=rbf;, score=0.800 total time=   0.0s\n",
      "[CV 3/5] END .....C=1000, gamma=0.5, kernel=rbf;, score=0.777 total time=   0.1s\n",
      "[CV 4/5] END .....C=1000, gamma=0.5, kernel=rbf;, score=0.763 total time=   0.4s\n",
      "[CV 5/5] END .....C=1000, gamma=0.5, kernel=rbf;, score=0.777 total time=   0.3s\n",
      "[CV 1/5] END .....C=1000, gamma=0.6, kernel=rbf;, score=0.764 total time=   0.1s\n",
      "[CV 2/5] END .....C=1000, gamma=0.6, kernel=rbf;, score=0.793 total time=   0.1s\n",
      "[CV 3/5] END .....C=1000, gamma=0.6, kernel=rbf;, score=0.777 total time=   0.0s\n",
      "[CV 4/5] END .....C=1000, gamma=0.6, kernel=rbf;, score=0.763 total time=   0.0s\n",
      "[CV 5/5] END .....C=1000, gamma=0.6, kernel=rbf;, score=0.777 total time=   0.0s\n",
      "[CV 1/5] END .....C=1000, gamma=0.7, kernel=rbf;, score=0.764 total time=   0.0s\n",
      "[CV 2/5] END .....C=1000, gamma=0.7, kernel=rbf;, score=0.786 total time=   0.0s\n",
      "[CV 3/5] END .....C=1000, gamma=0.7, kernel=rbf;, score=0.748 total time=   0.1s\n",
      "[CV 4/5] END .....C=1000, gamma=0.7, kernel=rbf;, score=0.734 total time=   0.0s\n",
      "[CV 5/5] END .....C=1000, gamma=0.7, kernel=rbf;, score=0.755 total time=   0.3s\n",
      "[CV 1/5] END .....C=1000, gamma=0.8, kernel=rbf;, score=0.750 total time=   0.2s\n",
      "[CV 2/5] END .....C=1000, gamma=0.8, kernel=rbf;, score=0.771 total time=   0.1s\n",
      "[CV 3/5] END .....C=1000, gamma=0.8, kernel=rbf;, score=0.748 total time=   0.0s\n",
      "[CV 4/5] END .....C=1000, gamma=0.8, kernel=rbf;, score=0.755 total time=   0.1s\n",
      "[CV 5/5] END .....C=1000, gamma=0.8, kernel=rbf;, score=0.748 total time=   0.0s\n",
      "[CV 1/5] END .....C=1000, gamma=0.9, kernel=rbf;, score=0.757 total time=   0.1s\n",
      "[CV 2/5] END .....C=1000, gamma=0.9, kernel=rbf;, score=0.771 total time=   0.0s\n",
      "[CV 3/5] END .....C=1000, gamma=0.9, kernel=rbf;, score=0.748 total time=   0.1s\n",
      "[CV 4/5] END .....C=1000, gamma=0.9, kernel=rbf;, score=0.763 total time=   0.1s\n",
      "[CV 5/5] END .....C=1000, gamma=0.9, kernel=rbf;, score=0.741 total time=   0.1s\n",
      "[CV 1/5] END C=1, degree=2, gamma=0.01, kernel=poly;, score=0.743 total time=   0.0s\n",
      "[CV 2/5] END C=1, degree=2, gamma=0.01, kernel=poly;, score=0.736 total time=   0.0s\n",
      "[CV 3/5] END C=1, degree=2, gamma=0.01, kernel=poly;, score=0.741 total time=   0.0s\n",
      "[CV 4/5] END C=1, degree=2, gamma=0.01, kernel=poly;, score=0.741 total time=   0.0s\n",
      "[CV 5/5] END C=1, degree=2, gamma=0.01, kernel=poly;, score=0.741 total time=   0.0s\n",
      "[CV 1/5] END C=1, degree=2, gamma=0.02, kernel=poly;, score=0.743 total time=   0.0s\n",
      "[CV 2/5] END C=1, degree=2, gamma=0.02, kernel=poly;, score=0.736 total time=   0.0s\n",
      "[CV 3/5] END C=1, degree=2, gamma=0.02, kernel=poly;, score=0.741 total time=   0.0s\n",
      "[CV 4/5] END C=1, degree=2, gamma=0.02, kernel=poly;, score=0.741 total time=   0.0s\n",
      "[CV 5/5] END C=1, degree=2, gamma=0.02, kernel=poly;, score=0.741 total time=   0.0s\n",
      "[CV 1/5] END C=1, degree=2, gamma=0.03, kernel=poly;, score=0.743 total time=   0.0s\n",
      "[CV 2/5] END C=1, degree=2, gamma=0.03, kernel=poly;, score=0.736 total time=   0.1s\n",
      "[CV 3/5] END C=1, degree=2, gamma=0.03, kernel=poly;, score=0.741 total time=   0.0s\n",
      "[CV 4/5] END C=1, degree=2, gamma=0.03, kernel=poly;, score=0.741 total time=   0.0s\n",
      "[CV 5/5] END C=1, degree=2, gamma=0.03, kernel=poly;, score=0.741 total time=   0.0s\n",
      "[CV 1/5] END C=1, degree=2, gamma=0.04, kernel=poly;, score=0.743 total time=   0.0s\n",
      "[CV 2/5] END C=1, degree=2, gamma=0.04, kernel=poly;, score=0.736 total time=   0.1s\n",
      "[CV 3/5] END C=1, degree=2, gamma=0.04, kernel=poly;, score=0.741 total time=   0.0s\n",
      "[CV 4/5] END C=1, degree=2, gamma=0.04, kernel=poly;, score=0.741 total time=   0.0s\n",
      "[CV 5/5] END C=1, degree=2, gamma=0.04, kernel=poly;, score=0.741 total time=   0.1s\n",
      "[CV 1/5] END C=1, degree=2, gamma=0.05, kernel=poly;, score=0.743 total time=   0.0s\n",
      "[CV 2/5] END C=1, degree=2, gamma=0.05, kernel=poly;, score=0.736 total time=   0.1s\n",
      "[CV 3/5] END C=1, degree=2, gamma=0.05, kernel=poly;, score=0.741 total time=   0.0s\n",
      "[CV 4/5] END C=1, degree=2, gamma=0.05, kernel=poly;, score=0.741 total time=   0.1s\n",
      "[CV 5/5] END C=1, degree=2, gamma=0.05, kernel=poly;, score=0.741 total time=   0.0s\n",
      "[CV 1/5] END C=1, degree=3, gamma=0.01, kernel=poly;, score=0.743 total time=   0.0s\n",
      "[CV 2/5] END C=1, degree=3, gamma=0.01, kernel=poly;, score=0.736 total time=   0.0s\n",
      "[CV 3/5] END C=1, degree=3, gamma=0.01, kernel=poly;, score=0.741 total time=   0.0s\n",
      "[CV 4/5] END C=1, degree=3, gamma=0.01, kernel=poly;, score=0.741 total time=   0.0s\n",
      "[CV 5/5] END C=1, degree=3, gamma=0.01, kernel=poly;, score=0.741 total time=   0.0s\n",
      "[CV 1/5] END C=1, degree=3, gamma=0.02, kernel=poly;, score=0.743 total time=   0.0s\n",
      "[CV 2/5] END C=1, degree=3, gamma=0.02, kernel=poly;, score=0.736 total time=   0.0s\n",
      "[CV 3/5] END C=1, degree=3, gamma=0.02, kernel=poly;, score=0.741 total time=   0.0s\n",
      "[CV 4/5] END C=1, degree=3, gamma=0.02, kernel=poly;, score=0.741 total time=   0.0s\n",
      "[CV 5/5] END C=1, degree=3, gamma=0.02, kernel=poly;, score=0.741 total time=   0.0s\n",
      "[CV 1/5] END C=1, degree=3, gamma=0.03, kernel=poly;, score=0.743 total time=   0.0s\n",
      "[CV 2/5] END C=1, degree=3, gamma=0.03, kernel=poly;, score=0.736 total time=   0.0s\n",
      "[CV 3/5] END C=1, degree=3, gamma=0.03, kernel=poly;, score=0.741 total time=   0.0s\n",
      "[CV 4/5] END C=1, degree=3, gamma=0.03, kernel=poly;, score=0.741 total time=   0.0s\n",
      "[CV 5/5] END C=1, degree=3, gamma=0.03, kernel=poly;, score=0.741 total time=   0.0s\n",
      "[CV 1/5] END C=1, degree=3, gamma=0.04, kernel=poly;, score=0.743 total time=   0.0s\n",
      "[CV 2/5] END C=1, degree=3, gamma=0.04, kernel=poly;, score=0.736 total time=   0.0s\n",
      "[CV 3/5] END C=1, degree=3, gamma=0.04, kernel=poly;, score=0.741 total time=   0.0s\n",
      "[CV 4/5] END C=1, degree=3, gamma=0.04, kernel=poly;, score=0.741 total time=   0.0s\n",
      "[CV 5/5] END C=1, degree=3, gamma=0.04, kernel=poly;, score=0.741 total time=   0.0s\n",
      "[CV 1/5] END C=1, degree=3, gamma=0.05, kernel=poly;, score=0.743 total time=   0.0s\n",
      "[CV 2/5] END C=1, degree=3, gamma=0.05, kernel=poly;, score=0.736 total time=   0.0s\n",
      "[CV 3/5] END C=1, degree=3, gamma=0.05, kernel=poly;, score=0.741 total time=   0.0s\n",
      "[CV 4/5] END C=1, degree=3, gamma=0.05, kernel=poly;, score=0.741 total time=   0.0s\n",
      "[CV 5/5] END C=1, degree=3, gamma=0.05, kernel=poly;, score=0.741 total time=   0.0s\n",
      "[CV 1/5] END C=1, degree=4, gamma=0.01, kernel=poly;, score=0.743 total time=   0.0s\n",
      "[CV 2/5] END C=1, degree=4, gamma=0.01, kernel=poly;, score=0.736 total time=   0.0s\n",
      "[CV 3/5] END C=1, degree=4, gamma=0.01, kernel=poly;, score=0.741 total time=   0.0s\n",
      "[CV 4/5] END C=1, degree=4, gamma=0.01, kernel=poly;, score=0.741 total time=   0.0s\n",
      "[CV 5/5] END C=1, degree=4, gamma=0.01, kernel=poly;, score=0.741 total time=   0.0s\n",
      "[CV 1/5] END C=1, degree=4, gamma=0.02, kernel=poly;, score=0.743 total time=   0.0s\n",
      "[CV 2/5] END C=1, degree=4, gamma=0.02, kernel=poly;, score=0.736 total time=   0.0s\n",
      "[CV 3/5] END C=1, degree=4, gamma=0.02, kernel=poly;, score=0.741 total time=   0.0s\n",
      "[CV 4/5] END C=1, degree=4, gamma=0.02, kernel=poly;, score=0.741 total time=   0.0s\n",
      "[CV 5/5] END C=1, degree=4, gamma=0.02, kernel=poly;, score=0.741 total time=   0.0s\n",
      "[CV 1/5] END C=1, degree=4, gamma=0.03, kernel=poly;, score=0.743 total time=   0.0s\n",
      "[CV 2/5] END C=1, degree=4, gamma=0.03, kernel=poly;, score=0.736 total time=   0.0s\n",
      "[CV 3/5] END C=1, degree=4, gamma=0.03, kernel=poly;, score=0.741 total time=   0.0s\n",
      "[CV 4/5] END C=1, degree=4, gamma=0.03, kernel=poly;, score=0.741 total time=   0.0s\n",
      "[CV 5/5] END C=1, degree=4, gamma=0.03, kernel=poly;, score=0.741 total time=   0.0s\n",
      "[CV 1/5] END C=1, degree=4, gamma=0.04, kernel=poly;, score=0.743 total time=   0.0s\n",
      "[CV 2/5] END C=1, degree=4, gamma=0.04, kernel=poly;, score=0.736 total time=   0.0s\n",
      "[CV 3/5] END C=1, degree=4, gamma=0.04, kernel=poly;, score=0.741 total time=   0.0s\n",
      "[CV 4/5] END C=1, degree=4, gamma=0.04, kernel=poly;, score=0.741 total time=   0.0s\n",
      "[CV 5/5] END C=1, degree=4, gamma=0.04, kernel=poly;, score=0.741 total time=   0.0s\n",
      "[CV 1/5] END C=1, degree=4, gamma=0.05, kernel=poly;, score=0.743 total time=   0.0s\n",
      "[CV 2/5] END C=1, degree=4, gamma=0.05, kernel=poly;, score=0.736 total time=   0.0s\n",
      "[CV 3/5] END C=1, degree=4, gamma=0.05, kernel=poly;, score=0.741 total time=   0.0s\n",
      "[CV 4/5] END C=1, degree=4, gamma=0.05, kernel=poly;, score=0.741 total time=   0.0s\n",
      "[CV 5/5] END C=1, degree=4, gamma=0.05, kernel=poly;, score=0.741 total time=   0.0s\n",
      "[CV 1/5] END C=100, degree=2, gamma=0.01, kernel=poly;, score=0.743 total time=   0.0s\n",
      "[CV 2/5] END C=100, degree=2, gamma=0.01, kernel=poly;, score=0.736 total time=   0.0s\n",
      "[CV 3/5] END C=100, degree=2, gamma=0.01, kernel=poly;, score=0.741 total time=   0.0s\n",
      "[CV 4/5] END C=100, degree=2, gamma=0.01, kernel=poly;, score=0.741 total time=   0.0s\n",
      "[CV 5/5] END C=100, degree=2, gamma=0.01, kernel=poly;, score=0.741 total time=   0.0s\n",
      "[CV 1/5] END C=100, degree=2, gamma=0.02, kernel=poly;, score=0.743 total time=   0.0s\n",
      "[CV 2/5] END C=100, degree=2, gamma=0.02, kernel=poly;, score=0.736 total time=   0.0s\n",
      "[CV 3/5] END C=100, degree=2, gamma=0.02, kernel=poly;, score=0.741 total time=   0.0s\n",
      "[CV 4/5] END C=100, degree=2, gamma=0.02, kernel=poly;, score=0.741 total time=   0.0s\n",
      "[CV 5/5] END C=100, degree=2, gamma=0.02, kernel=poly;, score=0.741 total time=   0.0s\n",
      "[CV 1/5] END C=100, degree=2, gamma=0.03, kernel=poly;, score=0.743 total time=   0.0s\n",
      "[CV 2/5] END C=100, degree=2, gamma=0.03, kernel=poly;, score=0.736 total time=   0.0s\n",
      "[CV 3/5] END C=100, degree=2, gamma=0.03, kernel=poly;, score=0.741 total time=   0.1s\n",
      "[CV 4/5] END C=100, degree=2, gamma=0.03, kernel=poly;, score=0.741 total time=   0.0s\n",
      "[CV 5/5] END C=100, degree=2, gamma=0.03, kernel=poly;, score=0.741 total time=   0.0s\n",
      "[CV 1/5] END C=100, degree=2, gamma=0.04, kernel=poly;, score=0.743 total time=   0.0s\n",
      "[CV 2/5] END C=100, degree=2, gamma=0.04, kernel=poly;, score=0.736 total time=   0.0s\n",
      "[CV 3/5] END C=100, degree=2, gamma=0.04, kernel=poly;, score=0.741 total time=   0.0s\n",
      "[CV 4/5] END C=100, degree=2, gamma=0.04, kernel=poly;, score=0.741 total time=   0.1s\n",
      "[CV 5/5] END C=100, degree=2, gamma=0.04, kernel=poly;, score=0.741 total time=   0.0s\n",
      "[CV 1/5] END C=100, degree=2, gamma=0.05, kernel=poly;, score=0.743 total time=   0.0s\n",
      "[CV 2/5] END C=100, degree=2, gamma=0.05, kernel=poly;, score=0.736 total time=   0.1s\n",
      "[CV 3/5] END C=100, degree=2, gamma=0.05, kernel=poly;, score=0.741 total time=   0.0s\n",
      "[CV 4/5] END C=100, degree=2, gamma=0.05, kernel=poly;, score=0.741 total time=   0.0s\n",
      "[CV 5/5] END C=100, degree=2, gamma=0.05, kernel=poly;, score=0.741 total time=   0.0s\n",
      "[CV 1/5] END C=100, degree=3, gamma=0.01, kernel=poly;, score=0.743 total time=   0.0s\n",
      "[CV 2/5] END C=100, degree=3, gamma=0.01, kernel=poly;, score=0.736 total time=   0.0s\n",
      "[CV 3/5] END C=100, degree=3, gamma=0.01, kernel=poly;, score=0.741 total time=   0.0s\n",
      "[CV 4/5] END C=100, degree=3, gamma=0.01, kernel=poly;, score=0.741 total time=   0.0s\n",
      "[CV 5/5] END C=100, degree=3, gamma=0.01, kernel=poly;, score=0.741 total time=   0.0s\n",
      "[CV 1/5] END C=100, degree=3, gamma=0.02, kernel=poly;, score=0.743 total time=   0.0s\n",
      "[CV 2/5] END C=100, degree=3, gamma=0.02, kernel=poly;, score=0.736 total time=   0.0s\n",
      "[CV 3/5] END C=100, degree=3, gamma=0.02, kernel=poly;, score=0.741 total time=   0.0s\n",
      "[CV 4/5] END C=100, degree=3, gamma=0.02, kernel=poly;, score=0.741 total time=   0.0s\n",
      "[CV 5/5] END C=100, degree=3, gamma=0.02, kernel=poly;, score=0.741 total time=   0.0s\n",
      "[CV 1/5] END C=100, degree=3, gamma=0.03, kernel=poly;, score=0.743 total time=   0.0s\n",
      "[CV 2/5] END C=100, degree=3, gamma=0.03, kernel=poly;, score=0.736 total time=   0.0s\n",
      "[CV 3/5] END C=100, degree=3, gamma=0.03, kernel=poly;, score=0.741 total time=   0.0s\n",
      "[CV 4/5] END C=100, degree=3, gamma=0.03, kernel=poly;, score=0.741 total time=   0.0s\n",
      "[CV 5/5] END C=100, degree=3, gamma=0.03, kernel=poly;, score=0.741 total time=   0.0s\n",
      "[CV 1/5] END C=100, degree=3, gamma=0.04, kernel=poly;, score=0.743 total time=   0.0s\n",
      "[CV 2/5] END C=100, degree=3, gamma=0.04, kernel=poly;, score=0.736 total time=   0.0s\n",
      "[CV 3/5] END C=100, degree=3, gamma=0.04, kernel=poly;, score=0.741 total time=   0.0s\n",
      "[CV 4/5] END C=100, degree=3, gamma=0.04, kernel=poly;, score=0.741 total time=   0.0s\n",
      "[CV 5/5] END C=100, degree=3, gamma=0.04, kernel=poly;, score=0.741 total time=   0.0s\n",
      "[CV 1/5] END C=100, degree=3, gamma=0.05, kernel=poly;, score=0.743 total time=   0.0s\n",
      "[CV 2/5] END C=100, degree=3, gamma=0.05, kernel=poly;, score=0.736 total time=   0.0s\n",
      "[CV 3/5] END C=100, degree=3, gamma=0.05, kernel=poly;, score=0.741 total time=   0.0s\n",
      "[CV 4/5] END C=100, degree=3, gamma=0.05, kernel=poly;, score=0.741 total time=   0.0s\n",
      "[CV 5/5] END C=100, degree=3, gamma=0.05, kernel=poly;, score=0.741 total time=   0.0s\n",
      "[CV 1/5] END C=100, degree=4, gamma=0.01, kernel=poly;, score=0.743 total time=   0.0s\n",
      "[CV 2/5] END C=100, degree=4, gamma=0.01, kernel=poly;, score=0.736 total time=   0.0s\n",
      "[CV 3/5] END C=100, degree=4, gamma=0.01, kernel=poly;, score=0.741 total time=   0.0s\n",
      "[CV 4/5] END C=100, degree=4, gamma=0.01, kernel=poly;, score=0.741 total time=   0.0s\n",
      "[CV 5/5] END C=100, degree=4, gamma=0.01, kernel=poly;, score=0.741 total time=   0.0s\n",
      "[CV 1/5] END C=100, degree=4, gamma=0.02, kernel=poly;, score=0.743 total time=   0.0s\n",
      "[CV 2/5] END C=100, degree=4, gamma=0.02, kernel=poly;, score=0.736 total time=   0.0s\n",
      "[CV 3/5] END C=100, degree=4, gamma=0.02, kernel=poly;, score=0.741 total time=   0.0s\n",
      "[CV 4/5] END C=100, degree=4, gamma=0.02, kernel=poly;, score=0.741 total time=   0.0s\n",
      "[CV 5/5] END C=100, degree=4, gamma=0.02, kernel=poly;, score=0.741 total time=   0.0s\n",
      "[CV 1/5] END C=100, degree=4, gamma=0.03, kernel=poly;, score=0.743 total time=   0.0s\n",
      "[CV 2/5] END C=100, degree=4, gamma=0.03, kernel=poly;, score=0.736 total time=   0.0s\n",
      "[CV 3/5] END C=100, degree=4, gamma=0.03, kernel=poly;, score=0.741 total time=   0.0s\n",
      "[CV 4/5] END C=100, degree=4, gamma=0.03, kernel=poly;, score=0.741 total time=   0.0s\n",
      "[CV 5/5] END C=100, degree=4, gamma=0.03, kernel=poly;, score=0.741 total time=   0.0s\n",
      "[CV 1/5] END C=100, degree=4, gamma=0.04, kernel=poly;, score=0.743 total time=   0.0s\n",
      "[CV 2/5] END C=100, degree=4, gamma=0.04, kernel=poly;, score=0.736 total time=   0.0s\n",
      "[CV 3/5] END C=100, degree=4, gamma=0.04, kernel=poly;, score=0.741 total time=   0.0s\n",
      "[CV 4/5] END C=100, degree=4, gamma=0.04, kernel=poly;, score=0.741 total time=   0.0s\n",
      "[CV 5/5] END C=100, degree=4, gamma=0.04, kernel=poly;, score=0.741 total time=   0.0s\n",
      "[CV 1/5] END C=100, degree=4, gamma=0.05, kernel=poly;, score=0.743 total time=   0.0s\n",
      "[CV 2/5] END C=100, degree=4, gamma=0.05, kernel=poly;, score=0.736 total time=   0.0s\n",
      "[CV 3/5] END C=100, degree=4, gamma=0.05, kernel=poly;, score=0.741 total time=   0.0s\n",
      "[CV 4/5] END C=100, degree=4, gamma=0.05, kernel=poly;, score=0.741 total time=   0.0s\n",
      "[CV 5/5] END C=100, degree=4, gamma=0.05, kernel=poly;, score=0.741 total time=   0.0s\n",
      "[CV 1/5] END C=1000, degree=2, gamma=0.01, kernel=poly;, score=0.743 total time=   0.0s\n",
      "[CV 2/5] END C=1000, degree=2, gamma=0.01, kernel=poly;, score=0.736 total time=   0.0s\n",
      "[CV 3/5] END C=1000, degree=2, gamma=0.01, kernel=poly;, score=0.741 total time=   0.0s\n",
      "[CV 4/5] END C=1000, degree=2, gamma=0.01, kernel=poly;, score=0.741 total time=   0.0s\n",
      "[CV 5/5] END C=1000, degree=2, gamma=0.01, kernel=poly;, score=0.741 total time=   0.0s\n",
      "[CV 1/5] END C=1000, degree=2, gamma=0.02, kernel=poly;, score=0.743 total time=   0.0s\n",
      "[CV 2/5] END C=1000, degree=2, gamma=0.02, kernel=poly;, score=0.736 total time=   0.0s\n",
      "[CV 3/5] END C=1000, degree=2, gamma=0.02, kernel=poly;, score=0.741 total time=   0.0s\n",
      "[CV 4/5] END C=1000, degree=2, gamma=0.02, kernel=poly;, score=0.741 total time=   0.0s\n",
      "[CV 5/5] END C=1000, degree=2, gamma=0.02, kernel=poly;, score=0.741 total time=   0.0s\n",
      "[CV 1/5] END C=1000, degree=2, gamma=0.03, kernel=poly;, score=0.743 total time=   0.0s\n",
      "[CV 2/5] END C=1000, degree=2, gamma=0.03, kernel=poly;, score=0.750 total time=   0.0s\n",
      "[CV 3/5] END C=1000, degree=2, gamma=0.03, kernel=poly;, score=0.755 total time=   0.1s\n",
      "[CV 4/5] END C=1000, degree=2, gamma=0.03, kernel=poly;, score=0.748 total time=   0.0s\n",
      "[CV 5/5] END C=1000, degree=2, gamma=0.03, kernel=poly;, score=0.748 total time=   0.0s\n",
      "[CV 1/5] END C=1000, degree=2, gamma=0.04, kernel=poly;, score=0.736 total time=   0.0s\n",
      "[CV 2/5] END C=1000, degree=2, gamma=0.04, kernel=poly;, score=0.750 total time=   0.1s\n",
      "[CV 3/5] END C=1000, degree=2, gamma=0.04, kernel=poly;, score=0.763 total time=   0.1s\n",
      "[CV 4/5] END C=1000, degree=2, gamma=0.04, kernel=poly;, score=0.748 total time=   0.0s\n",
      "[CV 5/5] END C=1000, degree=2, gamma=0.04, kernel=poly;, score=0.748 total time=   0.0s\n",
      "[CV 1/5] END C=1000, degree=2, gamma=0.05, kernel=poly;, score=0.736 total time=   0.1s\n",
      "[CV 2/5] END C=1000, degree=2, gamma=0.05, kernel=poly;, score=0.750 total time=   0.0s\n",
      "[CV 3/5] END C=1000, degree=2, gamma=0.05, kernel=poly;, score=0.763 total time=   0.0s\n",
      "[CV 4/5] END C=1000, degree=2, gamma=0.05, kernel=poly;, score=0.748 total time=   0.1s\n",
      "[CV 5/5] END C=1000, degree=2, gamma=0.05, kernel=poly;, score=0.748 total time=   0.1s\n",
      "[CV 1/5] END C=1000, degree=3, gamma=0.01, kernel=poly;, score=0.743 total time=   0.0s\n",
      "[CV 2/5] END C=1000, degree=3, gamma=0.01, kernel=poly;, score=0.736 total time=   0.0s\n",
      "[CV 3/5] END C=1000, degree=3, gamma=0.01, kernel=poly;, score=0.741 total time=   0.0s\n",
      "[CV 4/5] END C=1000, degree=3, gamma=0.01, kernel=poly;, score=0.741 total time=   0.0s\n",
      "[CV 5/5] END C=1000, degree=3, gamma=0.01, kernel=poly;, score=0.741 total time=   0.0s\n",
      "[CV 1/5] END C=1000, degree=3, gamma=0.02, kernel=poly;, score=0.743 total time=   0.1s\n",
      "[CV 2/5] END C=1000, degree=3, gamma=0.02, kernel=poly;, score=0.736 total time=   0.0s\n",
      "[CV 3/5] END C=1000, degree=3, gamma=0.02, kernel=poly;, score=0.741 total time=   0.0s\n",
      "[CV 4/5] END C=1000, degree=3, gamma=0.02, kernel=poly;, score=0.741 total time=   0.3s\n",
      "[CV 5/5] END C=1000, degree=3, gamma=0.02, kernel=poly;, score=0.741 total time=   0.2s\n",
      "[CV 1/5] END C=1000, degree=3, gamma=0.03, kernel=poly;, score=0.743 total time=   0.0s\n",
      "[CV 2/5] END C=1000, degree=3, gamma=0.03, kernel=poly;, score=0.736 total time=   0.1s\n",
      "[CV 3/5] END C=1000, degree=3, gamma=0.03, kernel=poly;, score=0.741 total time=   0.3s\n",
      "[CV 4/5] END C=1000, degree=3, gamma=0.03, kernel=poly;, score=0.741 total time=   0.1s\n",
      "[CV 5/5] END C=1000, degree=3, gamma=0.03, kernel=poly;, score=0.741 total time=   0.0s\n",
      "[CV 1/5] END C=1000, degree=3, gamma=0.04, kernel=poly;, score=0.743 total time=   0.0s\n",
      "[CV 2/5] END C=1000, degree=3, gamma=0.04, kernel=poly;, score=0.736 total time=   0.0s\n",
      "[CV 3/5] END C=1000, degree=3, gamma=0.04, kernel=poly;, score=0.741 total time=   0.0s\n",
      "[CV 4/5] END C=1000, degree=3, gamma=0.04, kernel=poly;, score=0.741 total time=   0.0s\n",
      "[CV 5/5] END C=1000, degree=3, gamma=0.04, kernel=poly;, score=0.741 total time=   0.0s\n",
      "[CV 1/5] END C=1000, degree=3, gamma=0.05, kernel=poly;, score=0.743 total time=   0.0s\n",
      "[CV 2/5] END C=1000, degree=3, gamma=0.05, kernel=poly;, score=0.736 total time=   0.0s\n",
      "[CV 3/5] END C=1000, degree=3, gamma=0.05, kernel=poly;, score=0.741 total time=   0.0s\n",
      "[CV 4/5] END C=1000, degree=3, gamma=0.05, kernel=poly;, score=0.741 total time=   0.0s\n",
      "[CV 5/5] END C=1000, degree=3, gamma=0.05, kernel=poly;, score=0.741 total time=   0.0s\n",
      "[CV 1/5] END C=1000, degree=4, gamma=0.01, kernel=poly;, score=0.743 total time=   0.0s\n",
      "[CV 2/5] END C=1000, degree=4, gamma=0.01, kernel=poly;, score=0.736 total time=   0.0s\n",
      "[CV 3/5] END C=1000, degree=4, gamma=0.01, kernel=poly;, score=0.741 total time=   0.0s\n",
      "[CV 4/5] END C=1000, degree=4, gamma=0.01, kernel=poly;, score=0.741 total time=   0.0s\n",
      "[CV 5/5] END C=1000, degree=4, gamma=0.01, kernel=poly;, score=0.741 total time=   0.0s\n",
      "[CV 1/5] END C=1000, degree=4, gamma=0.02, kernel=poly;, score=0.743 total time=   0.1s\n",
      "[CV 2/5] END C=1000, degree=4, gamma=0.02, kernel=poly;, score=0.736 total time=   0.0s\n",
      "[CV 3/5] END C=1000, degree=4, gamma=0.02, kernel=poly;, score=0.741 total time=   0.0s\n",
      "[CV 4/5] END C=1000, degree=4, gamma=0.02, kernel=poly;, score=0.741 total time=   0.0s\n",
      "[CV 5/5] END C=1000, degree=4, gamma=0.02, kernel=poly;, score=0.741 total time=   0.0s\n",
      "[CV 1/5] END C=1000, degree=4, gamma=0.03, kernel=poly;, score=0.743 total time=   0.1s\n",
      "[CV 2/5] END C=1000, degree=4, gamma=0.03, kernel=poly;, score=0.736 total time=   0.0s\n",
      "[CV 3/5] END C=1000, degree=4, gamma=0.03, kernel=poly;, score=0.741 total time=   0.0s\n",
      "[CV 4/5] END C=1000, degree=4, gamma=0.03, kernel=poly;, score=0.741 total time=   0.0s\n",
      "[CV 5/5] END C=1000, degree=4, gamma=0.03, kernel=poly;, score=0.741 total time=   0.0s\n",
      "[CV 1/5] END C=1000, degree=4, gamma=0.04, kernel=poly;, score=0.743 total time=   0.0s\n",
      "[CV 2/5] END C=1000, degree=4, gamma=0.04, kernel=poly;, score=0.736 total time=   0.1s\n",
      "[CV 3/5] END C=1000, degree=4, gamma=0.04, kernel=poly;, score=0.741 total time=   0.0s\n",
      "[CV 4/5] END C=1000, degree=4, gamma=0.04, kernel=poly;, score=0.741 total time=   0.0s\n",
      "[CV 5/5] END C=1000, degree=4, gamma=0.04, kernel=poly;, score=0.741 total time=   0.1s\n",
      "[CV 1/5] END C=1000, degree=4, gamma=0.05, kernel=poly;, score=0.743 total time=   0.0s\n",
      "[CV 2/5] END C=1000, degree=4, gamma=0.05, kernel=poly;, score=0.736 total time=   0.0s\n",
      "[CV 3/5] END C=1000, degree=4, gamma=0.05, kernel=poly;, score=0.741 total time=   0.0s\n",
      "[CV 4/5] END C=1000, degree=4, gamma=0.05, kernel=poly;, score=0.741 total time=   0.0s\n",
      "[CV 5/5] END C=1000, degree=4, gamma=0.05, kernel=poly;, score=0.741 total time=   0.0s\n"
     ]
    },
    {
     "data": {
      "text/plain": [
       "GridSearchCV(cv=5, estimator=SVC(),\n",
       "             param_grid=[{'C': [1, 100, 1000], 'kernel': ['linear']},\n",
       "                         {'C': [1, 100, 1000],\n",
       "                          'gamma': [0.1, 0.2, 0.3, 0.4, 0.5, 0.6, 0.7, 0.8,\n",
       "                                    0.9],\n",
       "                          'kernel': ['rbf']},\n",
       "                         {'C': [1, 100, 1000], 'degree': [2, 3, 4],\n",
       "                          'gamma': [0.01, 0.02, 0.03, 0.04, 0.05],\n",
       "                          'kernel': ['poly']}],\n",
       "             scoring='accuracy', verbose=3)"
      ]
     },
     "execution_count": 22,
     "metadata": {},
     "output_type": "execute_result"
    }
   ],
   "source": [
    "grid_search_Tfidf = GridSearchCV(estimator = svc,  \n",
    "                           param_grid = parameters,\n",
    "                           scoring = 'accuracy',\n",
    "                           cv = 5,\n",
    "                           verbose=3)\n",
    "#Train data Term Presence\n",
    "grid_search_Tfidf.fit(Train_X_Tfidf, Train_Y)"
   ]
  },
  {
   "cell_type": "code",
   "execution_count": 23,
   "id": "2ead7337-6521-4059-989b-5758c59b10b9",
   "metadata": {},
   "outputs": [
    {
     "name": "stdout",
     "output_type": "stream",
     "text": [
      "\n",
      "\n",
      "---BoW---\n",
      "\n",
      "GridSearch CV best score : 0.8106\n",
      "\n",
      "Parameters that give the best results : {'C': 1, 'kernel': 'linear'}\n",
      "\n",
      "Estimator that was chosen by the search : SVC(C=1, kernel='linear')\n",
      "\n",
      "\n",
      "---TF-IDF---\n",
      "\n",
      "GridSearch CV best score : 0.7948\n",
      "\n",
      "Parameters that give the best results : {'C': 100, 'gamma': 0.2, 'kernel': 'rbf'}\n",
      "\n",
      "Estimator that was chosen by the search : SVC(C=100, gamma=0.2)\n"
     ]
    }
   ],
   "source": [
    "### BoW ###\n",
    "# examine the best model\n",
    "# best score achieved during the GridSearchCV\n",
    "print('\\n\\n---BoW---\\n')\n",
    "print('GridSearch CV best score : {:.4f}\\n'.format(grid_search.best_score_))\n",
    "# print parameters that give the best results\n",
    "print('Parameters that give the best results :', (grid_search.best_params_))\n",
    "# print estimator that was chosen by the GridSearch\n",
    "print('\\nEstimator that was chosen by the search :', (grid_search.best_estimator_))\n",
    "\n",
    "### TF-IDF ###\n",
    "# examine the best model\n",
    "# best score achieved during the GridSearchCV\n",
    "print('\\n\\n---TF-IDF---\\n')\n",
    "print('GridSearch CV best score : {:.4f}\\n'.format(grid_search_Tfidf.best_score_))\n",
    "# print parameters that give the best results\n",
    "print('Parameters that give the best results :', (grid_search_Tfidf.best_params_))\n",
    "# print estimator that was chosen by the GridSearch\n",
    "print('\\nEstimator that was chosen by the search :', (grid_search_Tfidf.best_estimator_))"
   ]
  },
  {
   "cell_type": "code",
   "execution_count": 24,
   "id": "079437a3-d5c7-4838-a474-9bb0b8177994",
   "metadata": {},
   "outputs": [
    {
     "name": "stdout",
     "output_type": "stream",
     "text": [
      "GridSearch CV score on test set: 0.7993\n",
      "GridSearch CV score on test set: 0.8261\n"
     ]
    }
   ],
   "source": [
    "# calculate GridSearch CV score on test set\n",
    "print('GridSearch CV score on test set: {0:0.4f}'.format(grid_search.score(Test_X_BoW, Test_Y)))\n",
    "# calculate GridSearch CV score on test set\n",
    "print('GridSearch CV score on test set: {0:0.4f}'.format(grid_search_Tfidf.score(Test_X_Tfidf, Test_Y)))"
   ]
  },
  {
   "cell_type": "markdown",
   "id": "c507896a-e492-4316-80d0-9d129e5cfa04",
   "metadata": {},
   "source": [
    "### Definisikan Classifier"
   ]
  },
  {
   "cell_type": "markdown",
   "id": "5e8feda9-83d6-46e8-96f5-a95e038af055",
   "metadata": {},
   "source": [
    "Mendefinisikan clisifier berdasarkan best score pada masing-masing kombinasi fitur ekstraksi dan leksikon"
   ]
  },
  {
   "cell_type": "code",
   "execution_count": 26,
   "id": "123cd062-9787-4366-8ed9-1dd5cff09480",
   "metadata": {},
   "outputs": [],
   "source": [
    "linear = svm.SVC(kernel='linear', C=1.0, random_state=42) # hasil hyperparameter tunning Grid Search CV dengan data BoW\n",
    "rbf=SVC(C=100.0,  gamma=0.2, random_state=42) #hasil hyperparameter tunning Grid Search CV dengan data TF-IDF"
   ]
  },
  {
   "cell_type": "markdown",
   "id": "6d19911c-4d2e-4fe5-b467-3ca75d948680",
   "metadata": {},
   "source": [
    "### Klasifikasi dengan SVM"
   ]
  },
  {
   "cell_type": "markdown",
   "id": "4cb0e086-7b18-468b-9f42-77cea6564ba8",
   "metadata": {},
   "source": [
    "#### BoW"
   ]
  },
  {
   "cell_type": "code",
   "execution_count": 29,
   "id": "4b83473e-a2de-4c11-a8d0-ff8f9d5aac19",
   "metadata": {},
   "outputs": [
    {
     "name": "stdout",
     "output_type": "stream",
     "text": [
      "Model accuracy score with linear kernel and C=1.0  ->  79.93311036789298\n"
     ]
    }
   ],
   "source": [
    "# SVM dengan Karnel Linier dengan default hyperparameter (C=1.0)\n",
    "## fitting data latih pada classifier\n",
    "linear.fit(Train_X_BoW,Train_Y)\n",
    "\n",
    "## memprediksi label pada set data uji\n",
    "pred_SVM_BoW_Linear1 = linear.predict(Test_X_BoW)\n",
    "\n",
    "## Menggunakan fungsi accuracy_score untuk mendapat nilai akurasi\n",
    "accuracy_Bow_linear = accuracy_score(Test_Y, pred_SVM_BoW_Linear1)*100\n",
    "print('Model accuracy score with linear kernel and C=1.0  -> ', accuracy_Bow_linear)"
   ]
  },
  {
   "cell_type": "markdown",
   "id": "c6df5ef9-716d-4984-a04e-c7a4f7c46866",
   "metadata": {},
   "source": [
    "#### TF-IDF"
   ]
  },
  {
   "cell_type": "code",
   "execution_count": 30,
   "id": "fd23fc3b-a633-4040-b324-b05ac90b75c4",
   "metadata": {},
   "outputs": [
    {
     "name": "stdout",
     "output_type": "stream",
     "text": [
      "Model accuracy score with rbf kernel and C=100.0 ->  82.6086956521739\n"
     ]
    }
   ],
   "source": [
    "#### SVM dengan Karnel RBF dan C=1000.0 gamma=0.1####\n",
    "# fitting data latih pada classifier\n",
    "rbf.fit(Train_X_Tfidf, Train_Y)\n",
    "\n",
    "# memprediksi label pada set data uji\n",
    "predictions_SVM_Tfidf_RBF1000 = rbf.predict(Test_X_Tfidf)\n",
    "\n",
    "# Menggunakan fungsi accuracy_score untuk mendapat nilai akurasi\n",
    "accuracy_Tfidf_rbf1000 = accuracy_score(Test_Y, predictions_SVM_Tfidf_RBF1000)*100\n",
    "print('Model accuracy score with rbf kernel and C=100.0 -> ', accuracy_Tfidf_rbf1000)"
   ]
  },
  {
   "cell_type": "code",
   "execution_count": 31,
   "id": "4e92b4fd-aa77-40b5-9b0d-d06d4ac073ca",
   "metadata": {},
   "outputs": [
    {
     "data": {
      "text/html": [
       "<div>\n",
       "<style scoped>\n",
       "    .dataframe tbody tr th:only-of-type {\n",
       "        vertical-align: middle;\n",
       "    }\n",
       "\n",
       "    .dataframe tbody tr th {\n",
       "        vertical-align: top;\n",
       "    }\n",
       "\n",
       "    .dataframe thead th {\n",
       "        text-align: right;\n",
       "    }\n",
       "</style>\n",
       "<table border=\"1\" class=\"dataframe\">\n",
       "  <thead>\n",
       "    <tr style=\"text-align: right;\">\n",
       "      <th></th>\n",
       "      <th>Lexicon Values</th>\n",
       "      <th>Predicted Values</th>\n",
       "    </tr>\n",
       "  </thead>\n",
       "  <tbody>\n",
       "    <tr>\n",
       "      <th>0</th>\n",
       "      <td>0</td>\n",
       "      <td>0</td>\n",
       "    </tr>\n",
       "    <tr>\n",
       "      <th>1</th>\n",
       "      <td>0</td>\n",
       "      <td>0</td>\n",
       "    </tr>\n",
       "    <tr>\n",
       "      <th>2</th>\n",
       "      <td>0</td>\n",
       "      <td>0</td>\n",
       "    </tr>\n",
       "    <tr>\n",
       "      <th>3</th>\n",
       "      <td>1</td>\n",
       "      <td>0</td>\n",
       "    </tr>\n",
       "    <tr>\n",
       "      <th>4</th>\n",
       "      <td>0</td>\n",
       "      <td>0</td>\n",
       "    </tr>\n",
       "    <tr>\n",
       "      <th>5</th>\n",
       "      <td>0</td>\n",
       "      <td>0</td>\n",
       "    </tr>\n",
       "    <tr>\n",
       "      <th>6</th>\n",
       "      <td>1</td>\n",
       "      <td>0</td>\n",
       "    </tr>\n",
       "    <tr>\n",
       "      <th>7</th>\n",
       "      <td>0</td>\n",
       "      <td>0</td>\n",
       "    </tr>\n",
       "    <tr>\n",
       "      <th>8</th>\n",
       "      <td>1</td>\n",
       "      <td>1</td>\n",
       "    </tr>\n",
       "    <tr>\n",
       "      <th>9</th>\n",
       "      <td>0</td>\n",
       "      <td>0</td>\n",
       "    </tr>\n",
       "  </tbody>\n",
       "</table>\n",
       "</div>"
      ],
      "text/plain": [
       "   Lexicon Values  Predicted Values\n",
       "0               0                 0\n",
       "1               0                 0\n",
       "2               0                 0\n",
       "3               1                 0\n",
       "4               0                 0\n",
       "5               0                 0\n",
       "6               1                 0\n",
       "7               0                 0\n",
       "8               1                 1\n",
       "9               0                 0"
      ]
     },
     "execution_count": 31,
     "metadata": {},
     "output_type": "execute_result"
    }
   ],
   "source": [
    "# # Membandingkan Nilai Leksikon dengan Nilai Prediksi\n",
    "df = pd.DataFrame({'Lexicon Values':Test_Y, 'Predicted Values':predictions_SVM_Tfidf_RBF1000})\n",
    "df[:10]"
   ]
  },
  {
   "cell_type": "code",
   "execution_count": 32,
   "id": "5441ea65-2b8c-4ec6-b1a1-e8613720e607",
   "metadata": {},
   "outputs": [
    {
     "name": "stdout",
     "output_type": "stream",
     "text": [
      "X: 996 \n",
      "Train\tTest\t\t%train\t%test\n",
      " 697 \t 299 \tX\t 69.98 \t 30.02 \n",
      " 8552 \t 3509 \tBoWs\t 70.91 \t 29.09 \n",
      " 8552 \t 3509 \tTF-IDF\t 70.91 \t 29.09\n",
      "\n",
      "neg\tpos\t\tsum\n",
      " 225 \t 74 \t 299 \tTest_Y\n",
      " 237 \t 62 \t 299 \tP_BoWs_Linier(C=1.0)\n",
      " 259 \t 40 \t 299 \tP_Tfidf_rbf(C=1000.0)\n",
      "\n"
     ]
    }
   ],
   "source": [
    "# Gambaran rasio data latih dan data uji dari teks awal dan dari vektor ekstraksi fitur.\n",
    "print('X:', Corpus['text'].size,\n",
    "      '\\nTrain\\tTest\\t\\t%train\\t%test\\n',\n",
    "      \n",
    "      Train_X.size, '\\t', Test_X.size, '\\tX\\t', '{:.2f}'.format(Train_X.size/(Test_X.size+Train_X.size)*100), '\\t', '{:.2f}'.format(Test_X.size/(Test_X.size+Train_X.size)*100), '\\n',\n",
    "      Train_X_BoW.size, '\\t', Test_X_BoW.size, '\\tBoWs\\t', '{:.2f}'.format(Train_X_BoW.size/(Test_X_BoW.size+Train_X_BoW.size)*100), '\\t', '{:.2f}'.format(Test_X_BoW.size/(Test_X_BoW.size+Train_X_BoW.size)*100), '\\n',\n",
    "      Train_X_Tfidf.size, '\\t', Test_X_Tfidf.size, '\\tTF-IDF\\t', '{:.2f}'.format(Train_X_Tfidf.size/(Test_X_Tfidf.size+Train_X_Tfidf.size)*100), '\\t', '{:.2f}'.format(Test_X_Tfidf.size/(Test_X_Tfidf.size+Train_X_Tfidf.size)*100))\n",
    "\n",
    "# Gambaran jumlah kelas negatif dan positif dari data uji dengan label aktual, label leksikon, and label prediksi;\n",
    "# Label aktual dan label leksikon disimbolkan sebagai 'Test_Y_Actual' dan 'Test_Y';\n",
    "# Jika kamu memakai label aktual sebagai baseline, maka label leksikon di sini adalah label aktual itu sendiri.\n",
    "print('\\nneg\\tpos\\t\\tsum\\n',\n",
    "      (Test_Y==0).sum(), '\\t', (Test_Y==1).sum(), '\\t', Test_Y.size, '\\tTest_Y\\n',\n",
    "      (pred_SVM_BoW_Linear1==0).sum(),   '\\t', (pred_SVM_BoW_Linear1==1).sum(),   '\\t', pred_SVM_BoW_Linear1.size,   '\\tP_BoWs_Linier(C=1.0)\\n',\n",
    "      (predictions_SVM_Tfidf_RBF1000==0).sum(), '\\t', (predictions_SVM_Tfidf_RBF1000==1).sum(), '\\t', predictions_SVM_Tfidf_RBF1000.size, '\\tP_Tfidf_rbf(C=1000.0)\\n',\n",
    "     )"
   ]
  },
  {
   "cell_type": "markdown",
   "id": "52339608-c9fe-4f68-9079-820a0c59ff89",
   "metadata": {},
   "source": [
    "Hasil model ini mendapatkan akurasi maksimum dari fitur ekstraksi TF-IDF dan kernel liner C=100.0 dan gamma =0,2 dengan akurasi sebesar 82,61%, dan di posisi kedua dengan nilai akurasi 79,93% dari kombinasi BoW dengan karnel linier C=100.0. Berdasarkan analisis di atas dapat disimpulkan bahwa akurasi model klasifikasi yang digunakan sangat baik. Model kami melakukan pekerjaan yang sangat baik dalam hal memprediksi label kelas.\n",
    "<br><br>Namun, ini tidak sepenuhnya benar karena data yang digunakan terdapat ketidakseimbangan antara kelas positif dan kelas negatif yang menyebabkan adanya missklasifikasi pada data yang menghasilkan label data yang cenderung lebih mayor pada data latih.\n",
    "<br><br>Pada penelitian terdahulu yang di lakukan oleh (Ganganwar, 2012) menyatakan bahwa kumpulan data yang tidak seimbang dapat menyebabkan miss-klasifikasi pada data. Hal ini dikarenakan perbedaan jumlah dataset antara kelas mayor dan minor yang bisa membuat kelas mayor memiliki kinerja yang lebih baik daripada kelas minor.\n",
    "<br><br>Jadi, kita harus mengeksplorasi metrik alternatif yang memberikan panduan yang lebih baik dalam memilih model. Secara khusus, saya ingin mengetahui distribusi nilai yang mendasari dan jenis kesalahan yang dibuat oleh classifer yang digunakan.\n",
    "<br><br>Salah satu metrik untuk menganalisis kinerja model dalam masalah kelas tidak seimbang adalah Confusion matrix."
   ]
  },
  {
   "cell_type": "markdown",
   "id": "b2603d77-d9b3-492a-92aa-875ccae4075c",
   "metadata": {},
   "source": [
    "# Evaluasi / Validasi\n"
   ]
  },
  {
   "cell_type": "markdown",
   "id": "49e0b931-5f95-4c7b-b8ea-9354cc46eea3",
   "metadata": {},
   "source": [
    "## Confusion Matrix"
   ]
  },
  {
   "cell_type": "code",
   "execution_count": 33,
   "id": "bf88f4c1-d35d-4c3e-b1da-6b0b950f0d14",
   "metadata": {},
   "outputs": [
    {
     "name": "stdout",
     "output_type": "stream",
     "text": [
      "\n",
      "### Confusion Matrix - BoW (C=1, karnel=linear)###\n",
      "Confusion matrix\n",
      "\n",
      " [[201  24]\n",
      " [ 36  38]]\n",
      "\n",
      "True Positives(TP) =  201\n",
      "\n",
      "True Negatives(TN) =  38\n",
      "\n",
      "False Positives(FP) =  24\n",
      "\n",
      "False Negatives(FN) =  36\n"
     ]
    }
   ],
   "source": [
    "# Print the Confusion Matrix and slice it into four pieces\n",
    "\n",
    "## BoW ~ Linier C=1.0 ##\n",
    "print('\\n### Confusion Matrix - BoW (C=1, karnel=linear)###')\n",
    "y_pred = pred_SVM_BoW_Linear1\n",
    "cm = confusion_matrix(Test_Y, y_pred)\n",
    "\n",
    "print('Confusion matrix\\n\\n', cm)\n",
    "print('\\nTrue Positives(TP) = ', cm[0,0])\n",
    "print('\\nTrue Negatives(TN) = ', cm[1,1])\n",
    "print('\\nFalse Positives(FP) = ', cm[0,1])\n",
    "print('\\nFalse Negatives(FN) = ', cm[1,0])"
   ]
  },
  {
   "cell_type": "markdown",
   "id": "e3f00671-d468-48c8-a0f2-b5e0a4d86821",
   "metadata": {},
   "source": [
    "<br><blockquote> Hasil dari confusion matrix 201 + 38 = 239 prediksi yang benar dan 24 + 36 = 60 prediksi yang salah </blockquote> \n",
    "<br>Dalam hal ini,confusion matrix memiliki\n",
    "<ul>\n",
    "    <li> True Positives (Positif Aktual:1 dan Prediksi Positif:1) - 201 </li>\n",
    "    <li> True Negatives (Negatif Aktual:0 dan Prediksi Negatif:0) - 38 </li>\n",
    "    <li> False Positives (Actual Negative:0 tetapi Predict Positive:1) - 24 (Kesalahan tipe I) </li>\n",
    "    <li> False Negatives (Positif Aktual:1 tetapi Prediksi Negatif:0) - 36 (Kesalahan Tipe II) </li>\n",
    "    </ul>"
   ]
  },
  {
   "cell_type": "code",
   "execution_count": 35,
   "id": "a7c45d66-2cb6-48c4-84b7-4e48b9cdaaa7",
   "metadata": {},
   "outputs": [
    {
     "data": {
      "text/plain": [
       "<AxesSubplot:>"
      ]
     },
     "execution_count": 35,
     "metadata": {},
     "output_type": "execute_result"
    },
    {
     "data": {
      "image/png": "[encoded data removed]",
      "text/plain": [
       "<Figure size 432x288 with 2 Axes>"
      ]
     },
     "metadata": {},
     "output_type": "display_data"
    }
   ],
   "source": [
    "# visualize confusion matrix with seaborn heatmap\n",
    "\n",
    "cm_matrix = pd.DataFrame(data=cm, columns=['Actual Positive:1', 'Actual Negative:0'], \n",
    "                                 index=['Predict Positive:1', 'Predict Negative:0'])\n",
    "\n",
    "sns.heatmap(cm_matrix, annot=True, fmt='d', cmap='YlGnBu')"
   ]
  },
  {
   "cell_type": "markdown",
   "id": "93dd2724-f3ed-43aa-9435-859c06353394",
   "metadata": {},
   "source": [
    "### Klasifikasi Matrix\n",
    "#### Classification report\n",
    "merupakan sebuah cara lain untuk mengevaluasi kinerja model klasifikasi. Ini menampilkan presisi, recall, f1 dan support scores untuk model."
   ]
  },
  {
   "cell_type": "code",
   "execution_count": 36,
   "id": "f9fd2828-9bf9-40c3-b93c-dc4eed4aec8d",
   "metadata": {},
   "outputs": [
    {
     "name": "stdout",
     "output_type": "stream",
     "text": [
      "SentiStrength- BoW - SVM-linear C=1.0\n",
      "               precision    recall  f1-score   support\n",
      "\n",
      "           0       0.85      0.89      0.87       225\n",
      "           1       0.61      0.51      0.56        74\n",
      "\n",
      "    accuracy                           0.80       299\n",
      "   macro avg       0.73      0.70      0.71       299\n",
      "weighted avg       0.79      0.80      0.79       299\n",
      "\n"
     ]
    }
   ],
   "source": [
    "# Membuat classification report\n",
    "## BoW dan kernel Linier C=1.0##\n",
    "print('SentiStrength- BoW - SVM-linear C=1.0\\n',\n",
    "      classification_report(Test_Y, pred_SVM_BoW_Linear1))"
   ]
  },
  {
   "cell_type": "markdown",
   "id": "ddd45629-705b-47a5-a789-30147f697e6e",
   "metadata": {},
   "source": [
    "#### Classification accuracy"
   ]
  },
  {
   "cell_type": "code",
   "execution_count": 37,
   "id": "8d9cd1c8-c0dc-44fe-b1f1-0a1204b951bb",
   "metadata": {},
   "outputs": [],
   "source": [
    "TP = cm[0,0]\n",
    "TN = cm[1,1]\n",
    "FP = cm[0,1]\n",
    "FN = cm[1,0]"
   ]
  },
  {
   "cell_type": "code",
   "execution_count": 38,
   "id": "402a7e65-89bc-47c0-be92-f017c9431803",
   "metadata": {},
   "outputs": [
    {
     "name": "stdout",
     "output_type": "stream",
     "text": [
      "Classification accuracy : 0.7993\n"
     ]
    }
   ],
   "source": [
    "# print classification accuracy\n",
    "\n",
    "classification_accuracy = (TP + TN) / float(TP + TN + FP + FN)\n",
    "\n",
    "print('Classification accuracy : {0:0.4f}'.format(classification_accuracy))"
   ]
  },
  {
   "cell_type": "code",
   "execution_count": 39,
   "id": "45c4333e-55bd-441e-a947-d75dafdd8cc6",
   "metadata": {},
   "outputs": [
    {
     "name": "stdout",
     "output_type": "stream",
     "text": [
      "Classification error : 0.2007\n"
     ]
    }
   ],
   "source": [
    "# print classification error\n",
    "\n",
    "classification_error = (FP + FN) / float(TP + TN + FP + FN)\n",
    "\n",
    "print('Classification error : {0:0.4f}'.format(classification_error))"
   ]
  },
  {
   "cell_type": "markdown",
   "id": "e154c735-bd31-4ae9-ab1b-e9e14f90471e",
   "metadata": {
    "tags": []
   },
   "source": [
    "### Validasi dengan K-Cross Validation\n",
    "Ubah nilai n_splits sesuai dengan kebutuhan. Sebagai contoh, 5 splits berarti bahwa data (X dan y oversample) dibagi menjadi 4 porsi untuk set latih baru dan 1 porsi untuk set uji baru. Jika shuffle bernilai True, maka validasi silang dilakukan dengan kombinasi data yang berbeda di setiap iterasi. Kemudian validasi silang dilakukan dalam 5 iterasi."
   ]
  },
  {
   "cell_type": "markdown",
   "id": "12558e4a-6866-46a8-bc7f-288b525b193b",
   "metadata": {
    "tags": []
   },
   "source": [
    "#### Stratified k-Fold Cross Validation with shuffle split with liner kernel"
   ]
  },
  {
   "cell_type": "code",
   "execution_count": 41,
   "id": "9335f422-04f3-48cf-b025-47d6a9aff073",
   "metadata": {},
   "outputs": [
    {
     "name": "stdout",
     "output_type": "stream",
     "text": [
      "Stratified cross-validation scores with linear kernel:\n",
      "\n",
      "[0.80714286 0.77857143 0.82014388 0.76978417 0.83453237]\n"
     ]
    }
   ],
   "source": [
    "kfold=KFold(n_splits=5, shuffle=True, random_state=0)\n",
    "linear_svc=SVC(kernel='linear')\n",
    "linear_scores = cross_val_score(linear_svc, Train_X_BoW, Train_Y, cv=kfold)\n",
    "\n",
    "# print cross-validation scores with linear kernel\n",
    "print('Stratified cross-validation scores with linear kernel:\\n\\n{}'.format(linear_scores))"
   ]
  },
  {
   "cell_type": "markdown",
   "id": "5cee0893-13eb-4060-ab76-71251e725387",
   "metadata": {},
   "source": [
    "#### Stratified k-Fold Cross Validation with shuffle split with rbf kernel"
   ]
  },
  {
   "cell_type": "code",
   "execution_count": 42,
   "id": "073d15d2-e263-4644-b6a7-b17fcbef61d3",
   "metadata": {},
   "outputs": [
    {
     "name": "stdout",
     "output_type": "stream",
     "text": [
      "Stratified Cross-validation scores with rbf kernel:\n",
      "[0.75714286 0.75       0.74820144 0.74820144 0.76258993] \n",
      "\n",
      "\n",
      "Average stratified cross-validation score with rbf kernel:0.7532\n"
     ]
    }
   ],
   "source": [
    "rbf_scores = cross_val_score(rbf, Train_X_BoW, Train_Y, cv=kfold)\n",
    "\n",
    "# print cross-validation scores with rbf kernel\n",
    "print('Stratified Cross-validation scores with rbf kernel:\\n{}'.format(rbf_scores),'\\n\\n')\n",
    "\n",
    "# print average cross-validation score with rbf kernel\n",
    "print('Average stratified cross-validation score with rbf kernel:{:.4f}'.format(rbf_scores.mean()))"
   ]
  },
  {
   "cell_type": "code",
   "execution_count": 44,
   "id": "8a2e0b76-1590-4d9d-a432-ac5e97586b50",
   "metadata": {},
   "outputs": [
    {
     "name": "stdout",
     "output_type": "stream",
     "text": [
      "\n",
      "Maximum Accuracy That can be obtained from this model is: 76.2589928057554 %\n",
      "\n",
      "Minimum Accuracy: 74.82014388489209 %\n",
      "\n",
      "Overall Accuracy: 75.32271325796506 %\n",
      "\n",
      "Standard Deviation is: 0.0064016485699541\n"
     ]
    }
   ],
   "source": [
    "print('\\nMaximum Accuracy That can be obtained from this model is:',\n",
    "      max(rbf_scores)*100, '%')\n",
    "print('\\nMinimum Accuracy:',\n",
    "      min(rbf_scores)*100, '%')\n",
    "print('\\nOverall Accuracy:',\n",
    "      mean(rbf_scores)*100, '%')\n",
    "print('\\nStandard Deviation is:', stdev(rbf_scores))"
   ]
  },
  {
   "cell_type": "code",
   "execution_count": 45,
   "id": "5489336a-f359-40f7-8be9-4896eb8b8ac8",
   "metadata": {},
   "outputs": [],
   "source": [
    "# Simpan nilai presisi, recall, dan f1-score ke file\n",
    "def cr_oversampled(featExt, precision, recall, f1):\n",
    "    output = 'svm_cr_Senti_'+str(featExt)+'_kfold.txt'\n",
    "    with open(output, 'a') as f:\n",
    "        f.write(str(precision)+'\\t'+str(recall)+'\\t'+str(f1)+'\\t'+str(accuracy)+'\\n')"
   ]
  },
  {
   "cell_type": "code",
   "execution_count": 46,
   "id": "4b035623-4636-4987-8e79-bf48bcee9f3b",
   "metadata": {},
   "outputs": [
    {
     "name": "stderr",
     "output_type": "stream",
     "text": [
      "C:\\Users\\Chanchun\\anaconda3\\lib\\site-packages\\sklearn\\utils\\validation.py:63: DataConversionWarning: A column-vector y was passed when a 1d array was expected. Please change the shape of y to (n_samples, ), for example using ravel().\n",
      "  return f(*args, **kwargs)\n"
     ]
    }
   ],
   "source": [
    "outer_cv = KFold(n_splits=5, shuffle=True, random_state=42)\n",
    "\n",
    "y = LL\n",
    "y = Encoder.fit_transform(y)"
   ]
  },
  {
   "cell_type": "code",
   "execution_count": 47,
   "id": "df40a1f6-0755-461b-a61a-1ca2326b74c1",
   "metadata": {},
   "outputs": [
    {
     "name": "stdout",
     "output_type": "stream",
     "text": [
      "SentiStrength - BoW - SVM-Karnel Linier(C=1.0)\n",
      "# Fold 1:\n",
      "              precision    recall  f1-score   support\n",
      "\n",
      "           0       0.87      0.91      0.89       148\n",
      "           1       0.70      0.62      0.65        52\n",
      "\n",
      "    accuracy                           0.83       200\n",
      "   macro avg       0.78      0.76      0.77       200\n",
      "weighted avg       0.82      0.83      0.83       200\n",
      " \n",
      "\n",
      "# Fold 2:\n",
      "              precision    recall  f1-score   support\n",
      "\n",
      "           0       0.87      0.92      0.89       153\n",
      "           1       0.66      0.54      0.60        46\n",
      "\n",
      "    accuracy                           0.83       199\n",
      "   macro avg       0.76      0.73      0.74       199\n",
      "weighted avg       0.82      0.83      0.82       199\n",
      " \n",
      "\n",
      "# Fold 3:\n",
      "              precision    recall  f1-score   support\n",
      "\n",
      "           0       0.84      0.92      0.88       146\n",
      "           1       0.71      0.51      0.59        53\n",
      "\n",
      "    accuracy                           0.81       199\n",
      "   macro avg       0.77      0.72      0.74       199\n",
      "weighted avg       0.80      0.81      0.80       199\n",
      " \n",
      "\n",
      "# Fold 4:\n",
      "              precision    recall  f1-score   support\n",
      "\n",
      "           0       0.81      0.95      0.87       147\n",
      "           1       0.70      0.37      0.48        52\n",
      "\n",
      "    accuracy                           0.79       199\n",
      "   macro avg       0.76      0.66      0.68       199\n",
      "weighted avg       0.78      0.79      0.77       199\n",
      " \n",
      "\n",
      "# Fold 5:\n",
      "              precision    recall  f1-score   support\n",
      "\n",
      "           0       0.86      0.96      0.91       147\n",
      "           1       0.83      0.56      0.67        52\n",
      "\n",
      "    accuracy                           0.85       199\n",
      "   macro avg       0.84      0.76      0.79       199\n",
      "weighted avg       0.85      0.85      0.84       199\n",
      " \n",
      "\n"
     ]
    }
   ],
   "source": [
    "print('SentiStrength - BoW - SVM-Karnel Linier(C=1.0)')\n",
    "featExt = 'bow'\n",
    "\n",
    "X = vectorizer.fit_transform(Corpus['text_final'])\n",
    "kf = KFold(n_splits=5, shuffle=True, random_state=42)\n",
    "\n",
    "for fold, (train_index, test_index) in enumerate(kf.split(X), 1):\n",
    "    X_train, X_test = X[train_index], X[test_index]\n",
    "    y_train, y_test = y[train_index], y[test_index]\n",
    "    \n",
    "    linear.fit(X_train, y_train)\n",
    "    y_pred = linear.predict(X_test)\n",
    "    \n",
    "    accuracy = accuracy_score(y_test, y_pred)\n",
    "    precision = precision_score(y_test, y_pred)\n",
    "    recall = recall_score(y_test, y_pred)\n",
    "    f1 = f1_score(y_test, y_pred)\n",
    "\n",
    "    print(f'# Fold {fold}:')\n",
    "    print(classification_report(y_test, y_pred), \"\\n\")\n",
    "    \n",
    "#     print(f'accuracy: {accuracy}')\n",
    "#     print(f'precision: {precision}')\n",
    "#     print(f'recall: {recall}')\n",
    "#     print(f'f-score: {f1}')"
   ]
  },
  {
   "cell_type": "code",
   "execution_count": 49,
   "id": "3242de51-6035-4597-a4a7-ec7a0c9c3f7d",
   "metadata": {},
   "outputs": [
    {
     "name": "stdout",
     "output_type": "stream",
     "text": [
      "[0.6560189909297052, 0.5583380428129286, 0.6012003257197682, nan]\n"
     ]
    }
   ],
   "source": [
    "data01 = pd.read_csv('svm_cr_inset_bow_kfold.txt', header=None, sep='\\t', names=['precision', 'recall', 'f1', 'accuracy'])\n",
    "\n",
    "\n",
    "### BoW\n",
    "# Presisi rata-rata\n",
    "data01_a = data01['precision'].to_list()\n",
    "data01_a = sum(data01_a)/len(data01_a)\n",
    "# Recall rata-rata\n",
    "data01_b = data01['recall'].to_list()\n",
    "data01_b = sum(data01_b)/len(data01_b)\n",
    "# F1-score rata-rata\n",
    "data01_c = data01['f1'].to_list()\n",
    "data01_c = sum(data01_c)/len(data01_c)\n",
    "# Accurasy rata-rata\n",
    "data01_d = data01['accuracy'].to_list()\n",
    "data01_d = sum(data01_d)/len(data01_d)\n",
    "# Menggabungkan semua nilai\n",
    "data01 = [data01_a, data01_b, data01_c, data01_d]\n",
    "print(data01)"
   ]
  }
 ],
 "metadata": {
  "kernelspec": {
   "display_name": "Python 3 (ipykernel)",
   "language": "python",
   "name": "python3"
  },
  "language_info": {
   "codemirror_mode": {
    "name": "ipython",
    "version": 3
   },
   "file_extension": ".py",
   "mimetype": "text/x-python",
   "name": "python",
   "nbconvert_exporter": "python",
   "pygments_lexer": "ipython3",
   "version": "3.9.7"
  }
 },
 "nbformat": 4,
 "nbformat_minor": 5
}
