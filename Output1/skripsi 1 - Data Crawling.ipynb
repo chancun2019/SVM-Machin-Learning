{
 "cells": [
  {
   "cell_type": "code",
   "execution_count": 1,
   "id": "46949ebb-8e7a-478c-866c-c6fb75ae19f2",
   "metadata": {},
   "outputs": [],
   "source": [
    "import twint \n",
    "import pandas as pd\n",
    "\n",
    "import nest_asyncio\n",
    "nest_asyncio.apply()"
   ]
  },
  {
   "cell_type": "markdown",
   "id": "34151819-5149-47ea-94c1-9b7b78ae8f5e",
   "metadata": {},
   "source": [
    "### Crawling data dengan keyword, tanggal dan geolokasi"
   ]
  },
  {
   "cell_type": "code",
   "execution_count": 56,
   "id": "3f40f3cb",
   "metadata": {},
   "outputs": [],
   "source": [
    "c = twint.Config()\n",
    "c.Search = \"covid\" \n",
    "c.Search = \"vaksin\"\n",
    "c.Since = \"2020-01-13\"\n",
    "c.Until = \"2022-11-22\"\n",
    "c.Geo = \"-7.603740515040823, 110.97216165457705,12km\"\n",
    "c.Hide_output = True\n",
    "c.Debug = True\n",
    "c.Pandas = True"
   ]
  },
  {
   "cell_type": "code",
   "execution_count": 57,
   "id": "c000e11d",
   "metadata": {
    "scrolled": true
   },
   "outputs": [
    {
     "name": "stdout",
     "output_type": "stream",
     "text": [
      "Start crawling\n",
      "[!] No more data! Scraping will stop now.\n",
      "found 0 deleted tweets in this search.\n",
      "FInisihed Crawling\n",
      "------------------\n",
      "Wall time: 1min 22s\n"
     ]
    }
   ],
   "source": [
    "%%time\n",
    "try:\n",
    "    print(\"Start crawling\")\n",
    "    #convert output ke format data frame\n",
    "    def twint_to_datafrme(columns):\n",
    "        return twint.output.panda.Tweets_df[columns]\n",
    "\n",
    "    #Start crawling\n",
    "    twint.run.Search(c)\n",
    "    \n",
    "    #save data tertentu setelah crawling\n",
    "    dataku = twint_to_datafrme(['date','username','tweet'])\n",
    "except Exception as e:\n",
    "    print(e)\n",
    "print(\"FInisihed Crawling\")\n",
    "print(\"------------------\")"
   ]
  },
  {
   "cell_type": "code",
   "execution_count": 58,
   "id": "8a936920",
   "metadata": {},
   "outputs": [
    {
     "data": {
      "text/html": [
       "<div>\n",
       "<style scoped>\n",
       "    .dataframe tbody tr th:only-of-type {\n",
       "        vertical-align: middle;\n",
       "    }\n",
       "\n",
       "    .dataframe tbody tr th {\n",
       "        vertical-align: top;\n",
       "    }\n",
       "\n",
       "    .dataframe thead th {\n",
       "        text-align: right;\n",
       "    }\n",
       "</style>\n",
       "<table border=\"1\" class=\"dataframe\">\n",
       "  <thead>\n",
       "    <tr style=\"text-align: right;\">\n",
       "      <th></th>\n",
       "      <th>date</th>\n",
       "      <th>username</th>\n",
       "      <th>tweet</th>\n",
       "    </tr>\n",
       "  </thead>\n",
       "  <tbody>\n",
       "    <tr>\n",
       "      <th>0</th>\n",
       "      <td>2022-11-22 06:53:52</td>\n",
       "      <td>AlbertSolo2</td>\n",
       "      <td>Direktur jenderal badan kesehatan dunia who me...</td>\n",
       "    </tr>\n",
       "    <tr>\n",
       "      <th>1</th>\n",
       "      <td>2022-11-21 17:28:03</td>\n",
       "      <td>dr_ardi</td>\n",
       "      <td>Semua negara di dunia ini menyerukan pentingny...</td>\n",
       "    </tr>\n",
       "    <tr>\n",
       "      <th>2</th>\n",
       "      <td>2022-11-21 16:58:52</td>\n",
       "      <td>Faiza_Abdullah7</td>\n",
       "      <td>@ato_uban @yo2thok Kirain tak ngefek vaksin pe...</td>\n",
       "    </tr>\n",
       "    <tr>\n",
       "      <th>3</th>\n",
       "      <td>2022-11-21 16:28:45</td>\n",
       "      <td>Faiza_Abdullah7</td>\n",
       "      <td>@ato_uban @yo2thok Sebelumnya dikira demam ber...</td>\n",
       "    </tr>\n",
       "    <tr>\n",
       "      <th>4</th>\n",
       "      <td>2022-11-21 15:58:26</td>\n",
       "      <td>Faiza_Abdullah7</td>\n",
       "      <td>@ato_uban @yo2thok Gejala timbul 5 hari setela...</td>\n",
       "    </tr>\n",
       "    <tr>\n",
       "      <th>...</th>\n",
       "      <td>...</td>\n",
       "      <td>...</td>\n",
       "      <td>...</td>\n",
       "    </tr>\n",
       "    <tr>\n",
       "      <th>1035</th>\n",
       "      <td>2020-03-13 16:13:23</td>\n",
       "      <td>ayucunyaaa</td>\n",
       "      <td>Aku mau pulanggggggg gamau vaksin ke moewardi</td>\n",
       "    </tr>\n",
       "    <tr>\n",
       "      <th>1036</th>\n",
       "      <td>2020-03-11 20:52:29</td>\n",
       "      <td>nikenarman</td>\n",
       "      <td>@animalfess2 Bisa aja si nder. Tp amannya di v...</td>\n",
       "    </tr>\n",
       "    <tr>\n",
       "      <th>1037</th>\n",
       "      <td>2020-03-01 17:46:10</td>\n",
       "      <td>masradensammy</td>\n",
       "      <td>Welcome march, semoga virus corona segera mene...</td>\n",
       "    </tr>\n",
       "    <tr>\n",
       "      <th>1038</th>\n",
       "      <td>2020-02-03 09:40:42</td>\n",
       "      <td>DeeRiry</td>\n",
       "      <td>@BudiTyas @pisvng @mazzini_giusepe Iya... Kata...</td>\n",
       "    </tr>\n",
       "    <tr>\n",
       "      <th>1039</th>\n",
       "      <td>2020-01-31 19:17:24</td>\n",
       "      <td>hakam_fahmi</td>\n",
       "      <td>Titik Terang Pencarian Vaksin Virus Corona  ht...</td>\n",
       "    </tr>\n",
       "  </tbody>\n",
       "</table>\n",
       "<p>1040 rows × 3 columns</p>\n",
       "</div>"
      ],
      "text/plain": [
       "                     date         username  \\\n",
       "0     2022-11-22 06:53:52      AlbertSolo2   \n",
       "1     2022-11-21 17:28:03          dr_ardi   \n",
       "2     2022-11-21 16:58:52  Faiza_Abdullah7   \n",
       "3     2022-11-21 16:28:45  Faiza_Abdullah7   \n",
       "4     2022-11-21 15:58:26  Faiza_Abdullah7   \n",
       "...                   ...              ...   \n",
       "1035  2020-03-13 16:13:23       ayucunyaaa   \n",
       "1036  2020-03-11 20:52:29       nikenarman   \n",
       "1037  2020-03-01 17:46:10    masradensammy   \n",
       "1038  2020-02-03 09:40:42          DeeRiry   \n",
       "1039  2020-01-31 19:17:24      hakam_fahmi   \n",
       "\n",
       "                                                  tweet  \n",
       "0     Direktur jenderal badan kesehatan dunia who me...  \n",
       "1     Semua negara di dunia ini menyerukan pentingny...  \n",
       "2     @ato_uban @yo2thok Kirain tak ngefek vaksin pe...  \n",
       "3     @ato_uban @yo2thok Sebelumnya dikira demam ber...  \n",
       "4     @ato_uban @yo2thok Gejala timbul 5 hari setela...  \n",
       "...                                                 ...  \n",
       "1035      Aku mau pulanggggggg gamau vaksin ke moewardi  \n",
       "1036  @animalfess2 Bisa aja si nder. Tp amannya di v...  \n",
       "1037  Welcome march, semoga virus corona segera mene...  \n",
       "1038  @BudiTyas @pisvng @mazzini_giusepe Iya... Kata...  \n",
       "1039  Titik Terang Pencarian Vaksin Virus Corona  ht...  \n",
       "\n",
       "[1040 rows x 3 columns]"
      ]
     },
     "execution_count": 58,
     "metadata": {},
     "output_type": "execute_result"
    }
   ],
   "source": [
    "dataku"
   ]
  },
  {
   "cell_type": "code",
   "execution_count": 61,
   "id": "bd111eca",
   "metadata": {},
   "outputs": [],
   "source": [
    "dataku.to_csv('data_crawling_terakhir_kali', index=False)"
   ]
  },
  {
   "cell_type": "code",
   "execution_count": null,
   "id": "81626c74",
   "metadata": {},
   "outputs": [],
   "source": []
  }
 ],
 "metadata": {
  "kernelspec": {
   "display_name": "Python 3 (ipykernel)",
   "language": "python",
   "name": "python3"
  },
  "language_info": {
   "codemirror_mode": {
    "name": "ipython",
    "version": 3
   },
   "file_extension": ".py",
   "mimetype": "text/x-python",
   "name": "python",
   "nbconvert_exporter": "python",
   "pygments_lexer": "ipython3",
   "version": "3.9.7"
  }
 },
 "nbformat": 4,
 "nbformat_minor": 5
}
