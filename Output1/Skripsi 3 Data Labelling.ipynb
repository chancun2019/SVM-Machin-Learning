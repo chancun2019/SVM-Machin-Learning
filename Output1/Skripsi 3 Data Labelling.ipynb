{
 "cells": [
  {
   "cell_type": "code",
   "execution_count": 1,
   "id": "8ce22b46-c630-4d14-bb7a-da53d687bf41",
   "metadata": {},
   "outputs": [],
   "source": [
    "import os\n",
    "from collections import OrderedDict\n",
    "import pandas as pd\n",
    "from nltk.sentiment.vader import SentimentIntensityAnalyzer\n",
    "import json\n",
    "import reprlib\n",
    "import seaborn as sns\n",
    "import matplotlib.pyplot as plt\n",
    "import numpy as np"
   ]
  },
  {
   "cell_type": "code",
   "execution_count": 2,
   "id": "5c8cca13-23bc-43c5-95e6-3b00207e9c46",
   "metadata": {},
   "outputs": [],
   "source": [
    "data_anal = pd.read_csv(\"data_preproses clean.csv\")"
   ]
  },
  {
   "cell_type": "markdown",
   "id": "4279036f-b100-4206-89bc-c1c6ac031d10",
   "metadata": {},
   "source": [
    "### Pelabelan dataset dengan InSet dan Sentistrength"
   ]
  },
  {
   "cell_type": "code",
   "execution_count": 3,
   "id": "38404090-7a79-4fc7-b033-9de39e8e5204",
   "metadata": {},
   "outputs": [
    {
     "name": "stdout",
     "output_type": "stream",
     "text": [
      "{'(barang) bekas': -4, '(olahraga) bokser': -5, '(tua) uzur': -3, 'Anda': -4, ...}\n",
      "{'(hujan) gerimis': 1, '(warna) dadu': 3, 'Ahad': 3, 'Sri paduka': 4, ...}\n",
      "{'abadi': 5, 'absen': -3, 'abu-abu': -1, 'acuh': 4, ...}\n"
     ]
    }
   ],
   "source": [
    "# Memanfaatkan nltk VADER untuk menggunakan leksikon kustom\n",
    "sia1A, sia1B, sia2 = SentimentIntensityAnalyzer(), SentimentIntensityAnalyzer(), SentimentIntensityAnalyzer()\n",
    "# membersihkan leksikon VADER default\n",
    "sia1A.lexicon.clear()\n",
    "sia1B.lexicon.clear()\n",
    "sia2.lexicon.clear()\n",
    "\n",
    "# Membaca leksikon InSet\n",
    "# Leksikon InSet lexicon dibagi menjadi dua, yakni polaritas negatif dan polaritas positif;\n",
    "# kita akan menggunakan nilai compound saja untuk memberi label pada suatu kalimat\n",
    "with open('_json_inset-neg.txt') as f:\n",
    "    data1A = f.read()\n",
    "with open('_json_inset-pos.txt') as f:\n",
    "    data1B = f.read()\n",
    "       \n",
    "# Membaca leksikon sentiwords_id\n",
    "with open('_json_sentiwords_id.txt') as f:\n",
    "    data2 = f.read()\n",
    "\n",
    "\n",
    "# Mengubah leksikon sebagai dictionary\n",
    "insetNeg = json.loads(data1A)\n",
    "insetPos = json.loads(data1B)\n",
    "senti = json.loads(data2)\n",
    "\n",
    "# Update leksikon VADER yang sudah 'dimodifikasi'\n",
    "sia1A.lexicon.update(insetNeg)\n",
    "sia1B.lexicon.update(insetPos)\n",
    "sia2.lexicon.update(senti)\n",
    "\n",
    "print(reprlib.repr(sia1A.lexicon))\n",
    "print(reprlib.repr(sia1B.lexicon))\n",
    "print(reprlib.repr(sia2.lexicon))"
   ]
  },
  {
   "cell_type": "markdown",
   "id": "eb48fbd9-3095-487c-95a8-064626589735",
   "metadata": {},
   "source": [
    "#### Contoh menggunakan kalimat untuk mencari polarity"
   ]
  },
  {
   "cell_type": "code",
   "execution_count": 4,
   "id": "268f3213-9894-4cdd-8831-2115e4854fa8",
   "metadata": {},
   "outputs": [
    {
     "name": "stdout",
     "output_type": "stream",
     "text": [
      "insetNeg:  {'neg': 0.839, 'neu': 0.161, 'pos': 0.0, 'compound': -0.9799}\n",
      "insetPos:  {'neg': 0.0, 'neu': 0.364, 'pos': 0.636, 'compound': 0.9325}\n",
      "insetCpdSum: 'compound': -0.0474\n",
      "senti\t:  {'neg': 0.312, 'neu': 0.688, 'pos': 0.0, 'compound': -0.7184}\n"
     ]
    }
   ],
   "source": [
    "sample = \"lha siapa tahu kalau jadi kipi kalau tahu sakit pastinya gak vaksin\"\n",
    "print(\"insetNeg: \", sia1A.polarity_scores(sample))\n",
    "print(\"insetPos: \", sia1B.polarity_scores(sample))\n",
    "print(\"insetCpdSum: 'compound':\", sia1A.polarity_scores(sample)[\"compound\"] + sia1B.polarity_scores(sample)[\"compound\"])\n",
    "\n",
    "print(\"senti\\t: \", sia2.polarity_scores(sample))"
   ]
  },
  {
   "cell_type": "markdown",
   "id": "7ba8b507-999f-4e3e-bcb8-8f287df96e50",
   "metadata": {},
   "source": [
    "## Fungsi untuk mengklasifikasikan kalimat sebagai negatif/positif berdasarkan nilai compound"
   ]
  },
  {
   "cell_type": "code",
   "execution_count": 5,
   "id": "486769c7-dbf8-4d96-ba07-082e69ffb3d0",
   "metadata": {},
   "outputs": [],
   "source": [
    "def is_positive_inset(tweet: str) -> bool:\n",
    "    \"\"\"True if tweet has positive compound sentiment, False otherwise.\"\"\"\n",
    "    return sia1A.polarity_scores(tweet)[\"compound\"] + sia1B.polarity_scores(tweet)[\"compound\"] > 0\n",
    "\n",
    "def is_positive_senti(tweet: str) -> bool:\n",
    "    \"\"\"True if tweet has positive compound sentiment, False otherwise.\"\"\"\n",
    "    return sia2.polarity_scores(tweet)[\"compound\"] > 0"
   ]
  },
  {
   "cell_type": "code",
   "execution_count": 7,
   "id": "646caba1-74b5-421f-a8b6-7c9de1d81ffc",
   "metadata": {},
   "outputs": [],
   "source": [
    "# Membaca data yang sudah dibersihkan dari karakter yang tidak diperlukan serta dari daftar kata tak baku dan stop words\n",
    "os.chdir(\"Output1\")\n",
    "base = \"data_preproses clean.csv\""
   ]
  },
  {
   "cell_type": "code",
   "execution_count": 12,
   "id": "98a5f7ae-4cb7-48e6-ba8a-5e23b36fcff3",
   "metadata": {},
   "outputs": [],
   "source": [
    "tweets = data_anal[\"tweet\"].astype(str)\n",
    "\n",
    "# Menulis hasil klasifikasi label untuk setiap kalimat berdasarkan nilai compound dari insetNeg dan insetPos\n",
    "output = os.path.splitext(base)[0]+'-lb-inset.txt'\n",
    "with open(output, 'w') as f:\n",
    "    for tweet in tweets:\n",
    "        if is_positive_inset(tweet) == True:\n",
    "            label = \"pos\"\n",
    "        else:\n",
    "            label = \"neg\"\n",
    "        f.write(str(label+'\\n'))\n",
    "\n",
    "# Menulis hasil klasifikasi label untuk setiap kalimat berdasarkan nilai compound dari SentiStrength\n",
    "output = os.path.splitext(base)[0]+'-lb-senti.txt'\n",
    "with open(output, 'w') as f:\n",
    "    for tweet in tweets:\n",
    "        if is_positive_senti(tweet) == True:\n",
    "            label = \"pos\"\n",
    "        else:\n",
    "            label = \"neg\"\n",
    "        f.write(str(label+'\\n'))"
   ]
  },
  {
   "cell_type": "markdown",
   "id": "eed4df72-d969-4bba-b76c-868a90646dd7",
   "metadata": {},
   "source": [
    "### Distribusi kelas positif & negatif"
   ]
  },
  {
   "cell_type": "code",
   "execution_count": 13,
   "id": "7fec1822-9c71-4296-b32e-856d13712896",
   "metadata": {},
   "outputs": [
    {
     "name": "stdout",
     "output_type": "stream",
     "text": [
      "    InSet sentistrength_id\n",
      "0     neg              neg\n",
      "1     neg              neg\n",
      "2     neg              pos\n",
      "3     neg              neg\n",
      "4     neg              neg\n",
      "..    ...              ...\n",
      "991   pos              neg\n",
      "992   neg              neg\n",
      "993   pos              neg\n",
      "994   neg              neg\n",
      "995   neg              neg\n",
      "\n",
      "[996 rows x 2 columns]\n"
     ]
    }
   ],
   "source": [
    "lb_inset = 'data_preproses clean-lb-inset.txt'\n",
    "lb_senti = 'data_preproses clean-lb-senti.txt'\n",
    "#x0 = pd.read_csv(lb_actual, header=None,names=['text'], usecols=['label'])\n",
    "x1 = pd.read_csv(lb_inset, header=None, names=['label'])\n",
    "x2 = pd.read_csv(lb_senti, header=None, names=['label'])\n",
    "\n",
    "\n",
    "df = pd.DataFrame()\n",
    "df.insert(0, 'InSet', x1['label'])\n",
    "df.insert(1, 'sentistrength_id', x2['label'])\n",
    "#\n",
    "print(df)"
   ]
  },
  {
   "cell_type": "code",
   "execution_count": 14,
   "id": "52d3c7cd-28fa-4660-8a9b-7d30a4ef2803",
   "metadata": {},
   "outputs": [
    {
     "name": "stdout",
     "output_type": "stream",
     "text": [
      "negatives: 635 , positives: 361 , total: 996 \t| inSet\n",
      "negatives: 741 , positives: 255 , total: 996 \t| senti\n",
      "63.76 : 36.24 \t| inSet\n",
      "74.40 : 25.60 \t| senti\n"
     ]
    }
   ],
   "source": [
    "neg1 = df['InSet'].str.count('neg').sum()\n",
    "pos1 = df['InSet'].str.count('pos').sum()\n",
    "sum1 = neg1+pos1\n",
    "\n",
    "neg2 = df['sentistrength_id'].str.count('neg').sum()\n",
    "pos2 = df['sentistrength_id'].str.count('pos').sum()\n",
    "sum2 = neg2+pos2\n",
    "\n",
    "print('negatives:',neg1,', positives:',pos1,', total:',sum1, '\\t| inSet')\n",
    "print('negatives:',neg2,', positives:',pos2,', total:',sum2, '\\t| senti')\n",
    "\n",
    "print('{:.2f}'.format(neg1/sum1*100),':', '{:.2f}'.format(pos1/sum1*100), '\\t| inSet')\n",
    "print('{:.2f}'.format(neg2/sum2*100),':', '{:.2f}'.format(pos2/sum2*100), '\\t| senti')"
   ]
  },
  {
   "cell_type": "code",
   "execution_count": 15,
   "id": "5b8da700-9d72-4cfe-9b91-9ab036d57835",
   "metadata": {},
   "outputs": [
    {
     "data": {
      "image/png": "[encoded data removed]",
      "text/plain": [
       "<Figure size 360x360 with 1 Axes>"
      ]
     },
     "metadata": {},
     "output_type": "display_data"
    }
   ],
   "source": [
    "# Pie chart, where the slices will be ordered and plotted counter-clockwise:\n",
    "labels = 'Negatif', 'Positive'\n",
    "sizes = [40.68, 59.32]\n",
    "colors = ('#EA5D3F', '#AECD65')\n",
    "\n",
    "fig = plt.figure(figsize=(5,5))\n",
    "ax = plt.axes()\n",
    "ax.pie(sizes, labels = labels, autopct='%.2f%%', colors=colors, textprops={'fontsize': 12})\n",
    "ax.set_title('Lexicon InSet', fontsize=15)\n",
    "plt.show()"
   ]
  },
  {
   "cell_type": "code",
   "execution_count": 16,
   "id": "2c901a12-881e-4612-b946-f12272f6543f",
   "metadata": {},
   "outputs": [
    {
     "data": {
      "image/png": "[encoded data removed]",
      "text/plain": [
       "<Figure size 360x360 with 1 Axes>"
      ]
     },
     "metadata": {},
     "output_type": "display_data"
    }
   ],
   "source": [
    "# Pie chart, where the slices will be ordered and plotted counter-clockwise:\n",
    "labels = 'Negatif', 'Positive'\n",
    "sizes = [41.27, 58.73]\n",
    "colors = ('#EA5D3F', '#AECD65')\n",
    "\n",
    "fig = plt.figure(figsize=(5,5))\n",
    "ax = plt.axes()\n",
    "ax.pie(sizes, labels = labels, autopct='%.2f%%', colors=colors,  textprops={'fontsize': 12})\n",
    "ax.set_title('Lexicon SentiStrength', fontsize=15)\n",
    "plt.show()"
   ]
  },
  {
   "cell_type": "code",
   "execution_count": null,
   "id": "5ebbc925-9934-4ffd-a32d-f240496d9b4c",
   "metadata": {},
   "outputs": [],
   "source": []
  }
 ],
 "metadata": {
  "kernelspec": {
   "display_name": "Python 3 (ipykernel)",
   "language": "python",
   "name": "python3"
  },
  "language_info": {
   "codemirror_mode": {
    "name": "ipython",
    "version": 3
   },
   "file_extension": ".py",
   "mimetype": "text/x-python",
   "name": "python",
   "nbconvert_exporter": "python",
   "pygments_lexer": "ipython3",
   "version": "3.9.7"
  }
 },
 "nbformat": 4,
 "nbformat_minor": 5
}
