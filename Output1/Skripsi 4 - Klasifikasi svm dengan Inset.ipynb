{
 "cells": [
  {
   "cell_type": "code",
   "execution_count": 1,
   "id": "f51182e8-cd62-487f-a4cc-73695a36c947",
   "metadata": {},
   "outputs": [],
   "source": [
    "import os\n",
    "import pandas as pd\n",
    "import numpy as np\n",
    "from nltk.tokenize import word_tokenize\n",
    "from statistics import mean, stdev\n",
    "from sklearn.preprocessing import LabelEncoder\n",
    "from sklearn.feature_extraction.text import CountVectorizer, TfidfVectorizer\n",
    "from sklearn import model_selection, svm\n",
    "from sklearn.metrics import accuracy_score\n",
    "from sklearn.svm import SVC\n",
    "from sklearn.metrics import confusion_matrix\n",
    "import seaborn as sns\n",
    "from sklearn.metrics import classification_report\n",
    "from sklearn.model_selection import KFold\n",
    "from sklearn.model_selection import cross_val_score\n",
    "from sklearn.model_selection import GridSearchCV\n",
    "from sklearn.metrics import f1_score, precision_score, recall_score\n",
    "import matplotlib.pyplot as plt\n",
    "\n",
    "## Ukuran plot besar\n",
    "# sns.reset_defaults()\n",
    "# Ukuran plot kecil\n",
    "sns.reset_orig()\n",
    "\n",
    "sns.set_style('whitegrid', {'grid.linestyle': '--'})"
   ]
  },
  {
   "cell_type": "code",
   "execution_count": 2,
   "id": "610fafac-ff19-462b-8d67-ed7447490a80",
   "metadata": {},
   "outputs": [],
   "source": [
    "np.random.seed(500)"
   ]
  },
  {
   "cell_type": "markdown",
   "id": "5dde96c2-2cee-4e69-9121-aac3027ab7dd",
   "metadata": {
    "tags": []
   },
   "source": [
    "## Prepare Input"
   ]
  },
  {
   "cell_type": "markdown",
   "id": "08cac8f6-01a5-480d-bb47-cf3471862e0b",
   "metadata": {},
   "source": [
    "Corpus memuat teks yang sudah dibersihkan (di tahap prapengolahan). Label Inset memuat label teks dengan leksikon InSet. LabelSenti memuat label teks dengan leksikon sentiStrength"
   ]
  },
  {
   "cell_type": "code",
   "execution_count": 21,
   "id": "2f75648f-95f2-4c0c-afb5-ba6d120568e2",
   "metadata": {},
   "outputs": [],
   "source": [
    "# Merubah file menjadi txt\n",
    "import csv\n",
    "\n",
    "def csv_to_txt(csv_file, txt_file):\n",
    "    with open(csv_file, 'r') as file:\n",
    "        csv_data = csv.reader(file)\n",
    "        with open(txt_file, 'w') as txtfile:\n",
    "            for row in csv_data:\n",
    "                txtfile.write(','.join(row) + '\\n')\n",
    "\n",
    "# Specify the input CSV file and output TXT file names\n",
    "csv_file = 'data_preproses clean.csv'\n",
    "txt_file = 'data_preproses clean.txt'\n",
    "\n",
    "# Call the function to convert CSV to TXT\n",
    "csv_to_txt(csv_file, txt_file)"
   ]
  },
  {
   "cell_type": "code",
   "execution_count": 22,
   "id": "ce502c60-f062-4598-9f8b-4004d35da969",
   "metadata": {},
   "outputs": [],
   "source": [
    "# Pastikan untuk mengganti path dengan absolute path direktorimu jika baris berikut dijalankan ulang, atau restart kernel.\n",
    "base = 'data_preproses clean.txt'\n",
    "lb_inset = 'data_preproses clean-lb-inset.txt'\n",
    "lb_senti = 'data_preproses clean-lb-senti.txt'\n",
    "\n",
    "Corpus = pd.read_csv(base, encoding='latin-1', header=None, sep='\\t', names=['text'], dtype=str)\n",
    "LabelInset = pd.read_csv(lb_inset, encoding='latin-1', header=None, names=['label'], dtype=str)\n",
    "LabelSenti = pd.read_csv(lb_senti, encoding='latin-1', header=None, names=['label'], dtype=str)"
   ]
  },
  {
   "cell_type": "code",
   "execution_count": 23,
   "id": "2bcc69a0-6b85-4b06-89ab-b57a5c466265",
   "metadata": {},
   "outputs": [
    {
     "name": "stdout",
     "output_type": "stream",
     "text": [
      "neg: 635 ( 63.76 %) \t pos: 361 ( 36.24 %)  | inset\n",
      "neg: 741 ( 74.40 %) \t pos: 255 ( 25.60 %)  | senti\n"
     ]
    }
   ],
   "source": [
    "# Jumlah positif dan negatif dari setiap jenis pelabelan\n",
    "neg1, pos1 = (LabelInset['label'][LabelInset['label']=='neg']).count(), (LabelInset['label'][LabelInset['label']=='pos']).count()\n",
    "neg2, pos2 = (LabelSenti['label'][LabelSenti['label']=='neg']).count(), (LabelSenti['label'][LabelSenti['label']=='pos']).count()\n",
    "print('neg:', neg1, '(', '{0:.2f}'.format(neg1/(neg1+pos1)*100), '%)','\\t', 'pos:', pos1, '(', '{0:.2f}'.format(pos1/(neg1+pos1)*100),'%)',' | inset')\n",
    "print('neg:', neg2, '(', '{0:.2f}'.format(neg2/(neg2+pos2)*100), '%)','\\t', 'pos:', pos2, '(', '{0:.2f}'.format(pos2/(neg2+pos2)*100),'%)',' | senti')"
   ]
  },
  {
   "cell_type": "markdown",
   "id": "73eabad8-d9bb-4cc2-8a39-e9883ed7dd29",
   "metadata": {},
   "source": [
    "### Menggunakan pelabelan dari Lexion Based Indonesia / InSet"
   ]
  },
  {
   "cell_type": "code",
   "execution_count": 75,
   "id": "580810c3-4327-45f6-bad0-76ac4e6b77bb",
   "metadata": {},
   "outputs": [],
   "source": [
    "#Menggunakan pelabelan dari InSet\n",
    "LL = LabelInset"
   ]
  },
  {
   "cell_type": "code",
   "execution_count": 25,
   "id": "1d2f3da5-76ba-4a5d-afc0-aba3c5c361fe",
   "metadata": {},
   "outputs": [
    {
     "name": "stdout",
     "output_type": "stream",
     "text": [
      "                                                text\n",
      "0                                              tweet\n",
      "1  direktur jenderal badan kesehatan dunia who me...\n",
      "2  semua negara dunia menyerukan pentingnya imuni... \n",
      "\n",
      "   label\n",
      "0   neg\n",
      "1   neg\n",
      "2   neg\n"
     ]
    }
   ],
   "source": [
    "print(Corpus[:3], '\\n\\n', LL[:3])"
   ]
  },
  {
   "cell_type": "markdown",
   "id": "74b5d08e-d08b-4ed2-b6a8-1bc477917edd",
   "metadata": {},
   "source": [
    "### Tokenisasi"
   ]
  },
  {
   "cell_type": "code",
   "execution_count": 26,
   "id": "56bc1e08-61c4-4b74-83a2-80b5f80bc05e",
   "metadata": {},
   "outputs": [],
   "source": [
    "# Step - a : Menghapus baris kosong, jika ada.\n",
    "Corpus['text'].dropna(inplace=True)\n",
    "# # Step - b : Mengganti semua teks ke karakter kecil karena 'oke' dan 'OKE' diinterpretasikan berbeda\n",
    "# Corpus['text'] = [entry.lower() for entry in Corpus['text']] # we've done this in '[1] text cleaning.ipynb'\n",
    "# Step - c : Tokenisasi : Setiap kalimat di dalam korpus akan dipecah menjadi daftar kata/string\n",
    "Corpus['text']= [word_tokenize(entry) for entry in Corpus['text']]\n",
    "\n",
    "for index,entry in enumerate(Corpus['text']):\n",
    "    # Mendeklarasikan list kosong untuk menyimpan daftar kata yang sesuai dengan aturan yang dibuat\n",
    "    Final_words = []\n",
    "    for word in entry:\n",
    "        # Kondisi di bawah adalah untuk mengecek/mempertimbangkan alfabet saja\n",
    "        if word.isalpha():\n",
    "            word_Final = word\n",
    "            Final_words.append(word_Final)\n",
    "    Corpus.loc[index,'text_final'] = str(Final_words)"
   ]
  },
  {
   "cell_type": "code",
   "execution_count": 27,
   "id": "9ec0ca89-95c1-4f2c-8d1e-cd8d4ba3d590",
   "metadata": {},
   "outputs": [
    {
     "name": "stdout",
     "output_type": "stream",
     "text": [
      "                                                text  \\\n",
      "0                                            [tweet]   \n",
      "1  [direktur, jenderal, badan, kesehatan, dunia, ...   \n",
      "2  [semua, negara, dunia, menyerukan, pentingnya,...   \n",
      "\n",
      "                                          text_final  \n",
      "0                                          ['tweet']  \n",
      "1  ['direktur', 'jenderal', 'badan', 'kesehatan',...  \n",
      "2  ['semua', 'negara', 'dunia', 'menyerukan', 'pe...  \n"
     ]
    }
   ],
   "source": [
    "print(Corpus[:3])"
   ]
  },
  {
   "cell_type": "markdown",
   "id": "e7986731-be1a-40d2-bafb-65b3ddce1a79",
   "metadata": {},
   "source": [
    "### Split Data"
   ]
  },
  {
   "cell_type": "code",
   "execution_count": 28,
   "id": "6702ec03-22f6-4cd9-8489-b2ad6bf07338",
   "metadata": {},
   "outputs": [],
   "source": [
    "# Membagi set data latih dan data uji dengan rasio 70:30\n",
    "Train_X, Test_X, Train_Y, Test_Y = model_selection.train_test_split(Corpus['text_final'],LL['label'],test_size=0.3, random_state=42)"
   ]
  },
  {
   "cell_type": "code",
   "execution_count": 29,
   "id": "b3d3831d-2d47-4b42-afd9-ce88c12beb3c",
   "metadata": {},
   "outputs": [
    {
     "name": "stdout",
     "output_type": "stream",
     "text": [
      "697 0.6997991967871486 % \n",
      " 299 0.3002008032128514 %\n"
     ]
    }
   ],
   "source": [
    "print(Train_X.size, Train_X.size/(Test_X.size+Train_X.size),'%','\\n',\n",
    "      Test_X.size, Test_X.size/(Test_X.size+Train_X.size),'%')"
   ]
  },
  {
   "cell_type": "code",
   "execution_count": 30,
   "id": "d112fc50-e8ec-47bd-aba2-ebdc8100169b",
   "metadata": {},
   "outputs": [],
   "source": [
    "# Encoding label menjadi nilai antara 0 and kelas_n-1\n",
    "Encoder = LabelEncoder()\n",
    "Train_Y = Encoder.fit_transform(Train_Y)\n",
    "Test_Y = Encoder.fit_transform(Test_Y)"
   ]
  },
  {
   "cell_type": "markdown",
   "id": "9df4f300-8f70-4624-8aef-2dbfc4bb2d77",
   "metadata": {},
   "source": [
    "### Ekstraksi Fitur Teks"
   ]
  },
  {
   "cell_type": "markdown",
   "id": "a19af378-0b4b-42e8-9f4c-23e9273f077c",
   "metadata": {},
   "source": [
    "#### Bag of Words"
   ]
  },
  {
   "cell_type": "code",
   "execution_count": 32,
   "id": "abe0e649-1876-451f-9cec-c96f88264602",
   "metadata": {},
   "outputs": [],
   "source": [
    "vectorizer = CountVectorizer()\n",
    "X = vectorizer.fit_transform(Corpus['text_final'])"
   ]
  },
  {
   "cell_type": "code",
   "execution_count": 33,
   "id": "e5bfec38-eabd-455b-9b9f-d48f95229ab0",
   "metadata": {},
   "outputs": [],
   "source": [
    "# Transform Train_X dan Test_X ke vektor BoW\n",
    "Train_X_BoW = vectorizer.transform(Train_X)\n",
    "Test_X_BoW = vectorizer.transform(Test_X)"
   ]
  },
  {
   "cell_type": "markdown",
   "id": "b2e942f1-c6cf-42fa-b0c9-bfb034aed767",
   "metadata": {},
   "source": [
    "#### Tf_IDF"
   ]
  },
  {
   "cell_type": "code",
   "execution_count": 35,
   "id": "d12984b4-2e8d-4e5d-8b41-c74c6dda3afe",
   "metadata": {},
   "outputs": [],
   "source": [
    "Tfidf_vect = TfidfVectorizer()\n",
    "Tfidf_vect.fit(Corpus['text_final'])\n",
    "\n",
    "X = Tfidf_vect.fit_transform(Corpus['text_final'])"
   ]
  },
  {
   "cell_type": "code",
   "execution_count": 36,
   "id": "60f0f65a-727c-4a8a-8290-c3b86212b523",
   "metadata": {},
   "outputs": [],
   "source": [
    "# Transform Train_X dan Test_X ke vektor TF-IDF\n",
    "Train_X_Tfidf = Tfidf_vect.transform(Train_X)\n",
    "Test_X_Tfidf = Tfidf_vect.transform(Test_X)"
   ]
  },
  {
   "cell_type": "markdown",
   "id": "dcca7adc-fa4f-438b-84a6-2c5150b61ba6",
   "metadata": {},
   "source": [
    "### Hyperparameter Optimization using GridSearch CV"
   ]
  },
  {
   "cell_type": "markdown",
   "id": "a9e30f91-e259-4cce-baa3-d4b7b4a8a253",
   "metadata": {},
   "source": [
    "Sebuah teknik yang digunakan untuk mencari kombinasi terbaik dari hyperparameter dalam sebuah model machine learning menggunakan metode GridSearchCV. Hyperparameter adalah parameter yang ditentukan di luar model machine learning itu sendiri dan tidak dipelajari oleh model selama proses training.\n",
    "<br><br> GridSearch CV adalah metode untuk melakukan pencarian ke dalam ruang hyperparameter secara sistematis. Pada dasarnya, metode ini akan mencoba semua kombinasi yang mungkin dari hyperparameter yang ditentukan sebelumnya dan mengevaluasi performa model untuk setiap kombinasi tersebut menggunakan teknik validasi silang (cross-validation). Dengan menggunakan teknik ini, kita dapat mengidentifikasi kombinasi hyperparameter yang memberikan performa terbaik untuk model kita.\n",
    "<br><br>Proses GridSearch CV bekerja dengan cara berikut:\n",
    "1. Mendefinisikan model yang akan diuji serta daftar hyperparameter yang ingin dioptimasi.\n",
    "2. Menentukan kombinasi yang mungkin dari hyperparameter yang ingin diuji.\n",
    "3. Untuk setiap kombinasi hyperparameter, melakukan training dan evaluasi model menggunakan teknik validasi silang.\n",
    "4. Mencatat performa model untuk setiap kombinasi hyperparameter.\n",
    "5. Memilih kombinasi hyperparameter yang memberikan performa terbaik berdasarkan evaluasi yang dilakukan.\n",
    "6. GridSearch CV memungkinkan kita untuk melakukan eksplorasi sistematis terhadap ruang hyperparameter dan mencari kombinasi yang menghasilkan performa terbaik untuk model kita. Dengan mencoba berbagai kombinasi hyperparameter, kita dapat meningkatkan performa model dan mengoptimalkan hasil prediksi."
   ]
  },
  {
   "cell_type": "code",
   "execution_count": 38,
   "id": "d76f574d-ab7a-4dd3-894e-6ff87e7bc2d6",
   "metadata": {},
   "outputs": [
    {
     "data": {
      "text/plain": [
       "GridSearchCV(cv=5, estimator=SVC(),\n",
       "             param_grid=[{'C': [1, 100, 1000], 'kernel': ['linear']},\n",
       "                         {'C': [1, 100, 1000],\n",
       "                          'gamma': [0.1, 0.2, 0.3, 0.4, 0.5, 0.6, 0.7, 0.8,\n",
       "                                    0.9],\n",
       "                          'kernel': ['rbf']},\n",
       "                         {'C': [1, 100, 1000], 'degree': [2, 3, 4],\n",
       "                          'gamma': [0.01, 0.02, 0.03, 0.04, 0.05],\n",
       "                          'kernel': ['poly']}],\n",
       "             scoring='accuracy')"
      ]
     },
     "execution_count": 38,
     "metadata": {},
     "output_type": "execute_result"
    }
   ],
   "source": [
    "# instantiate classifier with default hyperparameters with kernel=rbf, C=1.0 and gamma=auto/scale\n",
    "svc=SVC() \n",
    "\n",
    "# declare parameters for hyperparameter tuning\n",
    "parameters = [ {'C':[1, 100, 1000], 'kernel':['linear']},\n",
    "               {'C':[1, 100, 1000], 'kernel':['rbf'], 'gamma':[0.1, 0.2, 0.3, 0.4, 0.5, 0.6, 0.7, 0.8, 0.9]},\n",
    "               {'C':[1, 100, 1000], 'kernel':['poly'], 'degree': [2,3,4] ,'gamma':[0.01,0.02,0.03,0.04,0.05]} \n",
    "              ]\n",
    "\n",
    "grid_search = GridSearchCV(estimator = svc,  \n",
    "                           param_grid = parameters,\n",
    "                           scoring = 'accuracy',\n",
    "                           cv = 5,\n",
    "                           verbose=0)\n",
    "\n",
    "\n",
    "#Train data BoW\n",
    "grid_search.fit(Train_X_BoW, Train_Y)"
   ]
  },
  {
   "cell_type": "code",
   "execution_count": 39,
   "id": "fde844a6-10e9-4ac3-8ca2-433cdb5357cd",
   "metadata": {},
   "outputs": [
    {
     "data": {
      "text/plain": [
       "GridSearchCV(cv=5, estimator=SVC(),\n",
       "             param_grid=[{'C': [1, 100, 1000], 'kernel': ['linear']},\n",
       "                         {'C': [1, 100, 1000],\n",
       "                          'gamma': [0.1, 0.2, 0.3, 0.4, 0.5, 0.6, 0.7, 0.8,\n",
       "                                    0.9],\n",
       "                          'kernel': ['rbf']},\n",
       "                         {'C': [1, 100, 1000], 'degree': [2, 3, 4],\n",
       "                          'gamma': [0.01, 0.02, 0.03, 0.04, 0.05],\n",
       "                          'kernel': ['poly']}],\n",
       "             scoring='accuracy')"
      ]
     },
     "execution_count": 39,
     "metadata": {},
     "output_type": "execute_result"
    }
   ],
   "source": [
    "grid_search_Tfidf = GridSearchCV(estimator = svc,  \n",
    "                           param_grid = parameters,\n",
    "                           scoring = 'accuracy',\n",
    "                           cv = 5,\n",
    "                           verbose=0)\n",
    "#Train data TF-IDF\n",
    "grid_search_Tfidf.fit(Train_X_Tfidf, Train_Y)"
   ]
  },
  {
   "cell_type": "code",
   "execution_count": 40,
   "id": "02405b3c-526d-4f97-994e-5eabe8c4e0b7",
   "metadata": {},
   "outputs": [],
   "source": [
    "### BoW ###"
   ]
  },
  {
   "cell_type": "code",
   "execution_count": 41,
   "id": "1c744e32-f63d-4448-87d3-50f9c64823a4",
   "metadata": {},
   "outputs": [
    {
     "name": "stdout",
     "output_type": "stream",
     "text": [
      "\n",
      "\n",
      "---BoW---\n",
      "\n",
      "GridSearch CV best score : 0.7188\n",
      "\n",
      "Parameters that give the best results : {'C': 100, 'gamma': 0.1, 'kernel': 'rbf'}\n",
      "\n",
      "Estimator that was chosen by the search : SVC(C=100, gamma=0.1)\n"
     ]
    }
   ],
   "source": [
    "# examine the best model\n",
    "# best score achieved during the GridSearchCV\n",
    "print('\\n\\n---BoW---\\n')\n",
    "print('GridSearch CV best score : {:.4f}\\n'.format(grid_search.best_score_))\n",
    "# print parameters that give the best results\n",
    "print('Parameters that give the best results :', (grid_search.best_params_))\n",
    "# print estimator that was chosen by the GridSearch\n",
    "print('\\nEstimator that was chosen by the search :', (grid_search.best_estimator_))"
   ]
  },
  {
   "cell_type": "code",
   "execution_count": 42,
   "id": "a1ba374b-5233-4a32-83ae-9e18d3f097c8",
   "metadata": {},
   "outputs": [],
   "source": [
    "### TF-IDF ###"
   ]
  },
  {
   "cell_type": "code",
   "execution_count": 43,
   "id": "59fa012e-4e8f-4636-b715-46197389b930",
   "metadata": {},
   "outputs": [
    {
     "name": "stdout",
     "output_type": "stream",
     "text": [
      "\n",
      "\n",
      "---TF-IDF---\n",
      "\n",
      "GridSearch CV best score : 0.7446\n",
      "\n",
      "Parameters that give the best results : {'C': 100, 'gamma': 0.1, 'kernel': 'rbf'}\n",
      "\n",
      "Estimator that was chosen by the search : SVC(C=100, gamma=0.1)\n"
     ]
    }
   ],
   "source": [
    "# examine the best model\n",
    "# best score achieved during the GridSearchCV\n",
    "print('\\n\\n---TF-IDF---\\n')\n",
    "print('GridSearch CV best score : {:.4f}\\n'.format(grid_search_Tfidf.best_score_))\n",
    "# print parameters that give the best results\n",
    "print('Parameters that give the best results :', (grid_search_Tfidf.best_params_))\n",
    "# print estimator that was chosen by the GridSearch\n",
    "print('\\nEstimator that was chosen by the search :', (grid_search_Tfidf.best_estimator_))"
   ]
  },
  {
   "cell_type": "code",
   "execution_count": 44,
   "id": "162f60f0-375b-48b3-8555-7580a82ccb31",
   "metadata": {},
   "outputs": [
    {
     "name": "stdout",
     "output_type": "stream",
     "text": [
      "GridSearch CV score on test set: 0.6923\n",
      "GridSearch CV score on test set: 0.7157\n"
     ]
    }
   ],
   "source": [
    "# calculate GridSearch CV score on test set\n",
    "print('GridSearch CV score on test set: {0:0.4f}'.format(grid_search.score(Test_X_BoW, Test_Y)))\n",
    "# calculate GridSearch CV score on test set\n",
    "print('GridSearch CV score on test set: {0:0.4f}'.format(grid_search_Tfidf.score(Test_X_Tfidf, Test_Y)))"
   ]
  },
  {
   "cell_type": "markdown",
   "id": "147ffa28-fe5d-467b-bf07-e9d0c3633384",
   "metadata": {},
   "source": [
    "### Definisikan Classifier"
   ]
  },
  {
   "cell_type": "markdown",
   "id": "9bb98579-bfb6-49e0-9d3e-989e7cef077d",
   "metadata": {},
   "source": [
    "Mendefinisikan clisifier berdasarkan best score pada masing-masing kombinasi fitur ekstraksi dan leksikon"
   ]
  },
  {
   "cell_type": "code",
   "execution_count": 54,
   "id": "15e89ea9-d2cd-4eee-a666-70eae38de1ed",
   "metadata": {},
   "outputs": [],
   "source": [
    "# Menggunakan SVM dengan kernel hasil Grid Search CV sebagai classifier\n",
    "rbff100 = svm.SVC(kernel='rbf', C=100.0, random_state=42)#karnel rbf dengan C=100.0\n",
    "rbf100=SVC(C=100.0, gamma=0.1, random_state=42) #karnel RBF dengan C=100.0"
   ]
  },
  {
   "cell_type": "markdown",
   "id": "92384a6d-694e-4fcf-8e02-f00de9462059",
   "metadata": {},
   "source": [
    "#### BoW"
   ]
  },
  {
   "cell_type": "code",
   "execution_count": 52,
   "id": "3cb00619-8ea4-4ddc-8be6-7777d80cd062",
   "metadata": {},
   "outputs": [
    {
     "name": "stdout",
     "output_type": "stream",
     "text": [
      "Model accuracy score with linear kernel and C=1000.0  ->  69.23076923076923\n"
     ]
    }
   ],
   "source": [
    "# SVM dengan Karnel Linier C=1000.0\n",
    "## fitting data latih pada classifier\n",
    "rbff100.fit(Train_X_BoW,Train_Y)\n",
    "\n",
    "## memprediksi label pada set data uji\n",
    "predictions_SVM_BoW_Linier1000 = rbff100.predict(Test_X_BoW)\n",
    "\n",
    "## Menggunakan fungsi accuracy_score untuk mendapat nilai akurasi\n",
    "accuracy_Bow_linear1000 = accuracy_score(Test_Y, predictions_SVM_BoW_Linier1000)*100\n",
    "print('Model accuracy score with linear kernel and C=1000.0  -> ', accuracy_Bow_linear1000)"
   ]
  },
  {
   "cell_type": "markdown",
   "id": "f0c9c532-db44-46af-92bd-ff4fd82a2f58",
   "metadata": {},
   "source": [
    "#### TF_IDF"
   ]
  },
  {
   "cell_type": "code",
   "execution_count": 53,
   "id": "2d40e141-8cd3-48dd-a39a-8af06c2d5f76",
   "metadata": {},
   "outputs": [
    {
     "name": "stdout",
     "output_type": "stream",
     "text": [
      "Model accuracy score with rbf kernel and C=100.0 ->  71.57190635451505\n"
     ]
    }
   ],
   "source": [
    "#### SVM dengan Karnel RBF dan C=100.0 Gamma =0.1####\n",
    "# fitting data latih pada classifier\n",
    "rbf100.fit(Train_X_Tfidf,Train_Y)\n",
    "\n",
    "# memprediksi label pada set data uji\n",
    "predictions_SVM_Tfidf_RBF100 = rbf100.predict(Test_X_Tfidf)\n",
    "\n",
    "# Menggunakan fungsi accuracy_score untuk mendapat nilai akurasi\n",
    "accuracy_Tfidf_rbf100 = accuracy_score(Test_Y, predictions_SVM_Tfidf_RBF100)*100\n",
    "print('Model accuracy score with rbf kernel and C=100.0 -> ', accuracy_Tfidf_rbf100)"
   ]
  },
  {
   "cell_type": "markdown",
   "id": "1aa1fcf5-e866-48ed-8f66-59872d253be1",
   "metadata": {},
   "source": [
    "#### Membandingkan Nilai Leksikon dengan Nilai Prediksi"
   ]
  },
  {
   "cell_type": "code",
   "execution_count": 55,
   "id": "5c1df483-81d0-4688-8d6d-ae0135e719d9",
   "metadata": {},
   "outputs": [
    {
     "data": {
      "text/html": [
       "<div>\n",
       "<style scoped>\n",
       "    .dataframe tbody tr th:only-of-type {\n",
       "        vertical-align: middle;\n",
       "    }\n",
       "\n",
       "    .dataframe tbody tr th {\n",
       "        vertical-align: top;\n",
       "    }\n",
       "\n",
       "    .dataframe thead th {\n",
       "        text-align: right;\n",
       "    }\n",
       "</style>\n",
       "<table border=\"1\" class=\"dataframe\">\n",
       "  <thead>\n",
       "    <tr style=\"text-align: right;\">\n",
       "      <th></th>\n",
       "      <th>Lexicon Values</th>\n",
       "      <th>Predicted Values</th>\n",
       "    </tr>\n",
       "  </thead>\n",
       "  <tbody>\n",
       "    <tr>\n",
       "      <th>0</th>\n",
       "      <td>0</td>\n",
       "      <td>0</td>\n",
       "    </tr>\n",
       "    <tr>\n",
       "      <th>1</th>\n",
       "      <td>1</td>\n",
       "      <td>0</td>\n",
       "    </tr>\n",
       "    <tr>\n",
       "      <th>2</th>\n",
       "      <td>0</td>\n",
       "      <td>0</td>\n",
       "    </tr>\n",
       "    <tr>\n",
       "      <th>3</th>\n",
       "      <td>0</td>\n",
       "      <td>1</td>\n",
       "    </tr>\n",
       "    <tr>\n",
       "      <th>4</th>\n",
       "      <td>0</td>\n",
       "      <td>0</td>\n",
       "    </tr>\n",
       "    <tr>\n",
       "      <th>5</th>\n",
       "      <td>1</td>\n",
       "      <td>1</td>\n",
       "    </tr>\n",
       "    <tr>\n",
       "      <th>6</th>\n",
       "      <td>0</td>\n",
       "      <td>0</td>\n",
       "    </tr>\n",
       "    <tr>\n",
       "      <th>7</th>\n",
       "      <td>1</td>\n",
       "      <td>0</td>\n",
       "    </tr>\n",
       "    <tr>\n",
       "      <th>8</th>\n",
       "      <td>1</td>\n",
       "      <td>1</td>\n",
       "    </tr>\n",
       "    <tr>\n",
       "      <th>9</th>\n",
       "      <td>0</td>\n",
       "      <td>0</td>\n",
       "    </tr>\n",
       "  </tbody>\n",
       "</table>\n",
       "</div>"
      ],
      "text/plain": [
       "   Lexicon Values  Predicted Values\n",
       "0               0                 0\n",
       "1               1                 0\n",
       "2               0                 0\n",
       "3               0                 1\n",
       "4               0                 0\n",
       "5               1                 1\n",
       "6               0                 0\n",
       "7               1                 0\n",
       "8               1                 1\n",
       "9               0                 0"
      ]
     },
     "execution_count": 55,
     "metadata": {},
     "output_type": "execute_result"
    }
   ],
   "source": [
    "df = pd.DataFrame({'Lexicon Values':Test_Y, 'Predicted Values':predictions_SVM_Tfidf_RBF100})\n",
    "df[:10]"
   ]
  },
  {
   "cell_type": "markdown",
   "id": "b3a6650f-fce1-449f-9674-2b4285222c8b",
   "metadata": {},
   "source": [
    "### Gambaran Data"
   ]
  },
  {
   "cell_type": "code",
   "execution_count": 56,
   "id": "8e2e7ae1-be7d-4a1a-9fea-64e70875a382",
   "metadata": {},
   "outputs": [
    {
     "name": "stdout",
     "output_type": "stream",
     "text": [
      "X: 996 \n",
      "Train\tTest\t\t%train\t%test\n",
      " 697 \t 299 \tX\t 69.98 \t 30.02 \n",
      " 8552 \t 3509 \tBoWs\t 70.91 \t 29.09 \n",
      " 8552 \t 3509 \tTF-IDF\t 70.91 \t 29.09\n",
      "\n",
      "neg\tpos\t\tsum\n",
      " 191 \t 108 \t 299 \tTest_Y\n",
      " 243 \t 56 \t 299 \tP_BoWs_Linier(C=1000.0)\n",
      " 210 \t 89 \t 299 \tP_Tfidf_rbf(C=100.0)\n",
      "\n"
     ]
    }
   ],
   "source": [
    "# Gambaran rasio data latih dan data uji dari teks awal dan dari vektor ekstraksi fitur.\n",
    "print('X:', Corpus['text'].size,\n",
    "      '\\nTrain\\tTest\\t\\t%train\\t%test\\n',\n",
    "      \n",
    "      Train_X.size, '\\t', Test_X.size, '\\tX\\t', '{:.2f}'.format(Train_X.size/(Test_X.size+Train_X.size)*100), '\\t', '{:.2f}'.format(Test_X.size/(Test_X.size+Train_X.size)*100), '\\n',\n",
    "      Train_X_BoW.size, '\\t', Test_X_BoW.size, '\\tBoWs\\t', '{:.2f}'.format(Train_X_BoW.size/(Test_X_BoW.size+Train_X_BoW.size)*100), '\\t', '{:.2f}'.format(Test_X_BoW.size/(Test_X_BoW.size+Train_X_BoW.size)*100), '\\n',\n",
    "      Train_X_Tfidf.size, '\\t', Test_X_Tfidf.size, '\\tTF-IDF\\t', '{:.2f}'.format(Train_X_Tfidf.size/(Test_X_Tfidf.size+Train_X_Tfidf.size)*100), '\\t', '{:.2f}'.format(Test_X_Tfidf.size/(Test_X_Tfidf.size+Train_X_Tfidf.size)*100))\n",
    "\n",
    "# Gambaran jumlah kelas negatif dan positif dari data uji dengan label aktual, label leksikon, and label prediksi;\n",
    "# Label aktual dan label leksikon disimbolkan sebagai 'Test_Y_Actual' dan 'Test_Y';\n",
    "# Jika kamu memakai label aktual sebagai baseline, maka label leksikon di sini adalah label aktual itu sendiri.\n",
    "print('\\nneg\\tpos\\t\\tsum\\n',\n",
    "      (Test_Y==0).sum(), '\\t', (Test_Y==1).sum(), '\\t', Test_Y.size, '\\tTest_Y\\n',\n",
    "      (predictions_SVM_BoW_Linier1000==0).sum(),   '\\t', (predictions_SVM_BoW_Linier1000==1).sum(),   '\\t', predictions_SVM_BoW_Linier1000.size,   '\\tP_BoWs_Linier(C=1000.0)\\n',\n",
    "      (predictions_SVM_Tfidf_RBF100==0).sum(), '\\t', (predictions_SVM_Tfidf_RBF100==1).sum(), '\\t', predictions_SVM_Tfidf_RBF100.size, '\\tP_Tfidf_rbf(C=100.0)\\n',\n",
    "     )"
   ]
  },
  {
   "cell_type": "markdown",
   "id": "6235a8f6-375e-4c0f-8076-ef1577f1e403",
   "metadata": {},
   "source": [
    "#### Hasil"
   ]
  },
  {
   "cell_type": "markdown",
   "id": "8dbeb300-5b19-4559-93b2-ab3f0f38d198",
   "metadata": {},
   "source": [
    "Hasil model ini mendapatkan akurasi maksimum dari fitur ekstraksi TF-IDF dan kernel RBF C=100.0 dan gamma =0,1dengan akurasi sebesar 71,57%, dan di posisi kedua dengan nilai akurasi 69,23% dari kombinasi BoW dengan karnel linier C=100.0. Berdasarkan analisis di atas dapat disimpulkan bahwa akurasi model klasifikasi yang digunakan sangat baik. Model kami melakukan pekerjaan yang sangat baik dalam hal memprediksi label kelas.\n",
    "<br><br>Namun, ini tidak sepenuhnya benar karena data yang digunakan terdapat ketidakseimbangan antara kelas positif dan kelas negatif yang menyebabkan adanya missklasifikasi pada data yang menghasilkan label data yang cenderung lebih mayor pada data latih.\n",
    "<br><br>Pada penelitian terdahulu yang di lakukan oleh (Ganganwar, 2012) menyatakan bahwa kumpulan data yang tidak seimbang dapat menyebabkan miss-klasifikasi pada data. Hal ini dikarenakan perbedaan jumlah dataset antara kelas mayor dan minor yang bisa membuat kelas mayor memiliki kinerja yang lebih baik daripada kelas minor.\n",
    "<br><br>Jadi, kita harus mengeksplorasi metrik alternatif yang memberikan panduan yang lebih baik dalam memilih model. Secara khusus, saya ingin mengetahui distribusi nilai yang mendasari dan jenis kesalahan yang dibuat oleh classifer yang digunakan.\n",
    "<br><br>Salah satu metrik untuk menganalisis kinerja model dalam masalah kelas tidak seimbang adalah Confusion matrix."
   ]
  },
  {
   "cell_type": "markdown",
   "id": "17d304c9-f95a-44d1-bae5-b87f0bf83aec",
   "metadata": {},
   "source": [
    "# Evaluasi / Validasi"
   ]
  },
  {
   "cell_type": "markdown",
   "id": "3437d97e-786a-43de-9f54-1af094d0c037",
   "metadata": {},
   "source": [
    "## Confusion Matrix"
   ]
  },
  {
   "cell_type": "code",
   "execution_count": 57,
   "id": "8937d633-3ade-4078-9028-66be88cf4f12",
   "metadata": {},
   "outputs": [
    {
     "name": "stdout",
     "output_type": "stream",
     "text": [
      "\n",
      "### Confusion Matrix - BoW ###\n",
      "Confusion matrix\n",
      "\n",
      " [[158  33]\n",
      " [ 52  56]]\n",
      "\n",
      "True Positives(TP) =  158\n",
      "\n",
      "True Negatives(TN) =  56\n",
      "\n",
      "False Positives(FP) =  33\n",
      "\n",
      "False Negatives(FN) =  52\n"
     ]
    }
   ],
   "source": [
    "# Print the Confusion Matrix and slice it into four pieces\n",
    "y_true =Test_Y\n",
    "\n",
    "## BoW ~ Linier C=100 ##\n",
    "print('\\n### Confusion Matrix - BoW ###')\n",
    "y_pred = predictions_SVM_Tfidf_RBF100\n",
    "cm = confusion_matrix(y_true, y_pred)\n",
    "\n",
    "print('Confusion matrix\\n\\n', cm)\n",
    "print('\\nTrue Positives(TP) = ', cm[0,0])\n",
    "print('\\nTrue Negatives(TN) = ', cm[1,1])\n",
    "print('\\nFalse Positives(FP) = ', cm[0,1])\n",
    "print('\\nFalse Negatives(FN) = ', cm[1,0])"
   ]
  },
  {
   "cell_type": "markdown",
   "id": "b5477528-62f6-4176-a26a-6ff34985aaca",
   "metadata": {},
   "source": [
    "<br><blockquote> Hasil dari confusion matrix 158 + 56 = 214 prediksi yang benar dan 33 + 52 = 85 prediksi yang salah </blockquote> \n",
    "<br>Dalam hal ini,confusion matrix memiliki\n",
    "<ul>\n",
    "    <li> True Positives (Positif Aktual:1 dan Prediksi Positif:1) - 158 </li>\n",
    "    <li> True Negatives (Negatif Aktual:0 dan Prediksi Negatif:0) - 56 </li>\n",
    "    <li> False Positives (Actual Negative:0 tetapi Predict Positive:1) - 33 (Kesalahan tipe I) </li>\n",
    "    <li> False Negatives (Positif Aktual:1 tetapi Prediksi Negatif:0) - 52 (Kesalahan Tipe II) </li>\n",
    "    </ul>\n",
    "   <br>"
   ]
  },
  {
   "cell_type": "code",
   "execution_count": 59,
   "id": "9ae4dfd9-06db-4b63-a96b-2a2b23a5c09f",
   "metadata": {},
   "outputs": [
    {
     "data": {
      "text/plain": [
       "<AxesSubplot:>"
      ]
     },
     "execution_count": 59,
     "metadata": {},
     "output_type": "execute_result"
    },
    {
     "data": {
      "image/png": "[encoded data removed]",
      "text/plain": [
       "<Figure size 432x288 with 2 Axes>"
      ]
     },
     "metadata": {},
     "output_type": "display_data"
    }
   ],
   "source": [
    "# visualize confusion matrix with seaborn heatmap\n",
    "\n",
    "cm_matrix = pd.DataFrame(data=cm, columns=['Actual Positive:1', 'Actual Negative:0'], \n",
    "                                 index=['Predict Positive:1', 'Predict Negative:0'])\n",
    "\n",
    "sns.heatmap(cm_matrix, annot=True, fmt='d', cmap='YlGnBu')"
   ]
  },
  {
   "cell_type": "markdown",
   "id": "611105fd-1889-4a49-94a7-c27e051e8204",
   "metadata": {},
   "source": [
    "### Klasifikasi Matrix\n",
    "#### Classification report\n",
    "merupakan sebuah cara lain untuk mengevaluasi kinerja model klasifikasi. Ini menampilkan presisi, recall, f1 dan support scores untuk model."
   ]
  },
  {
   "cell_type": "code",
   "execution_count": 61,
   "id": "02e44510-84a0-4e77-a1ac-5f49df0676fd",
   "metadata": {},
   "outputs": [
    {
     "name": "stdout",
     "output_type": "stream",
     "text": [
      "TF-IDF - linear C=1.0\n",
      "               precision    recall  f1-score   support\n",
      "\n",
      "           0       0.75      0.83      0.79       191\n",
      "           1       0.63      0.52      0.57       108\n",
      "\n",
      "    accuracy                           0.72       299\n",
      "   macro avg       0.69      0.67      0.68       299\n",
      "weighted avg       0.71      0.72      0.71       299\n",
      "\n"
     ]
    }
   ],
   "source": [
    "# Membuat classification report\n",
    "\n",
    "## TF-IDF ##\n",
    "print('TF-IDF - linear C=1.0\\n',\n",
    "      classification_report(Test_Y, predictions_SVM_Tfidf_RBF100))"
   ]
  },
  {
   "cell_type": "markdown",
   "id": "3ccb169a-9583-43b8-b2f7-f3b8f64cde97",
   "metadata": {},
   "source": [
    "#### Classification accuracy"
   ]
  },
  {
   "cell_type": "code",
   "execution_count": 62,
   "id": "96d80be2-9888-482c-acf3-acbe71d5d77f",
   "metadata": {},
   "outputs": [],
   "source": [
    "TP = cm[0,0]\n",
    "TN = cm[1,1]\n",
    "FP = cm[0,1]\n",
    "FN = cm[1,0]"
   ]
  },
  {
   "cell_type": "code",
   "execution_count": 63,
   "id": "8b2e71af-880b-42a4-98a1-82c0868eb4ec",
   "metadata": {},
   "outputs": [
    {
     "name": "stdout",
     "output_type": "stream",
     "text": [
      "Classification accuracy : 0.7157\n"
     ]
    }
   ],
   "source": [
    "# print classification accuracy\n",
    "\n",
    "classification_accuracy = (TP + TN) / float(TP + TN + FP + FN)\n",
    "\n",
    "print('Classification accuracy : {0:0.4f}'.format(classification_accuracy))"
   ]
  },
  {
   "cell_type": "code",
   "execution_count": 64,
   "id": "4d4c51eb-ff00-46f5-beea-4fda61ffcbd8",
   "metadata": {},
   "outputs": [
    {
     "name": "stdout",
     "output_type": "stream",
     "text": [
      "Classification error : 0.2843\n"
     ]
    }
   ],
   "source": [
    "# print classification error\n",
    "\n",
    "classification_error = (FP + FN) / float(TP + TN + FP + FN)\n",
    "\n",
    "print('Classification error : {0:0.4f}'.format(classification_error))"
   ]
  },
  {
   "cell_type": "markdown",
   "id": "ffce0f40-bb9c-41d5-bb37-402102e05d9d",
   "metadata": {},
   "source": [
    "### Validasi dengan K-Cross Validation\n",
    "Ubah nilai n_splits sesuai dengan kebutuhan. Sebagai contoh, 5 splits berarti bahwa data (X dan y oversample) dibagi menjadi 4 porsi untuk set latih baru dan 1 porsi untuk set uji baru. Jika shuffle bernilai True, maka validasi silang dilakukan dengan kombinasi data yang berbeda di setiap iterasi. Kemudian validasi silang dilakukan dalam 5 iterasi."
   ]
  },
  {
   "cell_type": "markdown",
   "id": "d32d4108-ee16-4f32-924c-69e1aba39537",
   "metadata": {},
   "source": [
    "#### Stratified k-Fold Cross Validation with shuffle split with rbf kernel"
   ]
  },
  {
   "cell_type": "code",
   "execution_count": 67,
   "id": "c68ead4a-c75f-4ebb-93ab-7414ea062dc0",
   "metadata": {},
   "outputs": [
    {
     "name": "stdout",
     "output_type": "stream",
     "text": [
      "/n/nStratified cross-validation scores with linear kernel:\n",
      "[0.7        0.79285714 0.69784173 0.72661871 0.69064748]\n"
     ]
    }
   ],
   "source": [
    "kfold=KFold(n_splits=5, shuffle=True, random_state=0)\n",
    "rbf100_scores = cross_val_score(rbf100, Train_X_BoW, Train_Y, cv=kfold)\n",
    "\n",
    "# print cross-validation scores with rbf kernel\n",
    "print('/n/nStratified cross-validation scores with linear kernel:\\n{}'.format(rbf100_scores))"
   ]
  },
  {
   "cell_type": "code",
   "execution_count": 68,
   "id": "65b4c005-4193-46bd-b3ae-7993fc519469",
   "metadata": {},
   "outputs": [
    {
     "name": "stdout",
     "output_type": "stream",
     "text": [
      "\n",
      "Maximum Accuracy That can be obtained from this model is: 79.28571428571428 %\n",
      "\n",
      "Minimum Accuracy: 69.06474820143885 %\n",
      "\n",
      "Overall Accuracy: 72.15930113052416 %\n",
      "\n",
      "Standard Deviation is: 0.04210653597691819\n"
     ]
    }
   ],
   "source": [
    "print('\\nMaximum Accuracy That can be obtained from this model is:',\n",
    "      max(rbf100_scores)*100, '%')\n",
    "print('\\nMinimum Accuracy:',\n",
    "      min(rbf100_scores)*100, '%')\n",
    "print('\\nOverall Accuracy:',\n",
    "      mean(rbf100_scores)*100, '%')\n",
    "print('\\nStandard Deviation is:', stdev(rbf100_scores))"
   ]
  },
  {
   "cell_type": "code",
   "execution_count": 69,
   "id": "ef55e081-858d-478a-a707-e706e042b0a2",
   "metadata": {},
   "outputs": [],
   "source": [
    "# Simpan nilai presisi, recall, dan f1-score ke file\n",
    "def cr_oversampled(featExt, precision, recall, f1):\n",
    "    output = 'svm_cr_inset_'+str(featExt)+'_kfold.txt'\n",
    "    with open(output, 'a') as f:\n",
    "        f.write(str(precision)+'\\t'+str(recall)+'\\t'+str(f1)+'\\n')"
   ]
  },
  {
   "cell_type": "code",
   "execution_count": 70,
   "id": "37b25029-0f93-453d-9e98-a4a3391abc4b",
   "metadata": {},
   "outputs": [
    {
     "name": "stderr",
     "output_type": "stream",
     "text": [
      "C:\\Users\\Chanchun\\anaconda3\\lib\\site-packages\\sklearn\\utils\\validation.py:63: DataConversionWarning: A column-vector y was passed when a 1d array was expected. Please change the shape of y to (n_samples, ), for example using ravel().\n",
      "  return f(*args, **kwargs)\n"
     ]
    }
   ],
   "source": [
    "outer_cv = KFold(n_splits=5, shuffle=True, random_state=42)\n",
    "\n",
    "y = LL\n",
    "y = Encoder.fit_transform(y)"
   ]
  },
  {
   "cell_type": "code",
   "execution_count": 71,
   "id": "91524b82-3e57-4fdc-b575-0a6ab5b951db",
   "metadata": {},
   "outputs": [
    {
     "name": "stdout",
     "output_type": "stream",
     "text": [
      "BoW - Karnel rbf(rbf=100.0)\n",
      "# Fold 1:\n",
      "              precision    recall  f1-score   support\n",
      "\n",
      "           0       0.80      0.81      0.81       127\n",
      "           1       0.67      0.66      0.66        73\n",
      "\n",
      "    accuracy                           0.76       200\n",
      "   macro avg       0.74      0.73      0.73       200\n",
      "weighted avg       0.75      0.76      0.75       200\n",
      " \n",
      "\n",
      "# Fold 2:\n",
      "              precision    recall  f1-score   support\n",
      "\n",
      "           0       0.77      0.78      0.78       133\n",
      "           1       0.55      0.53      0.54        66\n",
      "\n",
      "    accuracy                           0.70       199\n",
      "   macro avg       0.66      0.66      0.66       199\n",
      "weighted avg       0.70      0.70      0.70       199\n",
      " \n",
      "\n",
      "# Fold 3:\n",
      "              precision    recall  f1-score   support\n",
      "\n",
      "           0       0.71      0.84      0.77       118\n",
      "           1       0.68      0.51      0.58        81\n",
      "\n",
      "    accuracy                           0.70       199\n",
      "   macro avg       0.70      0.67      0.68       199\n",
      "weighted avg       0.70      0.70      0.69       199\n",
      " \n",
      "\n",
      "# Fold 4:\n",
      "              precision    recall  f1-score   support\n",
      "\n",
      "           0       0.76      0.86      0.81       121\n",
      "           1       0.73      0.59      0.65        78\n",
      "\n",
      "    accuracy                           0.75       199\n",
      "   macro avg       0.75      0.72      0.73       199\n",
      "weighted avg       0.75      0.75      0.75       199\n",
      " \n",
      "\n",
      "# Fold 5:\n",
      "              precision    recall  f1-score   support\n",
      "\n",
      "           0       0.79      0.88      0.83       136\n",
      "           1       0.65      0.51      0.57        63\n",
      "\n",
      "    accuracy                           0.76       199\n",
      "   macro avg       0.72      0.69      0.70       199\n",
      "weighted avg       0.75      0.76      0.75       199\n",
      " \n",
      "\n"
     ]
    }
   ],
   "source": [
    "print('BoW - Karnel rbf(rbf=100.0)')\n",
    "featExt = 'bow'\n",
    "\n",
    "X = vectorizer.fit_transform(Corpus['text_final'])\n",
    "kf = KFold(n_splits=5, shuffle=True, random_state=42)\n",
    "\n",
    "for fold, (train_index, test_index) in enumerate(kf.split(X), 1):\n",
    "    X_train, X_test = X[train_index], X[test_index]\n",
    "    y_train, y_test = y[train_index], y[test_index]\n",
    "    \n",
    "    linear1000.fit(X_train, y_train)\n",
    "    y_pred = linear1000.predict(X_test)\n",
    "    \n",
    "    accuracy = accuracy_score(y_test, y_pred)\n",
    "    precision = precision_score(y_test, y_pred)\n",
    "    recall = recall_score(y_test, y_pred)\n",
    "    f1 = f1_score(y_test, y_pred)\n",
    "\n",
    "    #print to file\n",
    "    cr_oversampled(featExt, precision, recall, f1)\n",
    "\n",
    "    print(f'# Fold {fold}:')\n",
    "    print(classification_report(y_test, y_pred), \"\\n\")\n",
    "    \n",
    "#     print(f'accuracy: {accuracy}')\n",
    "#     print(f'precision: {precision}')\n",
    "#     print(f'recall: {recall}')\n",
    "#     print(f'f-score: {f1}')"
   ]
  },
  {
   "cell_type": "code",
   "execution_count": 72,
   "id": "835a682d-324c-407d-8e9f-4521a548a76c",
   "metadata": {},
   "outputs": [
    {
     "name": "stdout",
     "output_type": "stream",
     "text": [
      "TF-IDF - Karnel RBF(C=100.0)\n",
      "# Fold 1:\n",
      "              precision    recall  f1-score   support\n",
      "\n",
      "           0       0.80      0.83      0.82       127\n",
      "           1       0.69      0.63      0.66        73\n",
      "\n",
      "    accuracy                           0.76       200\n",
      "   macro avg       0.74      0.73      0.74       200\n",
      "weighted avg       0.76      0.76      0.76       200\n",
      " \n",
      "\n",
      "# Fold 2:\n",
      "              precision    recall  f1-score   support\n",
      "\n",
      "           0       0.77      0.87      0.82       133\n",
      "           1       0.65      0.48      0.56        66\n",
      "\n",
      "    accuracy                           0.74       199\n",
      "   macro avg       0.71      0.68      0.69       199\n",
      "weighted avg       0.73      0.74      0.73       199\n",
      " \n",
      "\n",
      "# Fold 3:\n",
      "              precision    recall  f1-score   support\n",
      "\n",
      "           0       0.72      0.86      0.78       118\n",
      "           1       0.71      0.52      0.60        81\n",
      "\n",
      "    accuracy                           0.72       199\n",
      "   macro avg       0.72      0.69      0.69       199\n",
      "weighted avg       0.72      0.72      0.71       199\n",
      " \n",
      "\n",
      "# Fold 4:\n",
      "              precision    recall  f1-score   support\n",
      "\n",
      "           0       0.74      0.93      0.82       121\n",
      "           1       0.81      0.49      0.61        78\n",
      "\n",
      "    accuracy                           0.75       199\n",
      "   macro avg       0.77      0.71      0.71       199\n",
      "weighted avg       0.76      0.75      0.74       199\n",
      " \n",
      "\n",
      "# Fold 5:\n",
      "              precision    recall  f1-score   support\n",
      "\n",
      "           0       0.83      0.92      0.87       136\n",
      "           1       0.77      0.59      0.67        63\n",
      "\n",
      "    accuracy                           0.81       199\n",
      "   macro avg       0.80      0.75      0.77       199\n",
      "weighted avg       0.81      0.81      0.81       199\n",
      " \n",
      "\n"
     ]
    }
   ],
   "source": [
    "print('TF-IDF - Karnel RBF(C=100.0)')\n",
    "featExt = 'tfidf'\n",
    "\n",
    "X = Tfidf_vect.fit_transform(Corpus['text_final'])\n",
    "kf = KFold(n_splits=5, shuffle=True, random_state=42)\n",
    "\n",
    "for fold, (train_index, test_index) in enumerate(kf.split(X), 1):\n",
    "    X_train, X_test = X[train_index], X[test_index]\n",
    "    y_train, y_test = y[train_index], y[test_index]\n",
    "\n",
    "    \n",
    "    rbf100.fit(X_train, y_train)\n",
    "    y_pred = rbf100.predict(X_test)\n",
    "    \n",
    "    accuracy = accuracy_score(y_test, y_pred)\n",
    "    precision = precision_score(y_test, y_pred)\n",
    "    recall = recall_score(y_test, y_pred)\n",
    "    f1 = f1_score(y_test, y_pred)\n",
    "\n",
    "    #print to file\n",
    "    cr_oversampled(featExt, precision, recall, f1)\n",
    "\n",
    "    print(f'# Fold {fold}:')\n",
    "    print(classification_report(y_test, y_pred), \"\\n\")"
   ]
  },
  {
   "cell_type": "code",
   "execution_count": 73,
   "id": "83e6eb7b-9085-4976-830f-f93ca2aae40f",
   "metadata": {},
   "outputs": [
    {
     "name": "stdout",
     "output_type": "stream",
     "text": [
      "[65.60189909297051, 55.83380428129286, 60.12003257197682]\n",
      "[72.61673534159534, 54.15970128298896, 61.766625258799166]\n"
     ]
    }
   ],
   "source": [
    "# data00 = pd.read_csv('svm_cr_ov_lb1_tp_kfold.txt', header=None, sep='\\t', names=['precision', 'recall', 'f1'])\n",
    "data01 = pd.read_csv('svm_cr_inset_bow_kfold.txt', header=None, sep='\\t', names=['precision', 'recall', 'f1'])\n",
    "data02 = pd.read_csv('svm_cr_inset_tfidf_kfold.txt', header=None, sep='\\t', names=['precision', 'recall', 'f1'])\n",
    "\n",
    "### BoW\n",
    "# Presisi rata-rata\n",
    "data01_a = data01['precision'].to_list()\n",
    "data01_a = sum(data01_a)/len(data01_a)*100\n",
    "# Recall rata-rata\n",
    "data01_b = data01['recall'].to_list()\n",
    "data01_b = sum(data01_b)/len(data01_b)*100\n",
    "# F1-score rata-rata\n",
    "data01_c = data01['f1'].to_list()\n",
    "data01_c = sum(data01_c)/len(data01_c)*100\n",
    "# Menggabungkan semua nilai\n",
    "data01 = [data01_a, data01_b, data01_c]\n",
    "print(data01)\n",
    "\n",
    "### TF-IDF\n",
    "# Presisi rata-rata\n",
    "data02_a = data02['precision'].to_list()\n",
    "data02_a = sum(data02_a)/len(data02_a)*100\n",
    "# Recall rata-rata\n",
    "data02_b = data02['recall'].to_list()\n",
    "data02_b = sum(data02_b)/len(data02_b)*100\n",
    "# F1-score rata-rata\n",
    "data02_c = data02['f1'].to_list()\n",
    "data02_c = sum(data02_c)/len(data02_c)*100\n",
    "# Menggabungkan semua nilai\n",
    "data02 = [data02_a, data02_b, data02_c]\n",
    "print(data02)"
   ]
  },
  {
   "cell_type": "code",
   "execution_count": 74,
   "id": "cb942681-13d8-4ae2-aaa0-d14ff422a92d",
   "metadata": {},
   "outputs": [
    {
     "name": "stdout",
     "output_type": "stream",
     "text": [
      "             presisi     recall  f-measure\n",
      "0     BoW  65.601899  55.833804  60.120033\n",
      "1  TF-IDF  72.616735  54.159701  61.766625\n"
     ]
    },
    {
     "data": {
      "image/png": "[encoded data removed]",
      "text/plain": [
       "<Figure size 432x288 with 1 Axes>"
      ]
     },
     "metadata": {},
     "output_type": "display_data"
    }
   ],
   "source": [
    "data = [['BoW', data01[0], data01[1], data01[2]],\n",
    "        ['TF-IDF', data02[0], data02[1], data02[2]]]\n",
    "\n",
    "dfx = pd.DataFrame(data, columns=['', 'presisi', 'recall', 'f-measure'])\n",
    "print(dfx)\n",
    "\n",
    "# plot multikolom dari dataframe\n",
    "sns.set_palette('ocean',3)\n",
    "ax = dfx.plot(x='', y=['presisi', 'recall', 'f-measure'], kind='bar')\n",
    "ax.set_ylabel('%')\n",
    "ax.set_title('Nilai rata-rata clasification report dengan 5-Fold CV')\n",
    "\n",
    "ax.yaxis.set_ticks(np.arange(0, 110, 10))\n",
    "lgd = ax.legend(loc='lower center', bbox_to_anchor=(0.5,-0.2), borderaxespad=0., ncol=3)\n",
    "plt.xticks(rotation=0, ha='center')\n",
    "\n",
    "\n",
    "## *Catatan: bbox_extra_artists harus berupa iterasi\n",
    "# plt.savefig('plot5b-SVM_oversampled_kfold_avg_cr_inset.png', bbox_extra_artists=(lgd,), bbox_inches='tight')\n",
    "plt.show()"
   ]
  },
  {
   "cell_type": "code",
   "execution_count": null,
   "id": "2462439e-e1d6-4015-a1b0-dfa40369d4c6",
   "metadata": {},
   "outputs": [],
   "source": []
  }
 ],
 "metadata": {
  "kernelspec": {
   "display_name": "Python 3 (ipykernel)",
   "language": "python",
   "name": "python3"
  },
  "language_info": {
   "codemirror_mode": {
    "name": "ipython",
    "version": 3
   },
   "file_extension": ".py",
   "mimetype": "text/x-python",
   "name": "python",
   "nbconvert_exporter": "python",
   "pygments_lexer": "ipython3",
   "version": "3.9.7"
  }
 },
 "nbformat": 4,
 "nbformat_minor": 5
}
